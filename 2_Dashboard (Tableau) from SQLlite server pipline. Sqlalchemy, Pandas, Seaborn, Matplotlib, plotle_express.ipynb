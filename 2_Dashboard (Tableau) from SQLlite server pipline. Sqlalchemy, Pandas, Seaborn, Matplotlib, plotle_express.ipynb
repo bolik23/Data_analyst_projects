{
 "cells": [
  {
   "cell_type": "markdown",
   "id": "e1456b23",
   "metadata": {},
   "source": [
    "## Building a Dashboard based on data from the SQLite database"
   ]
  },
  {
   "cell_type": "markdown",
   "id": "0f7ab106",
   "metadata": {},
   "source": [
    "Link to the dashboard: https://public.tableau.com/app/profile/bolik23/viz/NPS_16659296887410/DashboardFinal?publish=yes "
   ]
  },
  {
   "cell_type": "code",
   "execution_count": 3,
   "id": "237cb52e",
   "metadata": {},
   "outputs": [],
   "source": [
    "#importing libraries\n",
    "from sqlalchemy import create_engine #to connect to the database\n",
    "import pandas as pd #to work with data\n",
    "import plotly.express as px# to plot (if necessary)\n",
    "import seaborn as sns\n",
    "import matplotlib.pyplot as plt"
   ]
  },
  {
   "cell_type": "code",
   "execution_count": 4,
   "id": "5f5297e3",
   "metadata": {},
   "outputs": [],
   "source": [
    "##creating a path to connect to the database\n",
    "#path_to_db = r\"\\Users\\MacBook\\Documents\\Yandex_analitik\\Yandex_Projects\\Yandex_project_2 Telecom\\telecomm_csi.db\"\n",
    "path_to_db = '/datasets/telecomm_csi.db'\n",
    "engine = create_engine(f'sqlite:///{path_to_db}', echo = False)"
   ]
  },
  {
   "cell_type": "code",
   "execution_count": 5,
   "id": "e3380878",
   "metadata": {},
   "outputs": [],
   "source": [
    "#creating a format for uploading data from the database in SQL\n",
    "query = '''\n",
    "\n",
    "SELECT user.user_id AS user_id,\n",
    "        user.lt_day AS lt_day,\n",
    "\n",
    "        CASE \n",
    "            WHEN lt_day > 365 THEN 0\n",
    "            WHEN lt_day <= 365 THEN 1\n",
    "        END is_new,\n",
    "\n",
    "        user.age AS age,\n",
    "        REPLACE (REPLACE (user.gender_segment, 1.0, 'женщины'), 0.0, 'мужчины') AS gender_segment,\n",
    "        REPLACE(os_name, 'unknown', 'OTHER') AS os_name,\n",
    "        user.cpe_type_name AS cpe_type_name,\n",
    "        location.country AS country,\n",
    "        location.city AS city,\n",
    "        SUBSTR(age_segment.title, 4, 10) AS age_segment,\n",
    "        SUBSTR(traffic_segment.title, 4, 10) AS traffic_segment,\n",
    "        SUBSTR(lifetime_segment.title, 4,10) AS lifetime_segment, \n",
    "        user.nps_score AS nps_score,\n",
    "\n",
    "        CASE \n",
    "            WHEN nps_score >= 9 THEN 'cторонники'\n",
    "            WHEN nps_score BETWEEN 7 AND 8 THEN 'нейтралы'\n",
    "            WHEN nps_score <= 6 THEN 'критики'\n",
    "        END nps_group\n",
    "\n",
    "\n",
    "FROM user\n",
    "    INNER JOIN location ON user.location_id = location.location_id\n",
    "    INNER JOIN age_segment ON user.age_gr_id = age_segment.age_gr_id\n",
    "    INNER JOIN traffic_segment ON user.tr_gr_id = traffic_segment.tr_gr_id\n",
    "    INNER JOIN lifetime_segment ON user.lt_gr_id = lifetime_segment.lt_gr_id\n",
    "    \n",
    "WHERE nps_group <> 'OTHER'\n",
    "\n",
    "\n",
    "'''"
   ]
  },
  {
   "cell_type": "code",
   "execution_count": 7,
   "id": "e2a255ee",
   "metadata": {
    "scrolled": true
   },
   "outputs": [],
   "source": [
    "#creating a variable where we save the dataframe from the database generated above\n",
    "table = pd.read_sql(query, engine)"
   ]
  },
  {
   "cell_type": "code",
   "execution_count": 5,
   "id": "4a3e40d7",
   "metadata": {
    "scrolled": false
   },
   "outputs": [
    {
     "data": {
      "text/html": [
       "<div>\n",
       "<style scoped>\n",
       "    .dataframe tbody tr th:only-of-type {\n",
       "        vertical-align: middle;\n",
       "    }\n",
       "\n",
       "    .dataframe tbody tr th {\n",
       "        vertical-align: top;\n",
       "    }\n",
       "\n",
       "    .dataframe thead th {\n",
       "        text-align: right;\n",
       "    }\n",
       "</style>\n",
       "<table border=\"1\" class=\"dataframe\">\n",
       "  <thead>\n",
       "    <tr style=\"text-align: right;\">\n",
       "      <th></th>\n",
       "      <th>user_id</th>\n",
       "      <th>lt_day</th>\n",
       "      <th>is_new</th>\n",
       "      <th>age</th>\n",
       "      <th>gender_segment</th>\n",
       "      <th>os_name</th>\n",
       "      <th>cpe_type_name</th>\n",
       "      <th>country</th>\n",
       "      <th>city</th>\n",
       "      <th>age_segment</th>\n",
       "      <th>traffic_segment</th>\n",
       "      <th>lifetime_segment</th>\n",
       "      <th>nps_score</th>\n",
       "      <th>nps_group</th>\n",
       "    </tr>\n",
       "  </thead>\n",
       "  <tbody>\n",
       "    <tr>\n",
       "      <th>0</th>\n",
       "      <td>A001A2</td>\n",
       "      <td>2320</td>\n",
       "      <td>0</td>\n",
       "      <td>45.0</td>\n",
       "      <td>женщины</td>\n",
       "      <td>ANDROID</td>\n",
       "      <td>SMARTPHONE</td>\n",
       "      <td>Россия</td>\n",
       "      <td>Уфа</td>\n",
       "      <td>45-54</td>\n",
       "      <td>1-5</td>\n",
       "      <td>36+</td>\n",
       "      <td>10</td>\n",
       "      <td>cторонники</td>\n",
       "    </tr>\n",
       "    <tr>\n",
       "      <th>1</th>\n",
       "      <td>A001WF</td>\n",
       "      <td>2344</td>\n",
       "      <td>0</td>\n",
       "      <td>53.0</td>\n",
       "      <td>мужчины</td>\n",
       "      <td>ANDROID</td>\n",
       "      <td>SMARTPHONE</td>\n",
       "      <td>Россия</td>\n",
       "      <td>Киров</td>\n",
       "      <td>45-54</td>\n",
       "      <td>1-5</td>\n",
       "      <td>36+</td>\n",
       "      <td>10</td>\n",
       "      <td>cторонники</td>\n",
       "    </tr>\n",
       "    <tr>\n",
       "      <th>2</th>\n",
       "      <td>A003Q7</td>\n",
       "      <td>467</td>\n",
       "      <td>0</td>\n",
       "      <td>57.0</td>\n",
       "      <td>мужчины</td>\n",
       "      <td>ANDROID</td>\n",
       "      <td>SMARTPHONE</td>\n",
       "      <td>Россия</td>\n",
       "      <td>Москва</td>\n",
       "      <td>55-64</td>\n",
       "      <td>20-25</td>\n",
       "      <td>13-24</td>\n",
       "      <td>10</td>\n",
       "      <td>cторонники</td>\n",
       "    </tr>\n",
       "    <tr>\n",
       "      <th>3</th>\n",
       "      <td>A004TB</td>\n",
       "      <td>4190</td>\n",
       "      <td>0</td>\n",
       "      <td>44.0</td>\n",
       "      <td>женщины</td>\n",
       "      <td>IOS</td>\n",
       "      <td>SMARTPHONE</td>\n",
       "      <td>Россия</td>\n",
       "      <td>РостовнаДону</td>\n",
       "      <td>35-44</td>\n",
       "      <td>0.1-1</td>\n",
       "      <td>36+</td>\n",
       "      <td>10</td>\n",
       "      <td>cторонники</td>\n",
       "    </tr>\n",
       "    <tr>\n",
       "      <th>4</th>\n",
       "      <td>A004XT</td>\n",
       "      <td>1163</td>\n",
       "      <td>0</td>\n",
       "      <td>24.0</td>\n",
       "      <td>мужчины</td>\n",
       "      <td>ANDROID</td>\n",
       "      <td>SMARTPHONE</td>\n",
       "      <td>Россия</td>\n",
       "      <td>Рязань</td>\n",
       "      <td>16-24</td>\n",
       "      <td>5-10</td>\n",
       "      <td>36+</td>\n",
       "      <td>10</td>\n",
       "      <td>cторонники</td>\n",
       "    </tr>\n",
       "  </tbody>\n",
       "</table>\n",
       "</div>"
      ],
      "text/plain": [
       "  user_id  lt_day  is_new   age gender_segment  os_name cpe_type_name country  \\\n",
       "0  A001A2    2320       0  45.0        женщины  ANDROID    SMARTPHONE  Россия   \n",
       "1  A001WF    2344       0  53.0        мужчины  ANDROID    SMARTPHONE  Россия   \n",
       "2  A003Q7     467       0  57.0        мужчины  ANDROID    SMARTPHONE  Россия   \n",
       "3  A004TB    4190       0  44.0        женщины      IOS    SMARTPHONE  Россия   \n",
       "4  A004XT    1163       0  24.0        мужчины  ANDROID    SMARTPHONE  Россия   \n",
       "\n",
       "           city age_segment traffic_segment lifetime_segment  nps_score  \\\n",
       "0           Уфа       45-54             1-5              36+         10   \n",
       "1         Киров       45-54             1-5              36+         10   \n",
       "2        Москва       55-64           20-25            13-24         10   \n",
       "3  РостовнаДону       35-44           0.1-1              36+         10   \n",
       "4        Рязань       16-24            5-10              36+         10   \n",
       "\n",
       "    nps_group  \n",
       "0  cторонники  \n",
       "1  cторонники  \n",
       "2  cторонники  \n",
       "3  cторонники  \n",
       "4  cторонники  "
      ]
     },
     "execution_count": 5,
     "metadata": {},
     "output_type": "execute_result"
    }
   ],
   "source": [
    "#let's look at the data\n",
    "pd.options.display.max_columns = None\n",
    "table.head(5)"
   ]
  },
  {
   "cell_type": "code",
   "execution_count": 11,
   "id": "13d7b05d",
   "metadata": {
    "scrolled": false
   },
   "outputs": [
    {
     "data": {
      "text/html": [
       "<div>\n",
       "<style scoped>\n",
       "    .dataframe tbody tr th:only-of-type {\n",
       "        vertical-align: middle;\n",
       "    }\n",
       "\n",
       "    .dataframe tbody tr th {\n",
       "        vertical-align: top;\n",
       "    }\n",
       "\n",
       "    .dataframe thead th {\n",
       "        text-align: right;\n",
       "    }\n",
       "</style>\n",
       "<table border=\"1\" class=\"dataframe\">\n",
       "  <thead>\n",
       "    <tr style=\"text-align: right;\">\n",
       "      <th></th>\n",
       "      <th>lifetime_segment</th>\n",
       "      <th>1</th>\n",
       "      <th>13-24</th>\n",
       "      <th>2</th>\n",
       "      <th>25-36</th>\n",
       "      <th>3</th>\n",
       "      <th>36+</th>\n",
       "      <th>4-6</th>\n",
       "      <th>7-12</th>\n",
       "    </tr>\n",
       "    <tr>\n",
       "      <th>gender_segment</th>\n",
       "      <th>age_segment</th>\n",
       "      <th></th>\n",
       "      <th></th>\n",
       "      <th></th>\n",
       "      <th></th>\n",
       "      <th></th>\n",
       "      <th></th>\n",
       "      <th></th>\n",
       "      <th></th>\n",
       "    </tr>\n",
       "  </thead>\n",
       "  <tbody>\n",
       "    <tr>\n",
       "      <th rowspan=\"8\" valign=\"top\">женщины</th>\n",
       "      <th>16-24</th>\n",
       "      <td>NaN</td>\n",
       "      <td>-0.634409</td>\n",
       "      <td>-0.617761</td>\n",
       "      <td>-0.635873</td>\n",
       "      <td>-0.631356</td>\n",
       "      <td>-0.668549</td>\n",
       "      <td>-0.580407</td>\n",
       "      <td>-0.570975</td>\n",
       "    </tr>\n",
       "    <tr>\n",
       "      <th>25-34</th>\n",
       "      <td>NaN</td>\n",
       "      <td>-0.644232</td>\n",
       "      <td>-0.660501</td>\n",
       "      <td>-0.649743</td>\n",
       "      <td>-0.599734</td>\n",
       "      <td>-0.671358</td>\n",
       "      <td>-0.628445</td>\n",
       "      <td>-0.633696</td>\n",
       "    </tr>\n",
       "    <tr>\n",
       "      <th>35-44</th>\n",
       "      <td>-1.0</td>\n",
       "      <td>-0.641535</td>\n",
       "      <td>-0.586260</td>\n",
       "      <td>-0.643478</td>\n",
       "      <td>-0.624542</td>\n",
       "      <td>-0.652918</td>\n",
       "      <td>-0.596677</td>\n",
       "      <td>-0.625705</td>\n",
       "    </tr>\n",
       "    <tr>\n",
       "      <th>45-54</th>\n",
       "      <td>NaN</td>\n",
       "      <td>-0.642596</td>\n",
       "      <td>-0.627615</td>\n",
       "      <td>-0.637224</td>\n",
       "      <td>-0.554913</td>\n",
       "      <td>-0.639517</td>\n",
       "      <td>-0.642241</td>\n",
       "      <td>-0.609827</td>\n",
       "    </tr>\n",
       "    <tr>\n",
       "      <th>55-64</th>\n",
       "      <td>NaN</td>\n",
       "      <td>-0.636106</td>\n",
       "      <td>-0.492754</td>\n",
       "      <td>-0.648077</td>\n",
       "      <td>-0.629032</td>\n",
       "      <td>-0.664642</td>\n",
       "      <td>-0.678363</td>\n",
       "      <td>-0.600575</td>\n",
       "    </tr>\n",
       "    <tr>\n",
       "      <th>66 +</th>\n",
       "      <td>NaN</td>\n",
       "      <td>-0.641104</td>\n",
       "      <td>-0.642857</td>\n",
       "      <td>-0.632653</td>\n",
       "      <td>-0.571429</td>\n",
       "      <td>-0.654031</td>\n",
       "      <td>-0.653061</td>\n",
       "      <td>-0.636364</td>\n",
       "    </tr>\n",
       "    <tr>\n",
       "      <th>n/a</th>\n",
       "      <td>NaN</td>\n",
       "      <td>0.000000</td>\n",
       "      <td>NaN</td>\n",
       "      <td>-1.000000</td>\n",
       "      <td>NaN</td>\n",
       "      <td>-0.800000</td>\n",
       "      <td>NaN</td>\n",
       "      <td>NaN</td>\n",
       "    </tr>\n",
       "    <tr>\n",
       "      <th>до 16</th>\n",
       "      <td>NaN</td>\n",
       "      <td>-0.617647</td>\n",
       "      <td>-0.666667</td>\n",
       "      <td>-0.818182</td>\n",
       "      <td>-1.000000</td>\n",
       "      <td>-0.714286</td>\n",
       "      <td>-0.555556</td>\n",
       "      <td>-0.818182</td>\n",
       "    </tr>\n",
       "    <tr>\n",
       "      <th rowspan=\"8\" valign=\"top\">мужчины</th>\n",
       "      <th>16-24</th>\n",
       "      <td>NaN</td>\n",
       "      <td>-0.605905</td>\n",
       "      <td>-0.630094</td>\n",
       "      <td>-0.643630</td>\n",
       "      <td>-0.547529</td>\n",
       "      <td>-0.667709</td>\n",
       "      <td>-0.580205</td>\n",
       "      <td>-0.602927</td>\n",
       "    </tr>\n",
       "    <tr>\n",
       "      <th>25-34</th>\n",
       "      <td>0.0</td>\n",
       "      <td>-0.665972</td>\n",
       "      <td>-0.652456</td>\n",
       "      <td>-0.658537</td>\n",
       "      <td>-0.646552</td>\n",
       "      <td>-0.675958</td>\n",
       "      <td>-0.626632</td>\n",
       "      <td>-0.637789</td>\n",
       "    </tr>\n",
       "    <tr>\n",
       "      <th>35-44</th>\n",
       "      <td>-1.0</td>\n",
       "      <td>-0.625023</td>\n",
       "      <td>-0.649123</td>\n",
       "      <td>-0.647960</td>\n",
       "      <td>-0.611006</td>\n",
       "      <td>-0.650013</td>\n",
       "      <td>-0.598406</td>\n",
       "      <td>-0.611611</td>\n",
       "    </tr>\n",
       "    <tr>\n",
       "      <th>45-54</th>\n",
       "      <td>NaN</td>\n",
       "      <td>-0.593592</td>\n",
       "      <td>-0.533333</td>\n",
       "      <td>-0.608632</td>\n",
       "      <td>-0.549020</td>\n",
       "      <td>-0.626046</td>\n",
       "      <td>-0.583893</td>\n",
       "      <td>-0.582876</td>\n",
       "    </tr>\n",
       "    <tr>\n",
       "      <th>55-64</th>\n",
       "      <td>NaN</td>\n",
       "      <td>-0.600499</td>\n",
       "      <td>-0.593220</td>\n",
       "      <td>-0.611625</td>\n",
       "      <td>-0.750000</td>\n",
       "      <td>-0.609063</td>\n",
       "      <td>-0.657143</td>\n",
       "      <td>-0.580858</td>\n",
       "    </tr>\n",
       "    <tr>\n",
       "      <th>66 +</th>\n",
       "      <td>NaN</td>\n",
       "      <td>-0.552174</td>\n",
       "      <td>-0.666667</td>\n",
       "      <td>-0.647059</td>\n",
       "      <td>-0.666667</td>\n",
       "      <td>-0.573290</td>\n",
       "      <td>-0.531250</td>\n",
       "      <td>-0.556962</td>\n",
       "    </tr>\n",
       "    <tr>\n",
       "      <th>n/a</th>\n",
       "      <td>0.0</td>\n",
       "      <td>-1.000000</td>\n",
       "      <td>-1.000000</td>\n",
       "      <td>-1.000000</td>\n",
       "      <td>NaN</td>\n",
       "      <td>-0.818182</td>\n",
       "      <td>-0.500000</td>\n",
       "      <td>-1.000000</td>\n",
       "    </tr>\n",
       "    <tr>\n",
       "      <th>до 16</th>\n",
       "      <td>NaN</td>\n",
       "      <td>-0.458333</td>\n",
       "      <td>-0.666667</td>\n",
       "      <td>-0.543478</td>\n",
       "      <td>-0.800000</td>\n",
       "      <td>-0.666667</td>\n",
       "      <td>-0.600000</td>\n",
       "      <td>-0.619048</td>\n",
       "    </tr>\n",
       "  </tbody>\n",
       "</table>\n",
       "</div>"
      ],
      "text/plain": [
       "lifetime_segment              1     13-24         2     25-36         3  \\\n",
       "gender_segment age_segment                                                \n",
       "женщины        16-24        NaN -0.634409 -0.617761 -0.635873 -0.631356   \n",
       "               25-34        NaN -0.644232 -0.660501 -0.649743 -0.599734   \n",
       "               35-44       -1.0 -0.641535 -0.586260 -0.643478 -0.624542   \n",
       "               45-54        NaN -0.642596 -0.627615 -0.637224 -0.554913   \n",
       "               55-64        NaN -0.636106 -0.492754 -0.648077 -0.629032   \n",
       "               66 +         NaN -0.641104 -0.642857 -0.632653 -0.571429   \n",
       "               n/a          NaN  0.000000       NaN -1.000000       NaN   \n",
       "               до 16        NaN -0.617647 -0.666667 -0.818182 -1.000000   \n",
       "мужчины        16-24        NaN -0.605905 -0.630094 -0.643630 -0.547529   \n",
       "               25-34        0.0 -0.665972 -0.652456 -0.658537 -0.646552   \n",
       "               35-44       -1.0 -0.625023 -0.649123 -0.647960 -0.611006   \n",
       "               45-54        NaN -0.593592 -0.533333 -0.608632 -0.549020   \n",
       "               55-64        NaN -0.600499 -0.593220 -0.611625 -0.750000   \n",
       "               66 +         NaN -0.552174 -0.666667 -0.647059 -0.666667   \n",
       "               n/a          0.0 -1.000000 -1.000000 -1.000000       NaN   \n",
       "               до 16        NaN -0.458333 -0.666667 -0.543478 -0.800000   \n",
       "\n",
       "lifetime_segment                 36+       4-6      7-12  \n",
       "gender_segment age_segment                                \n",
       "женщины        16-24       -0.668549 -0.580407 -0.570975  \n",
       "               25-34       -0.671358 -0.628445 -0.633696  \n",
       "               35-44       -0.652918 -0.596677 -0.625705  \n",
       "               45-54       -0.639517 -0.642241 -0.609827  \n",
       "               55-64       -0.664642 -0.678363 -0.600575  \n",
       "               66 +        -0.654031 -0.653061 -0.636364  \n",
       "               n/a         -0.800000       NaN       NaN  \n",
       "               до 16       -0.714286 -0.555556 -0.818182  \n",
       "мужчины        16-24       -0.667709 -0.580205 -0.602927  \n",
       "               25-34       -0.675958 -0.626632 -0.637789  \n",
       "               35-44       -0.650013 -0.598406 -0.611611  \n",
       "               45-54       -0.626046 -0.583893 -0.582876  \n",
       "               55-64       -0.609063 -0.657143 -0.580858  \n",
       "               66 +        -0.573290 -0.531250 -0.556962  \n",
       "               n/a         -0.818182 -0.500000 -1.000000  \n",
       "               до 16       -0.666667 -0.600000 -0.619048  "
      ]
     },
     "metadata": {},
     "output_type": "display_data"
    },
    {
     "data": {
      "image/png": "[encoded data removed]",
      "text/plain": [
       "<Figure size 1080x576 with 2 Axes>"
      ]
     },
     "metadata": {
      "needs_background": "light"
     },
     "output_type": "display_data"
    }
   ],
   "source": [
    "#heatmap\n",
    "d = table.assign(total_nps=lambda row: row['nps_group'].map({'сторонники': 1, 'нейтралы': 0, 'критики': -1}))\\\n",
    "  .pivot_table(index=['gender_segment', 'age_segment'], columns=['lifetime_segment'], values='total_nps', aggfunc='mean')\n",
    "display(d)\n",
    "plt.figure(figsize=(15,8))\n",
    "sns.heatmap(d, annot=True);"
   ]
  }
 ],
 "metadata": {
  "ExecuteTimeLog": [
   {
    "duration": 598,
    "start_time": "2022-10-19T15:05:09.022Z"
   },
   {
    "duration": 10,
    "start_time": "2022-10-19T15:05:09.622Z"
   },
   {
    "duration": 4,
    "start_time": "2022-10-19T15:05:09.634Z"
   },
   {
    "duration": 5308,
    "start_time": "2022-10-19T15:05:09.639Z"
   },
   {
    "duration": 19,
    "start_time": "2022-10-19T15:05:14.949Z"
   },
   {
    "duration": 579,
    "start_time": "2022-10-19T15:05:14.970Z"
   },
   {
    "duration": 746,
    "start_time": "2022-10-19T15:05:15.551Z"
   },
   {
    "duration": 64,
    "start_time": "2022-10-19T15:05:16.299Z"
   },
   {
    "duration": 77,
    "start_time": "2022-10-19T15:05:16.365Z"
   },
   {
    "duration": 15,
    "start_time": "2022-10-19T15:05:16.443Z"
   },
   {
    "duration": 5,
    "start_time": "2022-10-19T15:05:16.459Z"
   },
   {
    "duration": 84,
    "start_time": "2022-10-19T15:05:16.466Z"
   },
   {
    "duration": 0,
    "start_time": "2022-10-19T15:05:16.553Z"
   },
   {
    "duration": 2428,
    "start_time": "2022-10-19T15:08:48.393Z"
   },
   {
    "duration": 9,
    "start_time": "2022-10-20T07:57:40.780Z"
   },
   {
    "duration": 46,
    "start_time": "2022-10-20T07:57:46.242Z"
   },
   {
    "duration": 644,
    "start_time": "2022-10-20T07:57:51.029Z"
   },
   {
    "duration": 48,
    "start_time": "2022-10-20T07:57:51.707Z"
   },
   {
    "duration": 4,
    "start_time": "2022-10-20T07:57:56.382Z"
   },
   {
    "duration": 5499,
    "start_time": "2022-10-20T07:57:58.531Z"
   },
   {
    "duration": 30,
    "start_time": "2022-10-20T07:58:04.032Z"
   },
   {
    "duration": 101,
    "start_time": "2022-10-20T07:58:43.132Z"
   },
   {
    "duration": 3,
    "start_time": "2022-10-20T07:58:57.156Z"
   },
   {
    "duration": 5342,
    "start_time": "2022-10-20T07:59:02.132Z"
   },
   {
    "duration": 14,
    "start_time": "2022-10-20T07:59:07.476Z"
   },
   {
    "duration": 108,
    "start_time": "2022-10-20T07:59:12.648Z"
   },
   {
    "duration": 5,
    "start_time": "2022-10-20T07:59:22.580Z"
   },
   {
    "duration": 5504,
    "start_time": "2022-10-20T07:59:24.464Z"
   },
   {
    "duration": 14,
    "start_time": "2022-10-20T07:59:29.970Z"
   },
   {
    "duration": 118,
    "start_time": "2022-10-20T07:59:31.512Z"
   },
   {
    "duration": 3,
    "start_time": "2022-10-20T07:59:46.408Z"
   },
   {
    "duration": 4,
    "start_time": "2022-10-20T07:59:46.868Z"
   },
   {
    "duration": 4,
    "start_time": "2022-10-20T07:59:48.249Z"
   },
   {
    "duration": 5309,
    "start_time": "2022-10-20T07:59:50.113Z"
   },
   {
    "duration": 16,
    "start_time": "2022-10-20T07:59:55.425Z"
   },
   {
    "duration": 731,
    "start_time": "2022-10-20T07:59:56.006Z"
   },
   {
    "duration": 96,
    "start_time": "2022-10-20T07:59:56.740Z"
   },
   {
    "duration": 2,
    "start_time": "2022-10-20T08:00:23.056Z"
   },
   {
    "duration": 577,
    "start_time": "2022-10-20T09:54:07.210Z"
   },
   {
    "duration": 8,
    "start_time": "2022-10-20T09:54:07.789Z"
   },
   {
    "duration": 3,
    "start_time": "2022-10-20T09:54:08.584Z"
   },
   {
    "duration": 5350,
    "start_time": "2022-10-20T09:54:11.482Z"
   },
   {
    "duration": 25,
    "start_time": "2022-10-20T09:54:16.833Z"
   },
   {
    "duration": 111,
    "start_time": "2022-10-20T09:54:37.940Z"
   },
   {
    "duration": 90,
    "start_time": "2022-10-20T09:54:46.710Z"
   },
   {
    "duration": 541,
    "start_time": "2022-10-20T09:54:53.350Z"
   },
   {
    "duration": 133,
    "start_time": "2022-10-20T09:54:55.822Z"
   },
   {
    "duration": 2,
    "start_time": "2022-10-20T09:55:02.102Z"
   },
   {
    "duration": 88,
    "start_time": "2022-10-20T09:55:04.307Z"
   },
   {
    "duration": 4876,
    "start_time": "2022-10-20T09:55:12.532Z"
   },
   {
    "duration": 12,
    "start_time": "2022-10-20T09:55:17.410Z"
   },
   {
    "duration": 97,
    "start_time": "2022-10-20T09:55:17.423Z"
   },
   {
    "duration": 2,
    "start_time": "2022-10-20T09:55:50.598Z"
   },
   {
    "duration": 693,
    "start_time": "2022-10-20T09:55:56.607Z"
   },
   {
    "duration": 3,
    "start_time": "2022-10-20T09:56:13.144Z"
   },
   {
    "duration": 626,
    "start_time": "2022-10-20T09:56:14.775Z"
   },
   {
    "duration": 3,
    "start_time": "2022-10-20T09:56:57.084Z"
   },
   {
    "duration": 642,
    "start_time": "2022-10-20T09:56:58.039Z"
   },
   {
    "duration": 4,
    "start_time": "2022-10-20T10:00:36.288Z"
   },
   {
    "duration": 615,
    "start_time": "2022-10-20T10:00:37.409Z"
   },
   {
    "duration": 3,
    "start_time": "2022-10-20T10:00:59.025Z"
   },
   {
    "duration": 666,
    "start_time": "2022-10-20T10:00:59.738Z"
   },
   {
    "duration": 4,
    "start_time": "2022-10-20T10:01:05.831Z"
   },
   {
    "duration": 410,
    "start_time": "2022-10-20T10:01:07.000Z"
   },
   {
    "duration": 3,
    "start_time": "2022-10-20T10:01:14.045Z"
   },
   {
    "duration": 5407,
    "start_time": "2022-10-20T10:01:14.696Z"
   },
   {
    "duration": 15,
    "start_time": "2022-10-20T10:01:20.105Z"
   },
   {
    "duration": 96,
    "start_time": "2022-10-20T10:01:26.409Z"
   },
   {
    "duration": 3,
    "start_time": "2022-10-20T10:01:50.092Z"
   },
   {
    "duration": 5309,
    "start_time": "2022-10-20T10:01:51.570Z"
   },
   {
    "duration": 15,
    "start_time": "2022-10-20T10:01:56.881Z"
   },
   {
    "duration": 95,
    "start_time": "2022-10-20T10:01:58.074Z"
   },
   {
    "duration": 3,
    "start_time": "2022-10-20T10:06:06.533Z"
   },
   {
    "duration": 371,
    "start_time": "2022-10-20T10:06:12.010Z"
   },
   {
    "duration": 376,
    "start_time": "2022-10-20T11:44:03.095Z"
   },
   {
    "duration": 3,
    "start_time": "2022-10-20T11:44:06.541Z"
   },
   {
    "duration": 349,
    "start_time": "2022-10-20T11:44:07.277Z"
   },
   {
    "duration": 3,
    "start_time": "2022-10-20T11:44:21.674Z"
   },
   {
    "duration": 5124,
    "start_time": "2022-10-20T11:44:23.434Z"
   },
   {
    "duration": 13,
    "start_time": "2022-10-20T11:44:28.560Z"
   },
   {
    "duration": 107,
    "start_time": "2022-10-20T11:44:30.078Z"
   },
   {
    "duration": 601,
    "start_time": "2022-10-20T13:12:01.659Z"
   },
   {
    "duration": 46,
    "start_time": "2022-10-20T13:12:02.262Z"
   },
   {
    "duration": 5,
    "start_time": "2022-10-20T13:12:02.801Z"
   },
   {
    "duration": 333,
    "start_time": "2022-10-20T13:12:07.132Z"
   },
   {
    "duration": 5,
    "start_time": "2022-10-20T13:12:32.887Z"
   },
   {
    "duration": 254,
    "start_time": "2022-10-20T13:12:33.876Z"
   },
   {
    "duration": 4,
    "start_time": "2022-10-20T13:12:53.140Z"
   },
   {
    "duration": 170,
    "start_time": "2022-10-20T13:12:53.985Z"
   },
   {
    "duration": 4,
    "start_time": "2022-10-20T13:19:29.722Z"
   },
   {
    "duration": 208,
    "start_time": "2022-10-20T13:19:34.126Z"
   },
   {
    "duration": 3,
    "start_time": "2022-10-20T13:20:11.706Z"
   },
   {
    "duration": 203,
    "start_time": "2022-10-20T13:20:12.702Z"
   },
   {
    "duration": 7,
    "start_time": "2022-10-20T13:20:13.279Z"
   },
   {
    "duration": 3,
    "start_time": "2022-10-20T13:20:19.454Z"
   },
   {
    "duration": 217,
    "start_time": "2022-10-20T13:20:20.375Z"
   },
   {
    "duration": 4,
    "start_time": "2022-10-20T13:20:28.038Z"
   },
   {
    "duration": 210,
    "start_time": "2022-10-20T13:20:28.932Z"
   },
   {
    "duration": 3,
    "start_time": "2022-10-20T13:42:21.557Z"
   },
   {
    "duration": 241,
    "start_time": "2022-10-20T13:42:24.974Z"
   },
   {
    "duration": 3,
    "start_time": "2022-10-20T13:42:33.476Z"
   },
   {
    "duration": 167,
    "start_time": "2022-10-20T13:42:34.644Z"
   },
   {
    "duration": 3,
    "start_time": "2022-10-20T13:42:53.708Z"
   },
   {
    "duration": 212,
    "start_time": "2022-10-20T13:42:55.161Z"
   },
   {
    "duration": 4,
    "start_time": "2022-10-20T13:49:22.570Z"
   },
   {
    "duration": 4,
    "start_time": "2022-10-20T13:49:23.725Z"
   },
   {
    "duration": 3,
    "start_time": "2022-10-20T13:49:31.750Z"
   },
   {
    "duration": 3,
    "start_time": "2022-10-20T13:49:52.643Z"
   },
   {
    "duration": 479,
    "start_time": "2022-10-20T13:49:54.545Z"
   },
   {
    "duration": 4,
    "start_time": "2022-10-20T13:50:23.017Z"
   },
   {
    "duration": 3,
    "start_time": "2022-10-20T13:50:23.425Z"
   },
   {
    "duration": 4,
    "start_time": "2022-10-20T13:50:24.473Z"
   },
   {
    "duration": 315,
    "start_time": "2022-10-20T13:50:25.677Z"
   },
   {
    "duration": 4,
    "start_time": "2022-10-20T13:51:36.231Z"
   },
   {
    "duration": 3,
    "start_time": "2022-10-20T13:51:38.425Z"
   },
   {
    "duration": 317,
    "start_time": "2022-10-20T13:51:39.659Z"
   },
   {
    "duration": 4,
    "start_time": "2022-10-20T13:53:09.185Z"
   },
   {
    "duration": 355,
    "start_time": "2022-10-20T13:53:11.589Z"
   },
   {
    "duration": 4,
    "start_time": "2022-10-20T13:55:34.121Z"
   },
   {
    "duration": 3,
    "start_time": "2022-10-20T13:55:36.388Z"
   },
   {
    "duration": 305,
    "start_time": "2022-10-20T13:55:42.691Z"
   },
   {
    "duration": 4,
    "start_time": "2022-10-20T13:56:26.837Z"
   },
   {
    "duration": 2,
    "start_time": "2022-10-20T13:56:34.745Z"
   },
   {
    "duration": 3,
    "start_time": "2022-10-20T13:56:35.078Z"
   },
   {
    "duration": 3,
    "start_time": "2022-10-20T13:56:36.135Z"
   },
   {
    "duration": 299,
    "start_time": "2022-10-20T13:56:37.408Z"
   },
   {
    "duration": 3,
    "start_time": "2022-10-20T13:58:17.168Z"
   },
   {
    "duration": 2,
    "start_time": "2022-10-20T13:58:17.762Z"
   },
   {
    "duration": 332,
    "start_time": "2022-10-20T13:58:18.867Z"
   },
   {
    "duration": 3,
    "start_time": "2022-10-20T13:59:25.904Z"
   },
   {
    "duration": 331,
    "start_time": "2022-10-20T13:59:26.900Z"
   },
   {
    "duration": 4,
    "start_time": "2022-10-20T14:00:00.583Z"
   },
   {
    "duration": 3,
    "start_time": "2022-10-20T14:00:01.416Z"
   },
   {
    "duration": 4670,
    "start_time": "2022-10-20T14:00:02.868Z"
   },
   {
    "duration": 20,
    "start_time": "2022-10-20T14:00:07.540Z"
   },
   {
    "duration": 3,
    "start_time": "2022-10-20T14:08:04.424Z"
   },
   {
    "duration": 244,
    "start_time": "2022-10-20T14:08:05.227Z"
   },
   {
    "duration": 4,
    "start_time": "2022-10-20T14:08:27.976Z"
   },
   {
    "duration": 263,
    "start_time": "2022-10-20T14:08:29.218Z"
   },
   {
    "duration": 3,
    "start_time": "2022-10-20T14:08:36.165Z"
   },
   {
    "duration": 257,
    "start_time": "2022-10-20T14:08:36.933Z"
   },
   {
    "duration": 608,
    "start_time": "2022-10-21T05:57:31.901Z"
   },
   {
    "duration": 21,
    "start_time": "2022-10-21T05:57:32.511Z"
   },
   {
    "duration": 3,
    "start_time": "2022-10-21T05:57:33.600Z"
   },
   {
    "duration": 5082,
    "start_time": "2022-10-21T05:57:36.109Z"
   },
   {
    "duration": 23,
    "start_time": "2022-10-21T05:57:41.193Z"
   },
   {
    "duration": 48,
    "start_time": "2022-10-21T05:59:13.018Z"
   },
   {
    "duration": 48,
    "start_time": "2022-10-21T06:00:11.740Z"
   },
   {
    "duration": 44,
    "start_time": "2022-10-21T06:00:23.750Z"
   },
   {
    "duration": 3,
    "start_time": "2022-10-21T06:00:45.224Z"
   },
   {
    "duration": 3,
    "start_time": "2022-10-21T06:00:45.617Z"
   },
   {
    "duration": 58,
    "start_time": "2022-10-21T06:00:47.068Z"
   },
   {
    "duration": 71,
    "start_time": "2022-10-21T06:01:05.914Z"
   },
   {
    "duration": 53,
    "start_time": "2022-10-21T06:01:15.181Z"
   },
   {
    "duration": 90,
    "start_time": "2022-10-21T06:04:26.803Z"
   },
   {
    "duration": 2,
    "start_time": "2022-10-21T06:06:31.529Z"
   },
   {
    "duration": 3,
    "start_time": "2022-10-21T06:06:35.919Z"
   },
   {
    "duration": 14,
    "start_time": "2022-10-21T06:06:35.925Z"
   },
   {
    "duration": 6,
    "start_time": "2022-10-21T06:06:35.941Z"
   },
   {
    "duration": 4665,
    "start_time": "2022-10-21T06:06:35.948Z"
   },
   {
    "duration": 13,
    "start_time": "2022-10-21T06:06:40.615Z"
   },
   {
    "duration": 5,
    "start_time": "2022-10-21T06:06:40.630Z"
   },
   {
    "duration": 5,
    "start_time": "2022-10-21T06:06:40.636Z"
   },
   {
    "duration": 3,
    "start_time": "2022-10-21T06:06:40.643Z"
   },
   {
    "duration": 6,
    "start_time": "2022-10-21T06:06:40.648Z"
   },
   {
    "duration": 15,
    "start_time": "2022-10-21T06:06:40.655Z"
   },
   {
    "duration": 3775,
    "start_time": "2022-10-21T06:06:40.671Z"
   },
   {
    "duration": 2780,
    "start_time": "2022-10-21T06:06:44.448Z"
   },
   {
    "duration": 3,
    "start_time": "2022-10-21T06:07:04.533Z"
   },
   {
    "duration": 602,
    "start_time": "2022-10-21T10:29:29.459Z"
   },
   {
    "duration": 21,
    "start_time": "2022-10-21T10:29:30.063Z"
   },
   {
    "duration": 4,
    "start_time": "2022-10-21T10:29:30.085Z"
   },
   {
    "duration": 6867,
    "start_time": "2022-10-21T10:29:30.090Z"
   },
   {
    "duration": 20,
    "start_time": "2022-10-21T10:29:36.960Z"
   },
   {
    "duration": 10,
    "start_time": "2022-10-21T10:29:36.981Z"
   },
   {
    "duration": 2,
    "start_time": "2022-10-21T10:29:36.993Z"
   },
   {
    "duration": 6,
    "start_time": "2022-10-21T10:29:36.996Z"
   },
   {
    "duration": 11,
    "start_time": "2022-10-21T10:29:37.004Z"
   },
   {
    "duration": 6,
    "start_time": "2022-10-21T10:29:37.016Z"
   },
   {
    "duration": 2340,
    "start_time": "2022-10-21T10:29:37.023Z"
   }
  ],
  "kernelspec": {
   "display_name": "Python 3 (ipykernel)",
   "language": "python",
   "name": "python3"
  },
  "language_info": {
   "codemirror_mode": {
    "name": "ipython",
    "version": 3
   },
   "file_extension": ".py",
   "mimetype": "text/x-python",
   "name": "python",
   "nbconvert_exporter": "python",
   "pygments_lexer": "ipython3",
   "version": "3.9.12"
  },
  "toc": {
   "base_numbering": 1,
   "nav_menu": {},
   "number_sections": true,
   "sideBar": true,
   "skip_h1_title": true,
   "title_cell": "Table of Contents",
   "title_sidebar": "Contents",
   "toc_cell": false,
   "toc_position": {},
   "toc_section_display": true,
   "toc_window_display": false
  }
 },
 "nbformat": 4,
 "nbformat_minor": 5
}
