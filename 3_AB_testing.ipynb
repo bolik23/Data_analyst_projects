{
 "cells": [
  {
   "cell_type": "markdown",
   "metadata": {},
   "source": [
    "# Hypothesis prioritization (ICE, ICE), A-B testing"
   ]
  },
  {
   "cell_type": "markdown",
   "metadata": {},
   "source": [
    "# Project Description \n",
    "The project consists of two blocks:\n",
    "1. Prioritization of hypotheses\n",
    "2. A-B testing"
   ]
  },
  {
   "cell_type": "markdown",
   "metadata": {},
   "source": [
    "# Goal\n",
    "The goal of the first block is to specify a list of the most priority hypotheses according to two methods - ICE, ICE.\n",
    "The second block is the analysis of the results of the A-B test"
   ]
  },
  {
   "cell_type": "markdown",
   "metadata": {},
   "source": [
    "# Data Description\n",
    "The first block presents data with a list of hypotheses and an estimate of parameters for calculating ICE, ICE indicators\n",
    "In the second block, the data is presented in two sets: information on orders (orders) and information on visitors (visitors)."
   ]
  },
  {
   "cell_type": "markdown",
   "metadata": {},
   "source": [
    "# Project plan\n",
    "In the first block, it is necessary to apply two frameworks to identify the most priority hypotheses.\n",
    "In the second block , it is necessary:\n",
    "- to carry out preliminary data processing (checking for duplicates, omissions, data formats, abnormal values, possible data errors),\n",
    "- to prepare intermediate dataframes for analyzing the results of the A-B test, namely: dataframes with cumulative indicators of the parameters under study (vyrka, number of orders, average receipt, number of visitors), to determine 99 and 95 percentiles in the context of the studied parameters.\n",
    "- - on the basis of intermediate dataframes, to determine the statistical significance of the differences of the studied parameters in groups A and B for \"raw\" and \"purified\" data\n",
    "- formulate the general conclusion of the analysis"
   ]
  },
  {
   "cell_type": "code",
   "execution_count": 1,
   "metadata": {},
   "outputs": [],
   "source": [
    "#Importing libraries\n",
    "import pandas as pd\n",
    "import matplotlib.pyplot as plt\n",
    "from matplotlib.pyplot import figure\n",
    "import datetime as dt\n",
    "import numpy as np\n",
    "from pandas.plotting import register_matplotlib_converters\n",
    "import scipy.stats as stats\n",
    "import warnings\n",
    "import seaborn as sns\n",
    "import warnings\n",
    "warnings.filterwarnings(\"ignore\")\n",
    "import plotly.express as px\n",
    "import plotly.graph_objs as go\n"
   ]
  },
  {
   "cell_type": "markdown",
   "metadata": {},
   "source": [
    "## Prioritization of hypotheses"
   ]
  },
  {
   "cell_type": "code",
   "execution_count": 2,
   "metadata": {},
   "outputs": [],
   "source": [
    "##opening the data file\n",
    "hypotheses = pd.read_csv(r'C:\\Users\\MacBook\\Downloads\\hypothesis.csv')"
   ]
  },
  {
   "cell_type": "code",
   "execution_count": 3,
   "metadata": {},
   "outputs": [],
   "source": [
    "pd.set_option('display.max_colwidth', None)"
   ]
  },
  {
   "cell_type": "code",
   "execution_count": 4,
   "metadata": {
    "scrolled": true
   },
   "outputs": [
    {
     "data": {
      "text/html": [
       "<div>\n",
       "<style scoped>\n",
       "    .dataframe tbody tr th:only-of-type {\n",
       "        vertical-align: middle;\n",
       "    }\n",
       "\n",
       "    .dataframe tbody tr th {\n",
       "        vertical-align: top;\n",
       "    }\n",
       "\n",
       "    .dataframe thead th {\n",
       "        text-align: right;\n",
       "    }\n",
       "</style>\n",
       "<table border=\"1\" class=\"dataframe\">\n",
       "  <thead>\n",
       "    <tr style=\"text-align: right;\">\n",
       "      <th></th>\n",
       "      <th>Hypothesis</th>\n",
       "      <th>Reach</th>\n",
       "      <th>Impact</th>\n",
       "      <th>Confidence</th>\n",
       "      <th>Efforts</th>\n",
       "    </tr>\n",
       "  </thead>\n",
       "  <tbody>\n",
       "    <tr>\n",
       "      <th>0</th>\n",
       "      <td>Добавить два новых канала привлечения трафика, что позволит привлекать на 30% больше пользователей</td>\n",
       "      <td>3</td>\n",
       "      <td>10</td>\n",
       "      <td>8</td>\n",
       "      <td>6</td>\n",
       "    </tr>\n",
       "    <tr>\n",
       "      <th>1</th>\n",
       "      <td>Запустить собственную службу доставки, что сократит срок доставки заказов</td>\n",
       "      <td>2</td>\n",
       "      <td>5</td>\n",
       "      <td>4</td>\n",
       "      <td>10</td>\n",
       "    </tr>\n",
       "    <tr>\n",
       "      <th>2</th>\n",
       "      <td>Добавить блоки рекомендаций товаров на сайт интернет магазина, чтобы повысить конверсию и средний чек заказа</td>\n",
       "      <td>8</td>\n",
       "      <td>3</td>\n",
       "      <td>7</td>\n",
       "      <td>3</td>\n",
       "    </tr>\n",
       "    <tr>\n",
       "      <th>3</th>\n",
       "      <td>Изменить структура категорий, что увеличит конверсию, т.к. пользователи быстрее найдут нужный товар</td>\n",
       "      <td>8</td>\n",
       "      <td>3</td>\n",
       "      <td>3</td>\n",
       "      <td>8</td>\n",
       "    </tr>\n",
       "    <tr>\n",
       "      <th>4</th>\n",
       "      <td>Изменить цвет фона главной страницы, чтобы увеличить вовлеченность пользователей</td>\n",
       "      <td>3</td>\n",
       "      <td>1</td>\n",
       "      <td>1</td>\n",
       "      <td>1</td>\n",
       "    </tr>\n",
       "    <tr>\n",
       "      <th>5</th>\n",
       "      <td>Добавить страницу отзывов клиентов о магазине, что позволит увеличить количество заказов</td>\n",
       "      <td>3</td>\n",
       "      <td>2</td>\n",
       "      <td>2</td>\n",
       "      <td>3</td>\n",
       "    </tr>\n",
       "    <tr>\n",
       "      <th>6</th>\n",
       "      <td>Показать на главной странице баннеры с актуальными акциями и распродажами, чтобы увеличить конверсию</td>\n",
       "      <td>5</td>\n",
       "      <td>3</td>\n",
       "      <td>8</td>\n",
       "      <td>3</td>\n",
       "    </tr>\n",
       "    <tr>\n",
       "      <th>7</th>\n",
       "      <td>Добавить форму подписки на все основные страницы, чтобы собрать базу клиентов для email-рассылок</td>\n",
       "      <td>10</td>\n",
       "      <td>7</td>\n",
       "      <td>8</td>\n",
       "      <td>5</td>\n",
       "    </tr>\n",
       "    <tr>\n",
       "      <th>8</th>\n",
       "      <td>Запустить акцию, дающую скидку на товар в день рождения</td>\n",
       "      <td>1</td>\n",
       "      <td>9</td>\n",
       "      <td>9</td>\n",
       "      <td>5</td>\n",
       "    </tr>\n",
       "  </tbody>\n",
       "</table>\n",
       "</div>"
      ],
      "text/plain": [
       "                                                                                                     Hypothesis  \\\n",
       "0            Добавить два новых канала привлечения трафика, что позволит привлекать на 30% больше пользователей   \n",
       "1                                     Запустить собственную службу доставки, что сократит срок доставки заказов   \n",
       "2  Добавить блоки рекомендаций товаров на сайт интернет магазина, чтобы повысить конверсию и средний чек заказа   \n",
       "3           Изменить структура категорий, что увеличит конверсию, т.к. пользователи быстрее найдут нужный товар   \n",
       "4                              Изменить цвет фона главной страницы, чтобы увеличить вовлеченность пользователей   \n",
       "5                      Добавить страницу отзывов клиентов о магазине, что позволит увеличить количество заказов   \n",
       "6          Показать на главной странице баннеры с актуальными акциями и распродажами, чтобы увеличить конверсию   \n",
       "7              Добавить форму подписки на все основные страницы, чтобы собрать базу клиентов для email-рассылок   \n",
       "8                                                       Запустить акцию, дающую скидку на товар в день рождения   \n",
       "\n",
       "   Reach  Impact  Confidence  Efforts  \n",
       "0      3      10           8        6  \n",
       "1      2       5           4       10  \n",
       "2      8       3           7        3  \n",
       "3      8       3           3        8  \n",
       "4      3       1           1        1  \n",
       "5      3       2           2        3  \n",
       "6      5       3           8        3  \n",
       "7     10       7           8        5  \n",
       "8      1       9           9        5  "
      ]
     },
     "execution_count": 4,
     "metadata": {},
     "output_type": "execute_result"
    }
   ],
   "source": [
    "#let's take a look at the data\n",
    "hypotheses"
   ]
  },
  {
   "cell_type": "markdown",
   "metadata": {},
   "source": [
    "### ICE framework"
   ]
  },
  {
   "cell_type": "code",
   "execution_count": 5,
   "metadata": {},
   "outputs": [
    {
     "data": {
      "text/html": [
       "<div>\n",
       "<style scoped>\n",
       "    .dataframe tbody tr th:only-of-type {\n",
       "        vertical-align: middle;\n",
       "    }\n",
       "\n",
       "    .dataframe tbody tr th {\n",
       "        vertical-align: top;\n",
       "    }\n",
       "\n",
       "    .dataframe thead th {\n",
       "        text-align: right;\n",
       "    }\n",
       "</style>\n",
       "<table border=\"1\" class=\"dataframe\">\n",
       "  <thead>\n",
       "    <tr style=\"text-align: right;\">\n",
       "      <th></th>\n",
       "      <th>Hypothesis</th>\n",
       "      <th>ICE</th>\n",
       "    </tr>\n",
       "  </thead>\n",
       "  <tbody>\n",
       "    <tr>\n",
       "      <th>8</th>\n",
       "      <td>Запустить акцию, дающую скидку на товар в день рождения</td>\n",
       "      <td>16.20</td>\n",
       "    </tr>\n",
       "    <tr>\n",
       "      <th>0</th>\n",
       "      <td>Добавить два новых канала привлечения трафика, что позволит привлекать на 30% больше пользователей</td>\n",
       "      <td>13.33</td>\n",
       "    </tr>\n",
       "    <tr>\n",
       "      <th>7</th>\n",
       "      <td>Добавить форму подписки на все основные страницы, чтобы собрать базу клиентов для email-рассылок</td>\n",
       "      <td>11.20</td>\n",
       "    </tr>\n",
       "    <tr>\n",
       "      <th>6</th>\n",
       "      <td>Показать на главной странице баннеры с актуальными акциями и распродажами, чтобы увеличить конверсию</td>\n",
       "      <td>8.00</td>\n",
       "    </tr>\n",
       "    <tr>\n",
       "      <th>2</th>\n",
       "      <td>Добавить блоки рекомендаций товаров на сайт интернет магазина, чтобы повысить конверсию и средний чек заказа</td>\n",
       "      <td>7.00</td>\n",
       "    </tr>\n",
       "    <tr>\n",
       "      <th>1</th>\n",
       "      <td>Запустить собственную службу доставки, что сократит срок доставки заказов</td>\n",
       "      <td>2.00</td>\n",
       "    </tr>\n",
       "    <tr>\n",
       "      <th>5</th>\n",
       "      <td>Добавить страницу отзывов клиентов о магазине, что позволит увеличить количество заказов</td>\n",
       "      <td>1.33</td>\n",
       "    </tr>\n",
       "    <tr>\n",
       "      <th>3</th>\n",
       "      <td>Изменить структура категорий, что увеличит конверсию, т.к. пользователи быстрее найдут нужный товар</td>\n",
       "      <td>1.12</td>\n",
       "    </tr>\n",
       "    <tr>\n",
       "      <th>4</th>\n",
       "      <td>Изменить цвет фона главной страницы, чтобы увеличить вовлеченность пользователей</td>\n",
       "      <td>1.00</td>\n",
       "    </tr>\n",
       "  </tbody>\n",
       "</table>\n",
       "</div>"
      ],
      "text/plain": [
       "                                                                                                     Hypothesis  \\\n",
       "8                                                       Запустить акцию, дающую скидку на товар в день рождения   \n",
       "0            Добавить два новых канала привлечения трафика, что позволит привлекать на 30% больше пользователей   \n",
       "7              Добавить форму подписки на все основные страницы, чтобы собрать базу клиентов для email-рассылок   \n",
       "6          Показать на главной странице баннеры с актуальными акциями и распродажами, чтобы увеличить конверсию   \n",
       "2  Добавить блоки рекомендаций товаров на сайт интернет магазина, чтобы повысить конверсию и средний чек заказа   \n",
       "1                                     Запустить собственную службу доставки, что сократит срок доставки заказов   \n",
       "5                      Добавить страницу отзывов клиентов о магазине, что позволит увеличить количество заказов   \n",
       "3           Изменить структура категорий, что увеличит конверсию, т.к. пользователи быстрее найдут нужный товар   \n",
       "4                              Изменить цвет фона главной страницы, чтобы увеличить вовлеченность пользователей   \n",
       "\n",
       "     ICE  \n",
       "8  16.20  \n",
       "0  13.33  \n",
       "7  11.20  \n",
       "6   8.00  \n",
       "2   7.00  \n",
       "1   2.00  \n",
       "5   1.33  \n",
       "3   1.12  \n",
       "4   1.00  "
      ]
     },
     "execution_count": 5,
     "metadata": {},
     "output_type": "execute_result"
    }
   ],
   "source": [
    "#Add the ICE column and sort it in descending order\n",
    "hypotheses['ICE'] = round((hypotheses['Impact']*hypotheses['Confidence']) / hypotheses['Efforts'],2)\n",
    "hypotheses[['Hypothesis','ICE']].sort_values('ICE', ascending=False)"
   ]
  },
  {
   "cell_type": "markdown",
   "metadata": {},
   "source": [
    "### RICE framework"
   ]
  },
  {
   "cell_type": "code",
   "execution_count": 6,
   "metadata": {},
   "outputs": [
    {
     "data": {
      "text/html": [
       "<div>\n",
       "<style scoped>\n",
       "    .dataframe tbody tr th:only-of-type {\n",
       "        vertical-align: middle;\n",
       "    }\n",
       "\n",
       "    .dataframe tbody tr th {\n",
       "        vertical-align: top;\n",
       "    }\n",
       "\n",
       "    .dataframe thead th {\n",
       "        text-align: right;\n",
       "    }\n",
       "</style>\n",
       "<table border=\"1\" class=\"dataframe\">\n",
       "  <thead>\n",
       "    <tr style=\"text-align: right;\">\n",
       "      <th></th>\n",
       "      <th>Hypothesis</th>\n",
       "      <th>RICE</th>\n",
       "    </tr>\n",
       "  </thead>\n",
       "  <tbody>\n",
       "    <tr>\n",
       "      <th>7</th>\n",
       "      <td>Добавить форму подписки на все основные страницы, чтобы собрать базу клиентов для email-рассылок</td>\n",
       "      <td>112.0</td>\n",
       "    </tr>\n",
       "    <tr>\n",
       "      <th>2</th>\n",
       "      <td>Добавить блоки рекомендаций товаров на сайт интернет магазина, чтобы повысить конверсию и средний чек заказа</td>\n",
       "      <td>56.0</td>\n",
       "    </tr>\n",
       "    <tr>\n",
       "      <th>0</th>\n",
       "      <td>Добавить два новых канала привлечения трафика, что позволит привлекать на 30% больше пользователей</td>\n",
       "      <td>40.0</td>\n",
       "    </tr>\n",
       "    <tr>\n",
       "      <th>6</th>\n",
       "      <td>Показать на главной странице баннеры с актуальными акциями и распродажами, чтобы увеличить конверсию</td>\n",
       "      <td>40.0</td>\n",
       "    </tr>\n",
       "    <tr>\n",
       "      <th>8</th>\n",
       "      <td>Запустить акцию, дающую скидку на товар в день рождения</td>\n",
       "      <td>16.2</td>\n",
       "    </tr>\n",
       "    <tr>\n",
       "      <th>3</th>\n",
       "      <td>Изменить структура категорий, что увеличит конверсию, т.к. пользователи быстрее найдут нужный товар</td>\n",
       "      <td>9.0</td>\n",
       "    </tr>\n",
       "    <tr>\n",
       "      <th>1</th>\n",
       "      <td>Запустить собственную службу доставки, что сократит срок доставки заказов</td>\n",
       "      <td>4.0</td>\n",
       "    </tr>\n",
       "    <tr>\n",
       "      <th>5</th>\n",
       "      <td>Добавить страницу отзывов клиентов о магазине, что позволит увеличить количество заказов</td>\n",
       "      <td>4.0</td>\n",
       "    </tr>\n",
       "    <tr>\n",
       "      <th>4</th>\n",
       "      <td>Изменить цвет фона главной страницы, чтобы увеличить вовлеченность пользователей</td>\n",
       "      <td>3.0</td>\n",
       "    </tr>\n",
       "  </tbody>\n",
       "</table>\n",
       "</div>"
      ],
      "text/plain": [
       "                                                                                                     Hypothesis  \\\n",
       "7              Добавить форму подписки на все основные страницы, чтобы собрать базу клиентов для email-рассылок   \n",
       "2  Добавить блоки рекомендаций товаров на сайт интернет магазина, чтобы повысить конверсию и средний чек заказа   \n",
       "0            Добавить два новых канала привлечения трафика, что позволит привлекать на 30% больше пользователей   \n",
       "6          Показать на главной странице баннеры с актуальными акциями и распродажами, чтобы увеличить конверсию   \n",
       "8                                                       Запустить акцию, дающую скидку на товар в день рождения   \n",
       "3           Изменить структура категорий, что увеличит конверсию, т.к. пользователи быстрее найдут нужный товар   \n",
       "1                                     Запустить собственную службу доставки, что сократит срок доставки заказов   \n",
       "5                      Добавить страницу отзывов клиентов о магазине, что позволит увеличить количество заказов   \n",
       "4                              Изменить цвет фона главной страницы, чтобы увеличить вовлеченность пользователей   \n",
       "\n",
       "    RICE  \n",
       "7  112.0  \n",
       "2   56.0  \n",
       "0   40.0  \n",
       "6   40.0  \n",
       "8   16.2  \n",
       "3    9.0  \n",
       "1    4.0  \n",
       "5    4.0  \n",
       "4    3.0  "
      ]
     },
     "execution_count": 6,
     "metadata": {},
     "output_type": "execute_result"
    }
   ],
   "source": [
    "#Add the ICE column and sort it in descending order\n",
    "hypotheses['RICE'] = (hypotheses['Reach']*hypotheses['Impact']*hypotheses['Confidence']) / hypotheses['Efforts']\n",
    "hypotheses[['Hypothesis','RICE']].sort_values('RICE', ascending=False)"
   ]
  },
  {
   "cell_type": "markdown",
   "metadata": {},
   "source": [
    "**Output:** \n",
    "- **TOP 3 priority hypotheses for the ICE framework:** \n",
    "    - Launch a promotion that gives a discount on the product on the birthday,\n",
    "- Add two new channels to attract traffic, which will attract 30% more users,\n",
    "    - Add a subscription form to all the main pages to collect a customer base for email newsletters.\n",
    "- **- **TOP 3 priority hypotheses for the RICE framework:** \n",
    "    - Add a subscription form to all the main pages to collect a customer base for email newsletters, \n",
    "    - Add product recommendation blocks to the online store's website to increase conversion and average order receipt,\n",
    "- Add two new traffic channels, which will attract 30% more users"
   ]
  },
  {
   "cell_type": "markdown",
   "metadata": {},
   "source": [
    "## Analysis of A-B testing results"
   ]
  },
  {
   "cell_type": "code",
   "execution_count": 7,
   "metadata": {},
   "outputs": [
    {
     "data": {
      "text/html": [
       "<div>\n",
       "<style scoped>\n",
       "    .dataframe tbody tr th:only-of-type {\n",
       "        vertical-align: middle;\n",
       "    }\n",
       "\n",
       "    .dataframe tbody tr th {\n",
       "        vertical-align: top;\n",
       "    }\n",
       "\n",
       "    .dataframe thead th {\n",
       "        text-align: right;\n",
       "    }\n",
       "</style>\n",
       "<table border=\"1\" class=\"dataframe\">\n",
       "  <thead>\n",
       "    <tr style=\"text-align: right;\">\n",
       "      <th></th>\n",
       "      <th>transactionId</th>\n",
       "      <th>visitorId</th>\n",
       "      <th>date</th>\n",
       "      <th>revenue</th>\n",
       "      <th>group</th>\n",
       "    </tr>\n",
       "  </thead>\n",
       "  <tbody>\n",
       "    <tr>\n",
       "      <th>0</th>\n",
       "      <td>3667963787</td>\n",
       "      <td>3312258926</td>\n",
       "      <td>2019-08-15</td>\n",
       "      <td>1650</td>\n",
       "      <td>B</td>\n",
       "    </tr>\n",
       "    <tr>\n",
       "      <th>1</th>\n",
       "      <td>2804400009</td>\n",
       "      <td>3642806036</td>\n",
       "      <td>2019-08-15</td>\n",
       "      <td>730</td>\n",
       "      <td>B</td>\n",
       "    </tr>\n",
       "    <tr>\n",
       "      <th>2</th>\n",
       "      <td>2961555356</td>\n",
       "      <td>4069496402</td>\n",
       "      <td>2019-08-15</td>\n",
       "      <td>400</td>\n",
       "      <td>A</td>\n",
       "    </tr>\n",
       "    <tr>\n",
       "      <th>3</th>\n",
       "      <td>3797467345</td>\n",
       "      <td>1196621759</td>\n",
       "      <td>2019-08-15</td>\n",
       "      <td>9759</td>\n",
       "      <td>B</td>\n",
       "    </tr>\n",
       "    <tr>\n",
       "      <th>4</th>\n",
       "      <td>2282983706</td>\n",
       "      <td>2322279887</td>\n",
       "      <td>2019-08-15</td>\n",
       "      <td>2308</td>\n",
       "      <td>B</td>\n",
       "    </tr>\n",
       "  </tbody>\n",
       "</table>\n",
       "</div>"
      ],
      "text/plain": [
       "   transactionId   visitorId        date  revenue group\n",
       "0     3667963787  3312258926  2019-08-15     1650     B\n",
       "1     2804400009  3642806036  2019-08-15      730     B\n",
       "2     2961555356  4069496402  2019-08-15      400     A\n",
       "3     3797467345  1196621759  2019-08-15     9759     B\n",
       "4     2282983706  2322279887  2019-08-15     2308     B"
      ]
     },
     "execution_count": 7,
     "metadata": {},
     "output_type": "execute_result"
    }
   ],
   "source": [
    "#let's read the order file\n",
    "orders = pd.read_csv(r'C:\\Users\\MacBook\\Downloads\\orders.csv')\n",
    "\n",
    "# let's take a look at the data\n",
    "orders.head()"
   ]
  },
  {
   "cell_type": "code",
   "execution_count": 8,
   "metadata": {},
   "outputs": [
    {
     "name": "stdout",
     "output_type": "stream",
     "text": [
      "<class 'pandas.core.frame.DataFrame'>\n",
      "RangeIndex: 1197 entries, 0 to 1196\n",
      "Data columns (total 5 columns):\n",
      " #   Column         Non-Null Count  Dtype \n",
      "---  ------         --------------  ----- \n",
      " 0   transactionId  1197 non-null   int64 \n",
      " 1   visitorId      1197 non-null   int64 \n",
      " 2   date           1197 non-null   object\n",
      " 3   revenue        1197 non-null   int64 \n",
      " 4   group          1197 non-null   object\n",
      "dtypes: int64(3), object(2)\n",
      "memory usage: 46.9+ KB\n"
     ]
    }
   ],
   "source": [
    "orders.info()"
   ]
  },
  {
   "cell_type": "code",
   "execution_count": 9,
   "metadata": {},
   "outputs": [],
   "source": [
    "#change the date format\n",
    "orders['date'] = orders['date'].map(lambda x: dt.datetime.strptime(x, '%Y-%m-%d'))"
   ]
  },
  {
   "cell_type": "code",
   "execution_count": 10,
   "metadata": {},
   "outputs": [
    {
     "data": {
      "text/html": [
       "<div>\n",
       "<style scoped>\n",
       "    .dataframe tbody tr th:only-of-type {\n",
       "        vertical-align: middle;\n",
       "    }\n",
       "\n",
       "    .dataframe tbody tr th {\n",
       "        vertical-align: top;\n",
       "    }\n",
       "\n",
       "    .dataframe thead th {\n",
       "        text-align: right;\n",
       "    }\n",
       "</style>\n",
       "<table border=\"1\" class=\"dataframe\">\n",
       "  <thead>\n",
       "    <tr style=\"text-align: right;\">\n",
       "      <th></th>\n",
       "      <th>date</th>\n",
       "      <th>group</th>\n",
       "      <th>visitors</th>\n",
       "    </tr>\n",
       "  </thead>\n",
       "  <tbody>\n",
       "    <tr>\n",
       "      <th>0</th>\n",
       "      <td>2019-08-01</td>\n",
       "      <td>A</td>\n",
       "      <td>719</td>\n",
       "    </tr>\n",
       "    <tr>\n",
       "      <th>1</th>\n",
       "      <td>2019-08-02</td>\n",
       "      <td>A</td>\n",
       "      <td>619</td>\n",
       "    </tr>\n",
       "    <tr>\n",
       "      <th>2</th>\n",
       "      <td>2019-08-03</td>\n",
       "      <td>A</td>\n",
       "      <td>507</td>\n",
       "    </tr>\n",
       "    <tr>\n",
       "      <th>3</th>\n",
       "      <td>2019-08-04</td>\n",
       "      <td>A</td>\n",
       "      <td>717</td>\n",
       "    </tr>\n",
       "    <tr>\n",
       "      <th>4</th>\n",
       "      <td>2019-08-05</td>\n",
       "      <td>A</td>\n",
       "      <td>756</td>\n",
       "    </tr>\n",
       "  </tbody>\n",
       "</table>\n",
       "</div>"
      ],
      "text/plain": [
       "         date group  visitors\n",
       "0  2019-08-01     A       719\n",
       "1  2019-08-02     A       619\n",
       "2  2019-08-03     A       507\n",
       "3  2019-08-04     A       717\n",
       "4  2019-08-05     A       756"
      ]
     },
     "execution_count": 10,
     "metadata": {},
     "output_type": "execute_result"
    }
   ],
   "source": [
    "#let's read the file with the number of visitors\n",
    "visitors = pd.read_csv(r'C:\\Users\\MacBook\\Downloads\\visitors.csv')\n",
    "# let's take a look at the data\n",
    "visitors.head()"
   ]
  },
  {
   "cell_type": "code",
   "execution_count": 11,
   "metadata": {},
   "outputs": [
    {
     "name": "stdout",
     "output_type": "stream",
     "text": [
      "<class 'pandas.core.frame.DataFrame'>\n",
      "RangeIndex: 62 entries, 0 to 61\n",
      "Data columns (total 3 columns):\n",
      " #   Column    Non-Null Count  Dtype \n",
      "---  ------    --------------  ----- \n",
      " 0   date      62 non-null     object\n",
      " 1   group     62 non-null     object\n",
      " 2   visitors  62 non-null     int64 \n",
      "dtypes: int64(1), object(2)\n",
      "memory usage: 1.6+ KB\n"
     ]
    }
   ],
   "source": [
    "visitors.info()"
   ]
  },
  {
   "cell_type": "code",
   "execution_count": 12,
   "metadata": {},
   "outputs": [],
   "source": [
    "#change the date format\n",
    "visitors['date'] = pd.to_datetime(visitors['date'])"
   ]
  },
  {
   "cell_type": "markdown",
   "metadata": {},
   "source": [
    "The files have been read. There are two sets of data: a dataframe with data on revenue, transaction and date, as well as a dataframe with the total number of visitors by day and group. There are no gaps in the data, duplicates too. Let's take a closer look at the data."
   ]
  },
  {
   "cell_type": "markdown",
   "metadata": {},
   "source": [
    "### Data preprocessing"
   ]
  },
  {
   "cell_type": "code",
   "execution_count": 13,
   "metadata": {},
   "outputs": [
    {
     "data": {
      "text/plain": [
       "count       1197.00\n",
       "mean        8348.01\n",
       "std        39191.13\n",
       "min           50.00\n",
       "25%         1220.00\n",
       "50%         2978.00\n",
       "75%         8290.00\n",
       "max      1294500.00\n",
       "Name: revenue, dtype: object"
      ]
     },
     "execution_count": 13,
     "metadata": {},
     "output_type": "execute_result"
    }
   ],
   "source": [
    "#Let's look at the quantitative signs in more detail. We see a big difference between the minimum and maximum value.\n",
    "orders['revenue'].describe().apply(\"{0:.2f}\".format)"
   ]
  },
  {
   "cell_type": "code",
   "execution_count": 14,
   "metadata": {},
   "outputs": [
    {
     "data": {
      "text/plain": [
       "array([1.00000e+02, 3.00000e+02, 1.81680e+04, 2.80000e+04, 5.82332e+04,\n",
       "       1.29450e+06])"
      ]
     },
     "execution_count": 14,
     "metadata": {},
     "output_type": "execute_result"
    }
   ],
   "source": [
    "#99% of the values are below the level of 58233.2. Let's remove outliers at the hypothesis testing stage\n",
    "np.percentile(orders['revenue'],[1, 5, 90,95,99,100])"
   ]
  },
  {
   "cell_type": "code",
   "execution_count": 15,
   "metadata": {
    "scrolled": false
   },
   "outputs": [
    {
     "data": {
      "image/png": "[encoded data removed]"
     },
     "metadata": {},
     "output_type": "display_data"
    }
   ],
   "source": [
    "#The median value is 2.9 thousand. The main range is from 50 to 19 thousand. There are outliers that clearly affect the result of the analysis\n",
    "fig = px.box(orders['revenue'])\n",
    "fig.update_layout(title='Distribution of revenue data', title_x=0.5)\n",
    "fig.update_yaxes(title_text='Revenue amount')\n",
    "fig.update_xaxes(title_text='Revenue')\n",
    "\n",
    "fig.show(renderer=\"png\", width=700, height=450, scale=None)"
   ]
  },
  {
   "cell_type": "code",
   "execution_count": 16,
   "metadata": {},
   "outputs": [
    {
     "name": "stdout",
     "output_type": "stream",
     "text": [
      "The initial date of the study 2019-08-01, end date of the study: 2019-08-31. Total duration of the test: 31 days\n"
     ]
    }
   ],
   "source": [
    "#let's look at the study period\n",
    "min_date = orders['date'].min().date()\n",
    "max_date = orders['date'].max().date()\n",
    "print(f\"The initial date of the study {min_date}, end date of the study: {max_date}. Total duration of the test: {(max_date - min_date).days + 1} days\")"
   ]
  },
  {
   "cell_type": "code",
   "execution_count": 17,
   "metadata": {},
   "outputs": [
    {
     "name": "stdout",
     "output_type": "stream",
     "text": [
      "The ratio of groups A and B by the number of users as a percentage of the total number:\n"
     ]
    },
    {
     "data": {
      "text/plain": [
       "group\n",
       "A    46.53%\n",
       "B    53.47%\n",
       "Name: visitorId, dtype: object"
      ]
     },
     "execution_count": 17,
     "metadata": {},
     "output_type": "execute_result"
    }
   ],
   "source": [
    "#let's break down the number of users into groups\n",
    "print('The ratio of groups A and B by the number of users as a percentage of the total number:')\n",
    "pd.DataFrame(orders.groupby('group')['visitorId'].count()/orders['visitorId'].count())['visitorId'].map(\"{:,.2%}\".format)"
   ]
  },
  {
   "cell_type": "code",
   "execution_count": 18,
   "metadata": {
    "scrolled": true
   },
   "outputs": [
    {
     "name": "stdout",
     "output_type": "stream",
     "text": [
      "The ratio of groups A and B in terms of revenue as a percentage of the total:\n"
     ]
    },
    {
     "data": {
      "text/plain": [
       "group\n",
       "A    40.88%\n",
       "B    59.12%\n",
       "Name: revenue, dtype: object"
      ]
     },
     "execution_count": 18,
     "metadata": {},
     "output_type": "execute_result"
    }
   ],
   "source": [
    "#Also look at the breakdown of revenue by user groups\n",
    "print('The ratio of groups A and B in terms of revenue as a percentage of the total:')\n",
    "pd.DataFrame(orders.groupby('group')['revenue'].sum()/orders['revenue'].sum())['revenue'].map(\"{:,.2%}\".format)"
   ]
  },
  {
   "cell_type": "markdown",
   "metadata": {},
   "source": [
    "Group A is represented less, but not significantly - 40% versus 59% for group B."
   ]
  },
  {
   "cell_type": "code",
   "execution_count": 19,
   "metadata": {},
   "outputs": [
    {
     "data": {
      "text/plain": [
       "58"
      ]
     },
     "execution_count": 19,
     "metadata": {},
     "output_type": "execute_result"
    }
   ],
   "source": [
    "#let's check if there are visitors who are represented in both groups. There are 58 of them. \n",
    "#We will remove them at the hypothesis testing stage when dirty and cleaned data will be compared\n",
    "temp = orders.groupby('visitorId', as_index = False)['group'].nunique()\n",
    "to_del = temp[temp['group']>1]['visitorId']\n",
    "len(to_del)"
   ]
  },
  {
   "cell_type": "code",
   "execution_count": 20,
   "metadata": {},
   "outputs": [
    {
     "data": {
      "image/png": "[encoded data removed]"
     },
     "metadata": {},
     "output_type": "display_data"
    }
   ],
   "source": [
    "#Let's look at the distribution of the number of transactions by day.\n",
    "df_temp = orders.groupby('date', as_index=False)['transactionId'].count()\n",
    "fig = px.bar(df_temp, x='date', y='transactionId')\n",
    "fig.update_xaxes(title_text='Date')\n",
    "fig.update_yaxes(title_text='Number of transactions')\n",
    "fig.update_layout(title='Number of transactions by day', title_x=0.5)\n",
    "fig.show(renderer=\"png\", width=700, height=450, scale=None)"
   ]
  },
  {
   "cell_type": "markdown",
   "metadata": {},
   "source": [
    "There is a dependence of the number of orders on the day of the week. On weekends, especially on Sunday, the number of orders is sharply reduced. The remaining days of the week have approximately the same number of orders."
   ]
  },
  {
   "cell_type": "code",
   "execution_count": 21,
   "metadata": {
    "scrolled": false
   },
   "outputs": [
    {
     "data": {
      "image/png": "[encoded data removed]"
     },
     "metadata": {},
     "output_type": "display_data"
    }
   ],
   "source": [
    "#Let's look at the distribution of revenue by day\n",
    "df_temp = orders.groupby('date', as_index=False)['revenue'].sum()\n",
    "fig = px.bar(df_temp, x='date', y='revenue')\n",
    "fig.update_xaxes(title_text='Date')\n",
    "fig.update_yaxes(title_text='Amount of revenue')\n",
    "fig.update_layout(title='The amount of revenue by day', title_x=0.5)\n",
    "fig.show(renderer=\"png\", width=700, height=450, scale=None)"
   ]
  },
  {
   "cell_type": "markdown",
   "metadata": {},
   "source": [
    "There is a dependence of revenue on the day of the week. On weekends, especially on Sundays, revenue is sharply reduced. The correlation of the number of transactions and revenue by day is visible. On August 19, there were large outliers or outliers."
   ]
  },
  {
   "cell_type": "code",
   "execution_count": 22,
   "metadata": {},
   "outputs": [
    {
     "data": {
      "image/png": "[encoded data removed]"
     },
     "metadata": {},
     "output_type": "display_data"
    }
   ],
   "source": [
    "#Let's look at the distribution of the number of visitors by day and by groups.\n",
    "fig=px.bar(x=visitors['date'], y=visitors['visitors'], color=visitors['group'])\n",
    "fig.update_xaxes(title_text='Date')\n",
    "fig.update_yaxes(title_text='Number of visitors')\n",
    "fig.update_layout(title_text='Number of visitors by day and by groups A and B, people', title_x=0.5)\n",
    "fig.show(renderer=\"png\", width=700, height=450, scale=None)"
   ]
  },
  {
   "cell_type": "markdown",
   "metadata": {},
   "source": [
    "There is a dependence of the number of visitors on the day of the week. On Saturdays, there is a significant decrease in traffic.  The attendance on weekdays is much more. It should be noted that on Sunday, when the lowest revenue, the number of visitors is relatively large. Perhaps this is due to the receipt of payments (the next day)."
   ]
  },
  {
   "cell_type": "markdown",
   "metadata": {},
   "source": [
    "### Plot cumulative revenue by group. Make conclusions and assumptions."
   ]
  },
  {
   "cell_type": "code",
   "execution_count": 23,
   "metadata": {},
   "outputs": [],
   "source": [
    "#create an array of unique pairs - date and group\n",
    "datesGroups = orders[['date','group']].drop_duplicates()"
   ]
  },
  {
   "cell_type": "code",
   "execution_count": 24,
   "metadata": {},
   "outputs": [],
   "source": [
    "# # let's calculate the cumulative number of orders by day\n",
    "ordersAggregated = datesGroups.apply(\n",
    "    lambda x: orders[np.logical_and(orders['date'] <= x['date'], orders['group'] == x['group'])\n",
    "    ].agg({'date' : 'max', 'group' : 'max', 'transactionId' : 'nunique', 'visitorId' : 'nunique', 'revenue' : 'sum'}), axis=1\n",
    "    ).sort_values(by=['date','group'])"
   ]
  },
  {
   "cell_type": "code",
   "execution_count": 25,
   "metadata": {},
   "outputs": [],
   "source": [
    "# # let's calculate the cumulative number of visitors by day\n",
    "visitorsAggregated = datesGroups.apply(\n",
    "    lambda x: visitors[np.logical_and(visitors['date'] <= x['date'], visitors['group'] == x['group'])\n",
    "    ].agg({'date':'max', 'group': 'max', 'visitors':'sum'}), axis=1).sort_values(by=['date','group'])"
   ]
  },
  {
   "cell_type": "code",
   "execution_count": 26,
   "metadata": {},
   "outputs": [],
   "source": [
    "# # let's combine the cumulative data into one table by date and group\n",
    "cumulativeData = ordersAggregated.merge(visitorsAggregated, left_on=['date', 'group'], right_on=['date', 'group'])\n",
    "cumulativeData.columns = ['date', 'group', 'orders', 'buyers', 'revenue', 'visitors']"
   ]
  },
  {
   "cell_type": "code",
   "execution_count": 27,
   "metadata": {},
   "outputs": [
    {
     "name": "stdout",
     "output_type": "stream",
     "text": [
      "Start date of the study 2019-08-01, end date of the study: 2019-08-31. Total duration of the test: 31 day\n"
     ]
    }
   ],
   "source": [
    "##let's check if the start and end dates in the cumulative Data and orders dataframe match. The dates match\n",
    "min_date = cumulativeData['date'].min().date()\n",
    "max_date = cumulativeData['date'].max().date()\n",
    "print(f\"Start date of the study {min_date}, end date of the study: {max_date}. Total duration of the test: {(max_date - min_date).days + 1} day\")"
   ]
  },
  {
   "cell_type": "code",
   "execution_count": 28,
   "metadata": {},
   "outputs": [],
   "source": [
    "# creating a dataframe with cumulative number of orders and revenue by day for group A\n",
    "cumulativeRevenueA = cumulativeData.query('group == \"A\"')[['date','revenue', 'orders']]"
   ]
  },
  {
   "cell_type": "code",
   "execution_count": 29,
   "metadata": {},
   "outputs": [],
   "source": [
    "# # creating a dataframe with cumulative number of orders and revenue by day for group B\n",
    "cumulativeRevenueB = cumulativeData.query('group == \"B\"')[['date','revenue', 'orders']]"
   ]
  },
  {
   "cell_type": "code",
   "execution_count": 30,
   "metadata": {},
   "outputs": [
    {
     "data": {
      "image/png": "[encoded data removed]"
     },
     "metadata": {},
     "output_type": "display_data"
    }
   ],
   "source": [
    "##Creating a cumulative revenue chart for Group A and B\n",
    "fig = go.Figure()\n",
    "fig.add_trace(go.Scatter(x=cumulativeRevenueA['date'], y=cumulativeRevenueA['revenue'],mode='lines+markers',name='A'))\n",
    "fig.add_trace(go.Scatter(x=cumulativeRevenueB['date'], y=cumulativeRevenueB['revenue'],mode='lines+markers',name='B'))\n",
    "fig.update_layout(title='Cumulative revenue schedule of the Group and in', title_x=0.5)\n",
    "fig.update_xaxes(title= 'Date')\n",
    "fig.update_yaxes(title='Revenue')\n",
    "fig.show(renderer=\"png\", width=700, height=450, scale=None)"
   ]
  },
  {
   "cell_type": "markdown",
   "metadata": {},
   "source": [
    "**Output:** Cumulative revenue for group B from August 5 until the end of the test exceeded cumulative revenue for group A. This is influenced by two factors: the number of orders or the conversion of visitors to orders and the average receipt. let's look at them in more detail below. We also see a sharp jump in revenue around August 19 (this is the same outlier). We will remove them at the stage of testing statistical hypotheses."
   ]
  },
  {
   "cell_type": "markdown",
   "metadata": {},
   "source": [
    "### Plot the cumulative average check by groups. Make conclusions and assumptions."
   ]
  },
  {
   "cell_type": "code",
   "execution_count": 31,
   "metadata": {},
   "outputs": [
    {
     "data": {
      "image/png": "[encoded data removed]"
     },
     "metadata": {},
     "output_type": "display_data"
    }
   ],
   "source": [
    "fig=go.Figure()\n",
    "fig.add_trace(go.Scatter(x=cumulativeRevenueA['date'], y=(cumulativeRevenueA['revenue']/cumulativeRevenueA['orders']), name='A'))\n",
    "fig.add_trace(go.Scatter(x=cumulativeRevenueB['date'], y=(cumulativeRevenueB['revenue']/cumulativeRevenueB['orders']), name='B'))\n",
    "fig.update_layout(title='Cumulative average check', title_x=0.5)\n",
    "fig.update_xaxes(title='Date')\n",
    "fig.update_yaxes(title='average check')\n",
    "fig.show(renderer=\"png\", width=700, height=450, scale=None)"
   ]
  },
  {
   "cell_type": "markdown",
   "metadata": {},
   "source": [
    "**Output:** The average check by category is growing. Multidirectional changes are noticeable today (August 6, 13). But in general, the trend direction for both groups is the same, except for the release on August 19."
   ]
  },
  {
   "cell_type": "markdown",
   "metadata": {},
   "source": [
    "### Plot the relative change in the cumulative average check of group B to group A. Make conclusions and assumptions."
   ]
  },
  {
   "cell_type": "code",
   "execution_count": 32,
   "metadata": {},
   "outputs": [
    {
     "data": {
      "image/png": "[encoded data removed]"
     },
     "metadata": {},
     "output_type": "display_data"
    }
   ],
   "source": [
    "# # let's collect the accumulated data for two groups in one dataframe\n",
    "mergedCumulativeRevenue = cumulativeRevenueA.merge(cumulativeRevenueB, left_on='date', right_on='date', how='left', suffixes=['A', 'B'])\n",
    "\n",
    "# making a graph for the ratio of average checks (accumulated)\n",
    "fig=go.Figure()\n",
    "fig.add_trace(go.Scatter(x=mergedCumulativeRevenue['date'], y=(mergedCumulativeRevenue['revenueB']/mergedCumulativeRevenue['ordersB']\n",
    "    )/(mergedCumulativeRevenue['revenueA']/mergedCumulativeRevenue['ordersA'])-1))\n",
    "fig.update_layout(title='Graph for the ratio of average checks (accumulated)', title_x=0.5)\n",
    "fig.update_xaxes(title='Date')\n",
    "fig.update_yaxes(title='Change')\n",
    "fig.show(renderer=\"png\", width=700, height=450, scale=None)"
   ]
  },
  {
   "cell_type": "markdown",
   "metadata": {},
   "source": [
    "**Output:** The graph shows that at the beginning of the test, in particular on August 6 and 13, there were quite sharp differences in the average checks, however, in the absence of an outlier on August 19, there is a tendency to stabilize around 0."
   ]
  },
  {
   "cell_type": "markdown",
   "metadata": {},
   "source": [
    "### Plot the cumulative average number of orders per visitor by groups. Make conclusions and assumptions."
   ]
  },
  {
   "cell_type": "code",
   "execution_count": 33,
   "metadata": {},
   "outputs": [],
   "source": [
    "# counting cumulative conversion\n",
    "cumulativeData['conversion'] = cumulativeData['orders']/cumulativeData['visitors']\n",
    "# separating the data by group A\n",
    "cumulativeDataA = cumulativeData[cumulativeData['group']=='A']\n",
    "# separating the data by group B\n",
    "cumulativeDataB = cumulativeData[cumulativeData['group']=='B']"
   ]
  },
  {
   "cell_type": "code",
   "execution_count": 34,
   "metadata": {},
   "outputs": [
    {
     "data": {
      "image/png": "[encoded data removed]"
     },
     "metadata": {},
     "output_type": "display_data"
    }
   ],
   "source": [
    "# making a graph for conversions (accumulated)\n",
    "fig=go.Figure()\n",
    "fig.add_trace(go.Scatter(x=cumulativeDataA['date'], y=cumulativeDataA['conversion'], name='A'))\n",
    "fig.add_trace(go.Scatter(x=cumulativeDataB['date'], y=cumulativeDataB['conversion'], name = 'B'))\n",
    "fig.update_layout(title='Average number of orders per visitor by group', title_x=0.5)\n",
    "fig.update_xaxes(title='Date')\n",
    "fig.update_yaxes(title='Diff')\n",
    "fig.show(renderer=\"png\", width=700, height=450, scale=None)"
   ]
  },
  {
   "cell_type": "markdown",
   "metadata": {},
   "source": [
    "****Conclusion:** The conversion of visitors to orders at the beginning of the test jumps sharply, but since August 7 we have clearly seen the difference in conversions by groups. In group B, the conversion rate is higher, respectively, they order more often."
   ]
  },
  {
   "cell_type": "markdown",
   "metadata": {},
   "source": [
    "### Plot the relative change in the cumulative average number of orders per visitor of Group B to group A. Make conclusions and assumptions."
   ]
  },
  {
   "cell_type": "code",
   "execution_count": 35,
   "metadata": {},
   "outputs": [],
   "source": [
    "#let's prepare data for a graph of the relative change in the cumulative average number of orders per visitor of group B to group A.\n",
    "mergedCumulativeConversions = cumulativeDataA[['date','conversion']].merge(cumulativeDataB[['date','conversion']], left_on='date', right_on='date', how='left', suffixes=['A', 'B'])"
   ]
  },
  {
   "cell_type": "code",
   "execution_count": 36,
   "metadata": {},
   "outputs": [
    {
     "data": {
      "image/png": "[encoded data removed]"
     },
     "metadata": {},
     "output_type": "display_data"
    }
   ],
   "source": [
    "fig=go.Figure()\n",
    "fig.add_trace(go.Scatter(x=mergedCumulativeConversions['date'], y=mergedCumulativeConversions['conversionB']/mergedCumulativeConversions['conversionA']-1, name='A'))\n",
    "fig.update_layout(title='The relative change in the cumulative average number of orders per visitor of Group B to group A.', title_x=0.5)\n",
    "fig.update_xaxes(title='Date')\n",
    "fig.update_yaxes(title='Diff')\n",
    "fig.show(renderer=\"png\", width=700, height=450, scale=None)"
   ]
  },
  {
   "cell_type": "markdown",
   "metadata": {},
   "source": [
    "**Output:** Comparison of visitors' conversions to orders clearly shows its excess in group B. Before August 10, there was a sharp jump in the third and then the indicator stabilized at 0.15"
   ]
  },
  {
   "cell_type": "markdown",
   "metadata": {},
   "source": [
    "### Build a dot graph of the number of orders by users. Make conclusions and assumptions."
   ]
  },
  {
   "cell_type": "code",
   "execution_count": 37,
   "metadata": {},
   "outputs": [
    {
     "data": {
      "image/png": "[encoded data removed]"
     },
     "metadata": {},
     "output_type": "display_data"
    }
   ],
   "source": [
    "#plotting the number of orders by users\n",
    "x= pd.Series(range(0,len(orders.groupby('visitorId', as_index = False)['transactionId'].count()['transactionId'])))\n",
    "y=orders.groupby('visitorId', as_index = False)['transactionId'].count()['transactionId']\n",
    "fig=px.scatter(x=x, y=y)\n",
    "fig.update_layout(title='Number of orders by user', title_x=0.5)\n",
    "fig.update_xaxes(title='Date')\n",
    "fig.update_yaxes(title='Number of orders')\n",
    "fig.show(renderer=\"png\", width=700, height=450, scale=None)"
   ]
  },
  {
   "cell_type": "markdown",
   "metadata": {},
   "source": [
    "**Output:** visitors very rarely order more than 3 times. Let's check it on percentiles."
   ]
  },
  {
   "cell_type": "markdown",
   "metadata": {},
   "source": [
    "### Count the 95th and 99th percentiles of the number of orders per user. Select a border to identify abnormal users."
   ]
  },
  {
   "cell_type": "code",
   "execution_count": 38,
   "metadata": {},
   "outputs": [
    {
     "data": {
      "text/plain": [
       "array([1., 2., 4.])"
      ]
     },
     "execution_count": 38,
     "metadata": {},
     "output_type": "execute_result"
    }
   ],
   "source": [
    "np.percentile(y, [90,95,99])"
   ]
  },
  {
   "cell_type": "markdown",
   "metadata": {},
   "source": [
    "**Output:** Let's make a border - no more than 4 orders"
   ]
  },
  {
   "cell_type": "markdown",
   "metadata": {},
   "source": [
    "### Build a dot graph of the cost of orders. Make conclusions and assumptions."
   ]
  },
  {
   "cell_type": "code",
   "execution_count": 39,
   "metadata": {
    "scrolled": false
   },
   "outputs": [
    {
     "data": {
      "image/png": "[encoded data removed]"
     },
     "metadata": {},
     "output_type": "display_data"
    }
   ],
   "source": [
    "#plotting the distribution of order costs\n",
    "x= pd.Series(range(0,len(orders['revenue'])))\n",
    "fig=px.scatter(x=x, y=orders['revenue'])\n",
    "fig.update_layout(title='Distribution of order values', title_x=0.5)\n",
    "fig.update_xaxes(title='Quantity')\n",
    "fig.update_yaxes(title='Order amount')\n",
    "fig.show(renderer=\"png\", width=700, height=450, scale=None)"
   ]
  },
  {
   "cell_type": "markdown",
   "metadata": {},
   "source": [
    "**Output:** Revenue has a tight, even distribution. Outliers are visible on the raw data."
   ]
  },
  {
   "cell_type": "code",
   "execution_count": 40,
   "metadata": {},
   "outputs": [
    {
     "data": {
      "image/png": "[encoded data removed]"
     },
     "metadata": {},
     "output_type": "display_data"
    }
   ],
   "source": [
    "#plotting the distribution of the cost of orders closer\n",
    "x= pd.Series(range(0,len(orders['revenue'][orders['revenue']<100000])))\n",
    "fig=px.scatter(x=x, y=orders['revenue'][orders['revenue']<100000])\n",
    "fig.update_layout(title='Distribution of order values', title_x=0.5)\n",
    "fig.update_xaxes(title='Quantity')\n",
    "fig.update_yaxes(title='Order amount')\n",
    "fig.show(renderer=\"png\", width=700, height=450, scale=None)"
   ]
  },
  {
   "cell_type": "markdown",
   "metadata": {},
   "source": [
    "**Output:** Revenue has a tight, even distribution. Visually, we can assume a border in the region of 60,000. Let's check on percentiles"
   ]
  },
  {
   "cell_type": "markdown",
   "metadata": {},
   "source": [
    "### Calculate the 95th and 99th percentiles of the cost of orders. Select a boundary to identify abnormal orders."
   ]
  },
  {
   "cell_type": "code",
   "execution_count": 41,
   "metadata": {},
   "outputs": [
    {
     "data": {
      "text/plain": [
       "array([18168. , 28000. , 58233.2])"
      ]
     },
     "execution_count": 41,
     "metadata": {},
     "output_type": "execute_result"
    }
   ],
   "source": [
    "np.percentile(orders['revenue'], [90,95,99])"
   ]
  },
  {
   "cell_type": "markdown",
   "metadata": {},
   "source": [
    "**Output:** No more than 1 % of data over 58 thousand. I propose to specify this boundary for cutting off emissions."
   ]
  },
  {
   "cell_type": "markdown",
   "metadata": {},
   "source": [
    "### Calculate the statistical significance of differences in the average number of orders per visitor between groups based on \"raw\" data. Make conclusions and assumptions."
   ]
  },
  {
   "cell_type": "code",
   "execution_count": 42,
   "metadata": {},
   "outputs": [],
   "source": [
    "#dataframe of group A with dates and number of visitors\n",
    "visitorsADaily = visitors[visitors['group'] == 'A'][['date', 'visitors']]\n",
    "visitorsADaily.columns = ['date', 'visitorsPerDateA']\n",
    "\n",
    "# # cumulative dataframe of group A with dates and cumulative number of visitors\n",
    "visitorsACummulative = visitorsADaily.apply(\n",
    "    lambda x: visitorsADaily[visitorsADaily['date'] <= x['date']].agg(\n",
    "        {'date': 'max', 'visitorsPerDateA': 'sum'}),axis=1)\n",
    "visitorsACummulative.columns = ['date', 'visitorsCummulativeA']\n",
    "\n",
    "#dataframe of group A with dates and number of visitors\n",
    "visitorsBDaily = visitors[visitors['group'] == 'B'][['date', 'visitors']]\n",
    "visitorsBDaily.columns = ['date', 'visitorsPerDateB']\n",
    "\n",
    "# # cumulative dataframe of group A with dates and cumulative number of visitors\n",
    "visitorsBCummulative = visitorsBDaily.apply(\n",
    "    lambda x: visitorsBDaily[visitorsBDaily['date'] <= x['date']].agg(\n",
    "        {'date': 'max', 'visitorsPerDateB': 'sum'}),axis=1)\n",
    "visitorsBCummulative.columns = ['date', 'visitorsCummulativeB']\n",
    "\n",
    "##dataframe by day with data on the number of orders and revenue (group A)\n",
    "ordersADaily = (orders[orders['group'] == 'A'][['date', 'transactionId', 'visitorId', 'revenue']]\n",
    "    .groupby('date', as_index=False)\n",
    "    .agg({'transactionId': 'nunique', 'revenue': 'sum'}))\n",
    "ordersADaily.columns = ['date', 'ordersPerDateA', 'revenuePerDateA']\n",
    "\n",
    "# # cumulative dataframe with days with accumulated number of orders and revenue (group A)\n",
    "ordersACummulative = ordersADaily.apply(\n",
    "    lambda x: ordersADaily[ordersADaily['date'] <= x['date']].agg(\n",
    "        {'date': 'max', 'ordersPerDateA': 'sum', 'revenuePerDateA': 'sum'}),axis=1).sort_values(by=['date'])\n",
    "ordersACummulative.columns = ['date', 'ordersCummulativeA', 'revenueCummulativeA']\n",
    "\n",
    "##dataframe by day with data on the number of orders and revenue (group B)\n",
    "ordersBDaily = (\n",
    "    orders[orders['group'] == 'B'][['date', 'transactionId', 'visitorId', 'revenue']]\n",
    "    .groupby('date', as_index=False)\n",
    "    .agg({'transactionId': 'nunique', 'revenue': 'sum'}))\n",
    "ordersBDaily.columns = ['date', 'ordersPerDateB', 'revenuePerDateB']\n",
    "\n",
    "# # cumulative dataframe with days with accumulated number of orders and revenue (group B)\n",
    "ordersBCummulative = ordersBDaily.apply(\n",
    "    lambda x: ordersBDaily[ordersBDaily['date'] <= x['date']].agg(\n",
    "        {'date': 'max', 'ordersPerDateB': 'sum', 'revenuePerDateB': 'sum'}),axis=1).sort_values(by=['date'])\n",
    "ordersBCummulative.columns = ['date', 'ordersCummulativeB', 'revenueCummulativeB']\n",
    "\n",
    "#let's bring everything into one dataframe\n",
    "data = (ordersADaily.merge(ordersBDaily, left_on='date', right_on='date', how='left')\n",
    "    .merge(ordersACummulative, left_on='date', right_on='date', how='left')\n",
    "    .merge(ordersBCummulative, left_on='date', right_on='date', how='left')\n",
    "    .merge(visitorsADaily, left_on='date', right_on='date', how='left')\n",
    "    .merge(visitorsBDaily, left_on='date', right_on='date', how='left')\n",
    "    .merge(visitorsACummulative, left_on='date', right_on='date', how='left')\n",
    "    .merge(visitorsBCummulative, left_on='date', right_on='date', how='left'))\n"
   ]
  },
  {
   "cell_type": "code",
   "execution_count": 43,
   "metadata": {},
   "outputs": [
    {
     "name": "stdout",
     "output_type": "stream",
     "text": [
      "p-value: 0.017\n",
      "различие в редних: 0.138\n"
     ]
    }
   ],
   "source": [
    "#dataframe with customer orders (group A)\n",
    "ordersByUsersA = (orders[orders['group'] == 'A']\n",
    "    .groupby('visitorId', as_index=False)\n",
    "    .agg({'transactionId': 'nunique'}))\n",
    "ordersByUsersA.columns = ['visitorId', 'orders']\n",
    "\n",
    "#dataframe with customer orders (group B)\n",
    "ordersByUsersB = (orders[orders['group'] == 'B']\n",
    "    .groupby('visitorId', as_index=False)\n",
    "    .agg({'transactionId': 'nunique'}))\n",
    "ordersByUsersB.columns = ['visitorId', 'orders']\n",
    "\n",
    "#adding zero values where there were no orders (group A)\n",
    "sampleA = pd.concat([ordersByUsersA['orders'],pd.Series(0, index=np.arange(data['visitorsPerDateA']\n",
    "        .sum() - len(ordersByUsersA['orders'])), name='orders')], axis=0)\n",
    "#adding zero values where there were no orders (group B)\n",
    "sampleB = pd.concat([ordersByUsersB['orders'], pd.Series(0, index=np.arange(data['visitorsPerDateB']\n",
    "        .sum() - len(ordersByUsersB['orders'])),name='orders')], axis=0)\n",
    "\n",
    "# find the pvalue by the MannaVitney method\n",
    "print(f'p-value: {\"{0:.3f}\".format(stats.mannwhitneyu(sampleA, sampleB)[1])}')\n",
    "# and the difference between the average order quantities\n",
    "print(f'различие в редних: {\"{0:.3f}\".format(sampleB.mean() / sampleA.mean() - 1)}')"
   ]
  },
  {
   "cell_type": "markdown",
   "metadata": {},
   "source": [
    "**Output:** The null hypothesis suggests that there are no statistically significant differences between groups A and B. The alternative hypothesis is that there are differences.\n",
    "the p-value was below the level of statistical significance (0.05). Accordingly, there are differences between the groups. We reject the null hypothesis: the difference is statistically significant."
   ]
  },
  {
   "cell_type": "markdown",
   "metadata": {},
   "source": [
    "### Calculate the statistical significance of differences in the average order receipt between groups based on \"raw\" data. Make conclusions and assumptions."
   ]
  },
  {
   "cell_type": "code",
   "execution_count": 44,
   "metadata": {},
   "outputs": [
    {
     "name": "stdout",
     "output_type": "stream",
     "text": [
      "p-value: 0.729\n",
      "difference in averages: 0.259\n"
     ]
    }
   ],
   "source": [
    "p_val = stats.mannwhitneyu(orders[orders['group']=='A']['revenue'], orders[orders['group']=='B']['revenue'])[1]\n",
    "diff=orders[orders['group']=='B']['revenue'].mean()/orders[orders['group']=='A']['revenue'].mean()-1\n",
    "\n",
    "print(f'p-value: {\"{0:.3f}\".format(p_val)}')\n",
    "print(f'difference in averages: {\"{0:.3f}\".format(diff)}')"
   ]
  },
  {
   "cell_type": "markdown",
   "metadata": {},
   "source": [
    "**Output:** The null hypothesis suggests that there are no statistically significant differences between groups A and B. The alternative hypothesis is that there are differences.\n",
    "The p-value turned out to be significantly higher than the level of statistical significance of 0.05. Accordingly, it cannot be argued that there is a difference between the groups, i.e. there is none. At the same time, the average value of the average check of group B exceeds the value of group A by 25%."
   ]
  },
  {
   "cell_type": "markdown",
   "metadata": {},
   "source": [
    "### Calculate the statistical significance of the differences in the average number of orders per visitor between the groups according to the \"cleared\" data. Make conclusions and assumptions"
   ]
  },
  {
   "cell_type": "code",
   "execution_count": 45,
   "metadata": {},
   "outputs": [
    {
     "name": "stdout",
     "output_type": "stream",
     "text": [
      "1099     148427295\n",
      "949      887908475\n",
      "744      888512513\n",
      "1103    1164614297\n",
      "1136    1307669133\n",
      "Name: visitorId, dtype: int64\n",
      "13\n"
     ]
    }
   ],
   "source": [
    "ninine = np.percentile(orders['revenue'], 99)\n",
    "orders_count = np.percentile(orders.groupby('visitorId', as_index = False)['transactionId'].count()['transactionId'], 99)\n",
    "\n",
    "#for the purity of the analysis, we will remove those clients who fell into one and the \n",
    "#other group at the hypothesis testing stage There were 58 such clients. \n",
    "orders = orders.query('visitorId not in @to_del')\n",
    "\n",
    "##Find outliers and count them\n",
    "usersWithManyOrders = pd.concat([ordersByUsersA[ordersByUsersA['orders'] > orders_count]['visitorId'],\n",
    "        ordersByUsersB[ordersByUsersB['orders'] > orders_count]['visitorId']],axis=0)\n",
    "\n",
    "\n",
    "usersWithExpensiveOrders = orders[orders['revenue'] > ninine]['visitorId']\n",
    "abnormalUsers = (pd.concat([usersWithManyOrders, usersWithExpensiveOrders], axis=0).drop_duplicates()\n",
    "    .sort_values())\n",
    "\n",
    "print(abnormalUsers.head(5))\n",
    "print(abnormalUsers.shape[0])"
   ]
  },
  {
   "cell_type": "code",
   "execution_count": 46,
   "metadata": {},
   "outputs": [],
   "source": [
    "#Let's create similar dataframes based on the cleared data\n",
    "sampleAFiltered = pd.concat([ordersByUsersA[np.logical_not(ordersByUsersA['visitorId'].isin(abnormalUsers))]['orders'],\n",
    "        pd.Series(0, index=np.arange(data['visitorsPerDateA'].sum() - len(ordersByUsersA['orders'])), name='orders')],axis=0)\n",
    "\n",
    "sampleBFiltered = pd.concat([ordersByUsersB[np.logical_not(ordersByUsersB['visitorId'].isin(abnormalUsers))]['orders'],\n",
    "        pd.Series(0,index=np.arange(data['visitorsPerDateB'].sum() - len(ordersByUsersB['orders'])), name='orders')],axis=0)"
   ]
  },
  {
   "cell_type": "code",
   "execution_count": 47,
   "metadata": {},
   "outputs": [
    {
     "name": "stdout",
     "output_type": "stream",
     "text": [
      "p-value: 0.015\n",
      "difference in averages:0.153\n"
     ]
    }
   ],
   "source": [
    "print(f'p-value: {\"{0:.3f}\".format(stats.mannwhitneyu(sampleAFiltered, sampleBFiltered)[1])}')\n",
    "print(f'difference in averages:{\"{0:.3f}\".format(sampleBFiltered.mean()/sampleAFiltered.mean()-1)}') "
   ]
  },
  {
   "cell_type": "markdown",
   "metadata": {},
   "source": [
    "**Output:** The null hypothesis suggests that there are no statistically significant differences between groups A and B. The alternative hypothesis is that there are differences.  p-value was below the level of statistical significance (0.05). Accordingly, there are differences between the groups. We reject the null hypothesis: the difference is statistically significant. the difference in averages decreased from 25 to 15 %"
   ]
  },
  {
   "cell_type": "markdown",
   "metadata": {},
   "source": [
    "### Calculate the statistical significance of the differences in the average order receipt between the groups based on the \"cleared\" data. Make conclusions and assumptions."
   ]
  },
  {
   "cell_type": "code",
   "execution_count": 48,
   "metadata": {},
   "outputs": [
    {
     "name": "stdout",
     "output_type": "stream",
     "text": [
      "P-value:\n",
      "0.901\n",
      "Difference in averages:\n",
      "-0.032\n"
     ]
    }
   ],
   "source": [
    "print('P-value:')\n",
    "print('{0:.3f}'.format(stats.mannwhitneyu(\n",
    "            orders[np.logical_and(orders['group'] == 'A', np.logical_not(orders['visitorId'].isin(abnormalUsers)))]['revenue'],\n",
    "            orders[np.logical_and(orders['group'] == 'B', np.logical_not(orders['visitorId'].isin(abnormalUsers)))]['revenue'])[1]))\n",
    "\n",
    "print('Difference in averages:')\n",
    "print(\"{0:.3f}\".format(orders[np.logical_and(orders['group'] == 'B', np.logical_not(orders['visitorId'].isin(abnormalUsers)))]['revenue'].mean()\n",
    "        / orders[np.logical_and(orders['group'] == 'A', np.logical_not(orders['visitorId'].isin(abnormalUsers)))]['revenue']\n",
    "        .mean() - 1))"
   ]
  },
  {
   "cell_type": "markdown",
   "metadata": {},
   "source": [
    "**Output:** The null hypothesis suggests that there are no statistically significant differences between groups A and B. The alternative hypothesis is that there are differences.  The p-value turned out to be much higher than the statistical significance level (0.05). Accordingly, there are no differences between the groups. There is no reason to reject the null hypothesis. The difference in averages was 3 %"
   ]
  },
  {
   "cell_type": "markdown",
   "metadata": {},
   "source": [
    "### Make a decision based on the test results and explain it."
   ]
  },
  {
   "cell_type": "markdown",
   "metadata": {},
   "source": [
    "**Output** \n",
    "- - Data used in the work: information on visitors by day, information on orders (date, revenue, order ID and customer ID). \n",
    "- - Data processing was carried out and anomalies in revenue were identified and eliminated according to the 99% percentile methodology.\n",
    "- More than 50 clients were identified who were included in one and another group. For the purity of the analysis, their indicators were not taken into account\n",
    "- - Based on the results of statistical tests comparing two groups of users, group B showed statistically significant results on the average number of orders for visitors according to the cleared data, while the statistical significance of the differences in the average receipt far exceeded 0.05, which indicates that it is reasonable to assume that there are no differences in the average receipt of the groups.\n",
    "- - I propose to complete the test, since the test took into account fluctuations depending on the day of the week and the relative indicators of the groups stabilized."
   ]
  },
  {
   "cell_type": "code",
   "execution_count": null,
   "metadata": {},
   "outputs": [],
   "source": []
  }
 ],
 "metadata": {
  "ExecuteTimeLog": [
   {
    "duration": 405,
    "start_time": "2023-03-26T12:10:23.891Z"
   },
   {
    "duration": 98,
    "start_time": "2023-03-26T12:10:55.147Z"
   },
   {
    "duration": 14,
    "start_time": "2023-03-26T12:10:59.010Z"
   },
   {
    "duration": 3,
    "start_time": "2023-03-26T12:11:10.205Z"
   },
   {
    "duration": 25,
    "start_time": "2023-03-26T12:11:10.435Z"
   },
   {
    "duration": 10,
    "start_time": "2023-03-26T12:11:10.706Z"
   },
   {
    "duration": 6,
    "start_time": "2023-03-26T12:13:10.791Z"
   },
   {
    "duration": 80,
    "start_time": "2023-03-26T12:15:55.217Z"
   },
   {
    "duration": 3,
    "start_time": "2023-03-26T12:16:23.913Z"
   },
   {
    "duration": 6,
    "start_time": "2023-03-26T12:16:28.996Z"
   },
   {
    "duration": 9,
    "start_time": "2023-03-26T12:16:36.641Z"
   },
   {
    "duration": 3,
    "start_time": "2023-03-26T12:16:41.114Z"
   },
   {
    "duration": 10,
    "start_time": "2023-03-26T12:16:41.773Z"
   },
   {
    "duration": 799,
    "start_time": "2023-03-26T12:19:34.774Z"
   },
   {
    "duration": 15,
    "start_time": "2023-03-26T12:20:03.306Z"
   },
   {
    "duration": 11,
    "start_time": "2023-03-26T12:20:51.104Z"
   },
   {
    "duration": 13,
    "start_time": "2023-03-26T12:20:58.674Z"
   },
   {
    "duration": 97,
    "start_time": "2023-03-26T12:52:44.850Z"
   },
   {
    "duration": 118,
    "start_time": "2023-03-26T12:53:11.034Z"
   },
   {
    "duration": 67,
    "start_time": "2023-03-26T12:53:20.385Z"
   },
   {
    "duration": 122,
    "start_time": "2023-03-26T12:54:02.915Z"
   },
   {
    "duration": 67,
    "start_time": "2023-03-26T12:54:16.693Z"
   },
   {
    "duration": 3,
    "start_time": "2023-03-26T12:54:48.593Z"
   },
   {
    "duration": 10,
    "start_time": "2023-03-26T12:55:22.033Z"
   },
   {
    "duration": 359,
    "start_time": "2023-03-26T12:55:38.598Z"
   },
   {
    "duration": 59,
    "start_time": "2023-03-26T12:55:54.094Z"
   },
   {
    "duration": 7,
    "start_time": "2023-03-26T12:56:05.432Z"
   },
   {
    "duration": 46,
    "start_time": "2023-03-26T12:56:10.834Z"
   },
   {
    "duration": 55,
    "start_time": "2023-03-26T12:56:21.915Z"
   },
   {
    "duration": 13,
    "start_time": "2023-03-26T12:56:23.706Z"
   },
   {
    "duration": 12,
    "start_time": "2023-03-26T12:56:29.811Z"
   },
   {
    "duration": 12,
    "start_time": "2023-03-26T12:56:42.215Z"
   },
   {
    "duration": 7,
    "start_time": "2023-03-26T12:56:48.822Z"
   },
   {
    "duration": 40,
    "start_time": "2023-03-26T12:56:56.294Z"
   },
   {
    "duration": 41,
    "start_time": "2023-03-26T12:57:17.382Z"
   },
   {
    "duration": 8,
    "start_time": "2023-03-26T12:57:19.494Z"
   },
   {
    "duration": 40,
    "start_time": "2023-03-26T12:57:27.394Z"
   },
   {
    "duration": 41,
    "start_time": "2023-03-26T12:57:32.053Z"
   },
   {
    "duration": 10,
    "start_time": "2023-03-26T12:57:34.694Z"
   },
   {
    "duration": 388,
    "start_time": "2023-03-26T12:58:25.853Z"
   },
   {
    "duration": 253,
    "start_time": "2023-03-26T12:58:36.595Z"
   },
   {
    "duration": 10,
    "start_time": "2023-03-26T12:58:55.194Z"
   },
   {
    "duration": 8,
    "start_time": "2023-03-26T13:03:41.083Z"
   },
   {
    "duration": 2,
    "start_time": "2023-03-26T13:04:04.650Z"
   },
   {
    "duration": 8,
    "start_time": "2023-03-26T13:07:42.516Z"
   },
   {
    "duration": 12,
    "start_time": "2023-03-26T13:07:51.741Z"
   },
   {
    "duration": 45,
    "start_time": "2023-03-26T13:08:24.608Z"
   },
   {
    "duration": 31,
    "start_time": "2023-03-26T13:08:49.571Z"
   },
   {
    "duration": 234,
    "start_time": "2023-03-26T13:09:39.611Z"
   },
   {
    "duration": 16,
    "start_time": "2023-03-26T13:09:44.788Z"
   },
   {
    "duration": 125,
    "start_time": "2023-03-26T13:14:07.355Z"
   },
   {
    "duration": 15,
    "start_time": "2023-03-26T13:14:12.193Z"
   },
   {
    "duration": 16,
    "start_time": "2023-03-26T13:14:21.611Z"
   },
   {
    "duration": 597,
    "start_time": "2023-03-26T13:18:19.754Z"
   },
   {
    "duration": 44,
    "start_time": "2023-03-26T13:20:48.901Z"
   },
   {
    "duration": 117,
    "start_time": "2023-03-26T13:21:27.834Z"
   },
   {
    "duration": 10,
    "start_time": "2023-03-26T13:21:30.244Z"
   },
   {
    "duration": 122,
    "start_time": "2023-03-26T13:21:56.639Z"
   },
   {
    "duration": 12,
    "start_time": "2023-03-26T13:21:58.030Z"
   },
   {
    "duration": 264,
    "start_time": "2023-03-26T13:24:58.272Z"
   },
   {
    "duration": 202,
    "start_time": "2023-03-26T13:25:16.085Z"
   },
   {
    "duration": 200,
    "start_time": "2023-03-26T13:25:36.495Z"
   },
   {
    "duration": 171,
    "start_time": "2023-03-26T13:25:51.546Z"
   },
   {
    "duration": 43,
    "start_time": "2023-03-26T13:26:00.517Z"
   },
   {
    "duration": 165,
    "start_time": "2023-03-26T13:26:09.692Z"
   },
   {
    "duration": 193,
    "start_time": "2023-03-26T13:26:25.632Z"
   },
   {
    "duration": 146,
    "start_time": "2023-03-26T13:26:44.520Z"
   },
   {
    "duration": 266,
    "start_time": "2023-03-26T13:27:20.190Z"
   },
   {
    "duration": 199,
    "start_time": "2023-03-26T13:27:33.332Z"
   },
   {
    "duration": 8,
    "start_time": "2023-03-26T13:28:31.994Z"
   },
   {
    "duration": 26,
    "start_time": "2023-03-26T13:29:01.607Z"
   },
   {
    "duration": 9,
    "start_time": "2023-03-26T13:29:20.132Z"
   },
   {
    "duration": 3,
    "start_time": "2023-03-26T13:30:16.451Z"
   },
   {
    "duration": 11,
    "start_time": "2023-03-26T13:30:58.096Z"
   },
   {
    "duration": 44,
    "start_time": "2023-03-26T13:31:14.403Z"
   },
   {
    "duration": 43,
    "start_time": "2023-03-26T13:31:28.024Z"
   },
   {
    "duration": 36,
    "start_time": "2023-03-26T13:31:33.314Z"
   },
   {
    "duration": 6,
    "start_time": "2023-03-26T13:31:42.849Z"
   },
   {
    "duration": 12,
    "start_time": "2023-03-26T13:31:49.346Z"
   },
   {
    "duration": 5,
    "start_time": "2023-03-26T13:32:02.130Z"
   },
   {
    "duration": 11,
    "start_time": "2023-03-26T13:32:06.094Z"
   },
   {
    "duration": 7,
    "start_time": "2023-03-26T13:32:24.797Z"
   },
   {
    "duration": 8,
    "start_time": "2023-03-26T13:33:15.301Z"
   },
   {
    "duration": 308,
    "start_time": "2023-03-26T13:34:03.836Z"
   },
   {
    "duration": 270,
    "start_time": "2023-03-26T13:34:07.640Z"
   },
   {
    "duration": 172,
    "start_time": "2023-03-26T13:34:11.725Z"
   },
   {
    "duration": 220,
    "start_time": "2023-03-26T13:34:36.479Z"
   },
   {
    "duration": 168,
    "start_time": "2023-03-26T13:35:00.468Z"
   },
   {
    "duration": 221,
    "start_time": "2023-03-26T13:35:04.812Z"
   },
   {
    "duration": 239,
    "start_time": "2023-03-26T13:35:07.583Z"
   },
   {
    "duration": 166,
    "start_time": "2023-03-26T13:35:50.819Z"
   },
   {
    "duration": 6,
    "start_time": "2023-03-26T13:36:08.278Z"
   },
   {
    "duration": 166,
    "start_time": "2023-03-26T13:36:18.486Z"
   },
   {
    "duration": 226,
    "start_time": "2023-03-26T13:36:25.226Z"
   },
   {
    "duration": 196,
    "start_time": "2023-03-26T13:36:37.137Z"
   },
   {
    "duration": 205,
    "start_time": "2023-03-26T13:36:42.445Z"
   },
   {
    "duration": 159,
    "start_time": "2023-03-26T13:36:48.386Z"
   },
   {
    "duration": 172,
    "start_time": "2023-03-26T13:36:54.616Z"
   },
   {
    "duration": 245,
    "start_time": "2023-03-26T13:37:49.686Z"
   },
   {
    "duration": 182,
    "start_time": "2023-03-26T13:37:56.306Z"
   },
   {
    "duration": 176,
    "start_time": "2023-03-26T13:37:59.769Z"
   },
   {
    "duration": 172,
    "start_time": "2023-03-26T13:38:07.089Z"
   },
   {
    "duration": 167,
    "start_time": "2023-03-26T13:38:17.537Z"
   },
   {
    "duration": 10,
    "start_time": "2023-03-26T13:39:28.716Z"
   },
   {
    "duration": 193,
    "start_time": "2023-03-26T13:40:28.804Z"
   },
   {
    "duration": 155,
    "start_time": "2023-03-26T13:42:18.624Z"
   },
   {
    "duration": 157,
    "start_time": "2023-03-26T13:42:31.988Z"
   },
   {
    "duration": 141,
    "start_time": "2023-03-26T13:42:50.897Z"
   },
   {
    "duration": 165,
    "start_time": "2023-03-26T13:43:07.824Z"
   },
   {
    "duration": 163,
    "start_time": "2023-03-26T13:43:41.781Z"
   },
   {
    "duration": 241,
    "start_time": "2023-03-26T13:44:11.581Z"
   },
   {
    "duration": 225,
    "start_time": "2023-03-26T13:44:21.349Z"
   },
   {
    "duration": 151,
    "start_time": "2023-03-26T13:45:43.088Z"
   },
   {
    "duration": 136,
    "start_time": "2023-03-26T13:45:55.230Z"
   },
   {
    "duration": 213,
    "start_time": "2023-03-26T13:46:15.689Z"
   },
   {
    "duration": 193,
    "start_time": "2023-03-26T13:46:22.298Z"
   },
   {
    "duration": 168,
    "start_time": "2023-03-26T13:46:37.003Z"
   },
   {
    "duration": 174,
    "start_time": "2023-03-26T13:47:48.887Z"
   },
   {
    "duration": 198,
    "start_time": "2023-03-26T13:50:29.036Z"
   },
   {
    "duration": 159,
    "start_time": "2023-03-26T13:51:11.931Z"
   },
   {
    "duration": 365,
    "start_time": "2023-03-26T13:53:21.719Z"
   },
   {
    "duration": 231,
    "start_time": "2023-03-26T13:53:25.707Z"
   },
   {
    "duration": 300,
    "start_time": "2023-03-26T13:54:15.710Z"
   },
   {
    "duration": 287,
    "start_time": "2023-03-26T13:54:54.181Z"
   },
   {
    "duration": 279,
    "start_time": "2023-03-26T13:55:11.509Z"
   },
   {
    "duration": 147,
    "start_time": "2023-03-26T13:58:15.199Z"
   },
   {
    "duration": 122,
    "start_time": "2023-03-26T14:00:46.790Z"
   },
   {
    "duration": 128,
    "start_time": "2023-03-26T14:01:02.853Z"
   },
   {
    "duration": 108,
    "start_time": "2023-03-26T14:01:50.491Z"
   },
   {
    "duration": 8,
    "start_time": "2023-03-26T14:01:54.725Z"
   },
   {
    "duration": 109,
    "start_time": "2023-03-26T14:02:08.286Z"
   },
   {
    "duration": 117,
    "start_time": "2023-03-26T14:02:56.529Z"
   },
   {
    "duration": 284,
    "start_time": "2023-03-26T14:03:24.560Z"
   },
   {
    "duration": 113,
    "start_time": "2023-03-26T14:03:36.503Z"
   },
   {
    "duration": 278,
    "start_time": "2023-03-26T14:04:20.511Z"
   },
   {
    "duration": 277,
    "start_time": "2023-03-26T14:04:26.713Z"
   },
   {
    "duration": 257,
    "start_time": "2023-03-26T14:05:48.687Z"
   },
   {
    "duration": 224,
    "start_time": "2023-03-26T14:06:24.087Z"
   },
   {
    "duration": 229,
    "start_time": "2023-03-26T14:06:31.842Z"
   },
   {
    "duration": 186,
    "start_time": "2023-03-26T14:06:43.618Z"
   },
   {
    "duration": 10,
    "start_time": "2023-03-26T14:07:36.055Z"
   },
   {
    "duration": 6,
    "start_time": "2023-03-26T14:07:43.655Z"
   },
   {
    "duration": 262,
    "start_time": "2023-03-26T14:10:43.653Z"
   },
   {
    "duration": 6,
    "start_time": "2023-03-26T14:12:20.946Z"
   },
   {
    "duration": 241,
    "start_time": "2023-03-26T14:13:34.102Z"
   },
   {
    "duration": 266,
    "start_time": "2023-03-26T14:16:53.195Z"
   },
   {
    "duration": 259,
    "start_time": "2023-03-26T14:17:10.552Z"
   },
   {
    "duration": 862,
    "start_time": "2023-03-26T14:19:21.500Z"
   },
   {
    "duration": 8,
    "start_time": "2023-03-26T14:19:49.020Z"
   },
   {
    "duration": 190,
    "start_time": "2023-03-26T14:24:49.233Z"
   },
   {
    "duration": 260,
    "start_time": "2023-03-26T14:24:54.353Z"
   },
   {
    "duration": 221,
    "start_time": "2023-03-26T14:25:09.673Z"
   },
   {
    "duration": 254,
    "start_time": "2023-03-26T14:26:58.932Z"
   },
   {
    "duration": 252,
    "start_time": "2023-03-26T14:27:16.701Z"
   },
   {
    "duration": 207,
    "start_time": "2023-03-26T14:27:35.334Z"
   },
   {
    "duration": 15,
    "start_time": "2023-03-26T14:28:54.906Z"
   },
   {
    "duration": 7,
    "start_time": "2023-03-26T14:29:38.549Z"
   },
   {
    "duration": 98,
    "start_time": "2023-03-26T14:30:24.668Z"
   },
   {
    "duration": 34,
    "start_time": "2023-03-26T14:32:09.771Z"
   },
   {
    "duration": 8,
    "start_time": "2023-03-26T14:32:43.198Z"
   },
   {
    "duration": 15,
    "start_time": "2023-03-26T14:33:22.048Z"
   },
   {
    "duration": 18,
    "start_time": "2023-03-26T14:33:41.958Z"
   },
   {
    "duration": 15,
    "start_time": "2023-03-26T14:33:59.767Z"
   },
   {
    "duration": 27,
    "start_time": "2023-03-26T14:34:10.594Z"
   },
   {
    "duration": 14,
    "start_time": "2023-03-26T14:34:49.061Z"
   },
   {
    "duration": 113,
    "start_time": "2023-03-26T18:42:31.785Z"
   },
   {
    "duration": 7,
    "start_time": "2023-03-26T18:42:32.126Z"
   },
   {
    "duration": 93,
    "start_time": "2023-03-26T18:42:32.853Z"
   },
   {
    "duration": 7,
    "start_time": "2023-03-26T18:42:33.292Z"
   },
   {
    "duration": 5,
    "start_time": "2023-03-26T18:43:56.635Z"
   },
   {
    "duration": 6,
    "start_time": "2023-03-26T18:47:27.763Z"
   },
   {
    "duration": 7,
    "start_time": "2023-03-26T18:47:53.570Z"
   },
   {
    "duration": 145,
    "start_time": "2023-03-26T18:47:53.986Z"
   },
   {
    "duration": 111,
    "start_time": "2023-03-26T18:47:54.346Z"
   },
   {
    "duration": 6,
    "start_time": "2023-03-26T18:47:54.738Z"
   },
   {
    "duration": 5,
    "start_time": "2023-03-26T18:47:55.134Z"
   },
   {
    "duration": 6,
    "start_time": "2023-03-26T18:47:55.536Z"
   },
   {
    "duration": 166,
    "start_time": "2023-03-26T18:47:56.121Z"
   },
   {
    "duration": 233,
    "start_time": "2023-03-26T18:56:20.516Z"
   },
   {
    "duration": 270,
    "start_time": "2023-03-26T18:56:44.268Z"
   },
   {
    "duration": 180,
    "start_time": "2023-03-26T19:53:31.651Z"
   },
   {
    "duration": 92,
    "start_time": "2023-03-26T19:53:42.099Z"
   },
   {
    "duration": 95,
    "start_time": "2023-03-26T19:53:56.913Z"
   },
   {
    "duration": 11,
    "start_time": "2023-03-26T19:54:07.979Z"
   },
   {
    "duration": 13,
    "start_time": "2023-03-26T19:54:08.566Z"
   },
   {
    "duration": 53,
    "start_time": "2023-03-26T19:54:09.510Z"
   },
   {
    "duration": 9,
    "start_time": "2023-03-26T19:54:09.710Z"
   },
   {
    "duration": 16,
    "start_time": "2023-03-26T19:54:09.901Z"
   },
   {
    "duration": 7,
    "start_time": "2023-03-26T19:54:10.142Z"
   },
   {
    "duration": 6,
    "start_time": "2023-03-26T19:54:10.614Z"
   },
   {
    "duration": 142,
    "start_time": "2023-03-26T19:54:10.933Z"
   },
   {
    "duration": 108,
    "start_time": "2023-03-26T19:54:11.149Z"
   },
   {
    "duration": 7,
    "start_time": "2023-03-26T19:54:11.349Z"
   },
   {
    "duration": 6,
    "start_time": "2023-03-26T19:54:11.574Z"
   },
   {
    "duration": 7,
    "start_time": "2023-03-26T19:54:11.830Z"
   },
   {
    "duration": 157,
    "start_time": "2023-03-26T19:54:12.063Z"
   },
   {
    "duration": 154,
    "start_time": "2023-03-26T19:54:13.829Z"
   },
   {
    "duration": 245,
    "start_time": "2023-03-26T19:54:16.290Z"
   },
   {
    "duration": 260,
    "start_time": "2023-03-26T19:54:18.158Z"
   },
   {
    "duration": 5,
    "start_time": "2023-03-26T19:54:19.798Z"
   },
   {
    "duration": 267,
    "start_time": "2023-03-26T19:54:21.253Z"
   },
   {
    "duration": 5,
    "start_time": "2023-03-26T19:54:22.950Z"
   },
   {
    "duration": 95,
    "start_time": "2023-03-26T19:54:24.511Z"
   },
   {
    "duration": 130,
    "start_time": "2023-03-26T19:55:32.659Z"
   },
   {
    "duration": 93,
    "start_time": "2023-03-26T19:55:48.856Z"
   },
   {
    "duration": 219,
    "start_time": "2023-03-26T19:56:03.453Z"
   },
   {
    "duration": 195,
    "start_time": "2023-03-26T19:57:46.659Z"
   },
   {
    "duration": 202,
    "start_time": "2023-03-26T19:58:29.688Z"
   },
   {
    "duration": 261,
    "start_time": "2023-03-26T19:59:57.838Z"
   },
   {
    "duration": 262,
    "start_time": "2023-03-26T20:02:06.543Z"
   },
   {
    "duration": 21,
    "start_time": "2023-03-26T20:03:56.007Z"
   },
   {
    "duration": 17,
    "start_time": "2023-03-26T20:04:21.902Z"
   },
   {
    "duration": 145,
    "start_time": "2023-03-26T20:04:56.596Z"
   },
   {
    "duration": 144,
    "start_time": "2023-03-26T20:06:09.408Z"
   },
   {
    "duration": 200,
    "start_time": "2023-03-26T20:07:53.741Z"
   },
   {
    "duration": 224,
    "start_time": "2023-03-26T20:08:03.557Z"
   },
   {
    "duration": 29,
    "start_time": "2023-03-26T20:08:34.098Z"
   },
   {
    "duration": 30,
    "start_time": "2023-03-26T20:09:16.091Z"
   },
   {
    "duration": 36,
    "start_time": "2023-03-26T20:09:20.911Z"
   },
   {
    "duration": 188,
    "start_time": "2023-03-26T20:13:18.167Z"
   },
   {
    "duration": 35,
    "start_time": "2023-03-26T20:13:20.661Z"
   },
   {
    "duration": 12,
    "start_time": "2023-03-26T20:17:32.606Z"
   },
   {
    "duration": 1039,
    "start_time": "2023-03-26T20:23:14.813Z"
   },
   {
    "duration": 982,
    "start_time": "2023-03-26T20:23:29.741Z"
   },
   {
    "duration": 875,
    "start_time": "2023-03-26T20:23:37.584Z"
   },
   {
    "duration": 9,
    "start_time": "2023-03-26T20:23:44.509Z"
   },
   {
    "duration": 18,
    "start_time": "2023-03-26T20:24:05.357Z"
   },
   {
    "duration": 708,
    "start_time": "2023-03-26T20:26:20.673Z"
   },
   {
    "duration": 691,
    "start_time": "2023-03-26T20:26:30.906Z"
   },
   {
    "duration": 10,
    "start_time": "2023-03-26T20:27:42.143Z"
   },
   {
    "duration": 30,
    "start_time": "2023-03-26T20:27:45.647Z"
   },
   {
    "duration": 714,
    "start_time": "2023-03-26T20:32:55.791Z"
   },
   {
    "duration": 14,
    "start_time": "2023-03-26T20:33:20.127Z"
   },
   {
    "duration": 1208,
    "start_time": "2023-03-26T20:37:37.310Z"
   },
   {
    "duration": 99,
    "start_time": "2023-03-26T20:37:38.520Z"
   },
   {
    "duration": 3,
    "start_time": "2023-03-26T20:37:38.621Z"
   },
   {
    "duration": 17,
    "start_time": "2023-03-26T20:37:38.625Z"
   },
   {
    "duration": 11,
    "start_time": "2023-03-26T20:37:38.643Z"
   },
   {
    "duration": 10,
    "start_time": "2023-03-26T20:37:38.656Z"
   },
   {
    "duration": 56,
    "start_time": "2023-03-26T20:37:38.667Z"
   },
   {
    "duration": 8,
    "start_time": "2023-03-26T20:37:38.724Z"
   },
   {
    "duration": 18,
    "start_time": "2023-03-26T20:37:38.733Z"
   },
   {
    "duration": 6,
    "start_time": "2023-03-26T20:37:38.754Z"
   },
   {
    "duration": 6,
    "start_time": "2023-03-26T20:37:38.761Z"
   },
   {
    "duration": 162,
    "start_time": "2023-03-26T20:37:38.770Z"
   },
   {
    "duration": 149,
    "start_time": "2023-03-26T20:37:38.933Z"
   },
   {
    "duration": 10,
    "start_time": "2023-03-26T20:37:39.083Z"
   },
   {
    "duration": 9,
    "start_time": "2023-03-26T20:37:39.094Z"
   },
   {
    "duration": 6,
    "start_time": "2023-03-26T20:37:39.107Z"
   },
   {
    "duration": 272,
    "start_time": "2023-03-26T20:37:39.115Z"
   },
   {
    "duration": 232,
    "start_time": "2023-03-26T20:37:39.390Z"
   },
   {
    "duration": 263,
    "start_time": "2023-03-26T20:37:39.624Z"
   },
   {
    "duration": 234,
    "start_time": "2023-03-26T20:37:39.891Z"
   },
   {
    "duration": 5,
    "start_time": "2023-03-26T20:37:40.128Z"
   },
   {
    "duration": 282,
    "start_time": "2023-03-26T20:37:40.135Z"
   },
   {
    "duration": 6,
    "start_time": "2023-03-26T20:37:40.419Z"
   },
   {
    "duration": 211,
    "start_time": "2023-03-26T20:37:40.427Z"
   },
   {
    "duration": 41,
    "start_time": "2023-03-26T20:37:40.639Z"
   },
   {
    "duration": 14,
    "start_time": "2023-03-26T20:37:40.681Z"
   },
   {
    "duration": 10,
    "start_time": "2023-03-26T20:37:40.697Z"
   },
   {
    "duration": 13,
    "start_time": "2023-03-26T20:37:40.711Z"
   },
   {
    "duration": 19,
    "start_time": "2023-03-26T20:37:40.726Z"
   },
   {
    "duration": 34,
    "start_time": "2023-03-26T20:37:40.747Z"
   },
   {
    "duration": 1456,
    "start_time": "2023-03-27T07:11:10.410Z"
   },
   {
    "duration": 67,
    "start_time": "2023-03-27T07:11:11.868Z"
   },
   {
    "duration": 3,
    "start_time": "2023-03-27T07:11:11.937Z"
   },
   {
    "duration": 22,
    "start_time": "2023-03-27T07:11:11.942Z"
   },
   {
    "duration": 19,
    "start_time": "2023-03-27T07:11:11.966Z"
   },
   {
    "duration": 14,
    "start_time": "2023-03-27T07:11:11.987Z"
   },
   {
    "duration": 136,
    "start_time": "2023-03-27T07:11:12.002Z"
   },
   {
    "duration": 11,
    "start_time": "2023-03-27T07:11:12.140Z"
   },
   {
    "duration": 82,
    "start_time": "2023-03-27T07:11:12.153Z"
   },
   {
    "duration": 9,
    "start_time": "2023-03-27T07:11:12.238Z"
   },
   {
    "duration": 31,
    "start_time": "2023-03-27T07:11:12.249Z"
   },
   {
    "duration": 185,
    "start_time": "2023-03-27T07:11:12.282Z"
   },
   {
    "duration": 144,
    "start_time": "2023-03-27T07:11:12.469Z"
   },
   {
    "duration": 9,
    "start_time": "2023-03-27T07:11:12.615Z"
   },
   {
    "duration": 23,
    "start_time": "2023-03-27T07:11:12.626Z"
   },
   {
    "duration": 14,
    "start_time": "2023-03-27T07:11:12.651Z"
   },
   {
    "duration": 291,
    "start_time": "2023-03-27T07:11:12.667Z"
   },
   {
    "duration": 249,
    "start_time": "2023-03-27T07:11:12.959Z"
   },
   {
    "duration": 389,
    "start_time": "2023-03-27T07:11:13.210Z"
   },
   {
    "duration": 237,
    "start_time": "2023-03-27T07:11:13.601Z"
   },
   {
    "duration": 6,
    "start_time": "2023-03-27T07:11:13.840Z"
   },
   {
    "duration": 311,
    "start_time": "2023-03-27T07:11:13.848Z"
   },
   {
    "duration": 5,
    "start_time": "2023-03-27T07:11:14.161Z"
   },
   {
    "duration": 215,
    "start_time": "2023-03-27T07:11:14.183Z"
   },
   {
    "duration": 37,
    "start_time": "2023-03-27T07:11:14.400Z"
   },
   {
    "duration": 11,
    "start_time": "2023-03-27T07:11:14.439Z"
   },
   {
    "duration": 33,
    "start_time": "2023-03-27T07:11:14.452Z"
   },
   {
    "duration": 15,
    "start_time": "2023-03-27T07:11:14.488Z"
   },
   {
    "duration": 46,
    "start_time": "2023-03-27T07:11:14.505Z"
   },
   {
    "duration": 15,
    "start_time": "2023-03-27T07:11:14.552Z"
   },
   {
    "duration": 1405,
    "start_time": "2023-03-27T13:00:22.332Z"
   },
   {
    "duration": 90,
    "start_time": "2023-03-27T13:00:23.739Z"
   },
   {
    "duration": 5,
    "start_time": "2023-03-27T13:00:23.831Z"
   },
   {
    "duration": 17,
    "start_time": "2023-03-27T13:00:23.838Z"
   },
   {
    "duration": 23,
    "start_time": "2023-03-27T13:00:23.858Z"
   },
   {
    "duration": 39,
    "start_time": "2023-03-27T13:00:23.892Z"
   },
   {
    "duration": 112,
    "start_time": "2023-03-27T13:00:23.935Z"
   },
   {
    "duration": 10,
    "start_time": "2023-03-27T13:00:24.050Z"
   },
   {
    "duration": 85,
    "start_time": "2023-03-27T13:00:24.062Z"
   },
   {
    "duration": 12,
    "start_time": "2023-03-27T13:00:24.151Z"
   },
   {
    "duration": 30,
    "start_time": "2023-03-27T13:00:24.165Z"
   },
   {
    "duration": 254,
    "start_time": "2023-03-27T13:00:24.201Z"
   },
   {
    "duration": 191,
    "start_time": "2023-03-27T13:00:24.458Z"
   },
   {
    "duration": 8,
    "start_time": "2023-03-27T13:00:24.652Z"
   },
   {
    "duration": 8,
    "start_time": "2023-03-27T13:00:24.664Z"
   },
   {
    "duration": 29,
    "start_time": "2023-03-27T13:00:24.674Z"
   },
   {
    "duration": 411,
    "start_time": "2023-03-27T13:00:24.705Z"
   },
   {
    "duration": 248,
    "start_time": "2023-03-27T13:00:25.118Z"
   },
   {
    "duration": 367,
    "start_time": "2023-03-27T13:00:25.368Z"
   },
   {
    "duration": 268,
    "start_time": "2023-03-27T13:00:25.737Z"
   },
   {
    "duration": 13,
    "start_time": "2023-03-27T13:00:26.020Z"
   },
   {
    "duration": 302,
    "start_time": "2023-03-27T13:00:26.034Z"
   },
   {
    "duration": 7,
    "start_time": "2023-03-27T13:00:26.339Z"
   },
   {
    "duration": 290,
    "start_time": "2023-03-27T13:00:26.348Z"
   },
   {
    "duration": 74,
    "start_time": "2023-03-27T13:00:26.641Z"
   },
   {
    "duration": 21,
    "start_time": "2023-03-27T13:00:26.716Z"
   },
   {
    "duration": 9,
    "start_time": "2023-03-27T13:00:26.739Z"
   },
   {
    "duration": 16,
    "start_time": "2023-03-27T13:00:26.751Z"
   },
   {
    "duration": 59,
    "start_time": "2023-03-27T13:00:26.776Z"
   },
   {
    "duration": 14,
    "start_time": "2023-03-27T13:00:26.837Z"
   },
   {
    "duration": 1432,
    "start_time": "2023-03-27T13:25:00.399Z"
   },
   {
    "duration": 88,
    "start_time": "2023-03-27T13:25:27.205Z"
   },
   {
    "duration": 20,
    "start_time": "2023-03-27T13:25:42.678Z"
   },
   {
    "duration": 16,
    "start_time": "2023-03-27T13:26:15.214Z"
   },
   {
    "duration": 4,
    "start_time": "2023-03-27T13:26:20.491Z"
   },
   {
    "duration": 10,
    "start_time": "2023-03-27T13:26:21.725Z"
   },
   {
    "duration": 12,
    "start_time": "2023-03-27T13:26:22.907Z"
   },
   {
    "duration": 12,
    "start_time": "2023-03-27T13:26:39.674Z"
   },
   {
    "duration": 128,
    "start_time": "2023-03-27T13:28:30.002Z"
   },
   {
    "duration": 14,
    "start_time": "2023-03-27T13:28:42.035Z"
   },
   {
    "duration": 59,
    "start_time": "2023-03-27T13:29:08.121Z"
   },
   {
    "duration": 8,
    "start_time": "2023-03-27T13:29:10.042Z"
   },
   {
    "duration": 79,
    "start_time": "2023-03-27T13:29:21.476Z"
   },
   {
    "duration": 28,
    "start_time": "2023-03-27T13:29:32.141Z"
   },
   {
    "duration": 8,
    "start_time": "2023-03-27T13:29:41.081Z"
   },
   {
    "duration": 8,
    "start_time": "2023-03-27T13:30:55.159Z"
   },
   {
    "duration": 184,
    "start_time": "2023-03-27T13:32:09.043Z"
   },
   {
    "duration": 120,
    "start_time": "2023-03-27T13:32:25.643Z"
   },
   {
    "duration": 8,
    "start_time": "2023-03-27T13:33:09.266Z"
   },
   {
    "duration": 8,
    "start_time": "2023-03-27T13:34:20.847Z"
   },
   {
    "duration": 217,
    "start_time": "2023-03-27T13:34:55.727Z"
   },
   {
    "duration": 10,
    "start_time": "2023-03-27T13:35:00.546Z"
   },
   {
    "duration": 6,
    "start_time": "2023-03-27T13:35:02.279Z"
   },
   {
    "duration": 270,
    "start_time": "2023-03-27T13:35:03.925Z"
   },
   {
    "duration": 229,
    "start_time": "2023-03-27T13:37:06.277Z"
   },
   {
    "duration": 227,
    "start_time": "2023-03-27T13:38:02.857Z"
   },
   {
    "duration": 371,
    "start_time": "2023-03-27T13:39:52.458Z"
   },
   {
    "duration": 279,
    "start_time": "2023-03-27T13:42:36.580Z"
   },
   {
    "duration": 6,
    "start_time": "2023-03-27T13:43:38.829Z"
   },
   {
    "duration": 308,
    "start_time": "2023-03-27T13:44:31.381Z"
   },
   {
    "duration": 6,
    "start_time": "2023-03-27T13:45:41.901Z"
   },
   {
    "duration": 6,
    "start_time": "2023-03-27T13:47:09.913Z"
   },
   {
    "duration": 6,
    "start_time": "2023-03-27T13:47:22.223Z"
   },
   {
    "duration": 253,
    "start_time": "2023-03-27T13:47:51.344Z"
   },
   {
    "duration": 261,
    "start_time": "2023-03-27T13:48:06.974Z"
   },
   {
    "duration": 242,
    "start_time": "2023-03-27T13:48:43.210Z"
   },
   {
    "duration": 326,
    "start_time": "2023-03-27T13:49:02.169Z"
   },
   {
    "duration": 5,
    "start_time": "2023-03-27T13:49:45.625Z"
   },
   {
    "duration": 233,
    "start_time": "2023-03-27T13:56:21.815Z"
   },
   {
    "duration": 39,
    "start_time": "2023-03-27T14:00:01.310Z"
   },
   {
    "duration": 11,
    "start_time": "2023-03-27T14:24:10.011Z"
   },
   {
    "duration": 20,
    "start_time": "2023-03-27T14:29:26.179Z"
   },
   {
    "duration": 12,
    "start_time": "2023-03-27T14:30:05.141Z"
   },
   {
    "duration": 32,
    "start_time": "2023-03-27T14:30:08.477Z"
   },
   {
    "duration": 16,
    "start_time": "2023-03-27T14:31:20.980Z"
   },
   {
    "duration": 66,
    "start_time": "2023-03-27T14:41:26.128Z"
   },
   {
    "duration": 11,
    "start_time": "2023-03-27T14:42:17.593Z"
   },
   {
    "duration": 31,
    "start_time": "2023-03-27T14:42:18.744Z"
   },
   {
    "duration": 8,
    "start_time": "2023-03-27T14:42:22.343Z"
   },
   {
    "duration": 7,
    "start_time": "2023-03-27T14:42:23.243Z"
   },
   {
    "duration": 175,
    "start_time": "2023-03-27T14:42:23.654Z"
   },
   {
    "duration": 156,
    "start_time": "2023-03-27T14:42:24.080Z"
   },
   {
    "duration": 11,
    "start_time": "2023-03-27T14:42:24.609Z"
   },
   {
    "duration": 10,
    "start_time": "2023-03-27T14:42:26.725Z"
   },
   {
    "duration": 7,
    "start_time": "2023-03-27T14:42:27.135Z"
   },
   {
    "duration": 197,
    "start_time": "2023-03-27T14:42:27.654Z"
   },
   {
    "duration": 60,
    "start_time": "2023-03-27T14:43:42.012Z"
   },
   {
    "duration": 9,
    "start_time": "2023-03-27T14:43:43.535Z"
   },
   {
    "duration": 42,
    "start_time": "2023-03-27T14:43:44.277Z"
   },
   {
    "duration": 8,
    "start_time": "2023-03-27T14:43:46.007Z"
   },
   {
    "duration": 6,
    "start_time": "2023-03-27T14:43:46.947Z"
   },
   {
    "duration": 204,
    "start_time": "2023-03-27T14:43:47.335Z"
   },
   {
    "duration": 145,
    "start_time": "2023-03-27T14:43:47.778Z"
   },
   {
    "duration": 8,
    "start_time": "2023-03-27T14:43:49.552Z"
   },
   {
    "duration": 8,
    "start_time": "2023-03-27T14:43:49.845Z"
   },
   {
    "duration": 8,
    "start_time": "2023-03-27T14:43:50.144Z"
   },
   {
    "duration": 221,
    "start_time": "2023-03-27T14:43:50.633Z"
   },
   {
    "duration": 202,
    "start_time": "2023-03-27T14:44:06.011Z"
   },
   {
    "duration": 302,
    "start_time": "2023-03-27T14:44:11.204Z"
   },
   {
    "duration": 257,
    "start_time": "2023-03-27T14:44:26.482Z"
   },
   {
    "duration": 6,
    "start_time": "2023-03-27T14:44:42.152Z"
   },
   {
    "duration": 257,
    "start_time": "2023-03-27T14:44:43.644Z"
   },
   {
    "duration": 7,
    "start_time": "2023-03-27T14:45:53.151Z"
   },
   {
    "duration": 227,
    "start_time": "2023-03-27T14:46:16.101Z"
   },
   {
    "duration": 65,
    "start_time": "2023-03-27T14:46:30.760Z"
   },
   {
    "duration": 12,
    "start_time": "2023-03-27T14:46:45.149Z"
   },
   {
    "duration": 1385,
    "start_time": "2023-03-27T14:51:18.438Z"
   },
   {
    "duration": 31,
    "start_time": "2023-03-27T14:51:19.828Z"
   },
   {
    "duration": 4,
    "start_time": "2023-03-27T14:51:19.861Z"
   },
   {
    "duration": 32,
    "start_time": "2023-03-27T14:51:19.868Z"
   },
   {
    "duration": 25,
    "start_time": "2023-03-27T14:51:19.905Z"
   },
   {
    "duration": 12,
    "start_time": "2023-03-27T14:51:19.932Z"
   },
   {
    "duration": 71,
    "start_time": "2023-03-27T14:51:19.946Z"
   },
   {
    "duration": 11,
    "start_time": "2023-03-27T14:51:20.024Z"
   },
   {
    "duration": 29,
    "start_time": "2023-03-27T14:51:20.037Z"
   },
   {
    "duration": 9,
    "start_time": "2023-03-27T14:51:20.069Z"
   },
   {
    "duration": 18,
    "start_time": "2023-03-27T14:51:20.080Z"
   },
   {
    "duration": 298,
    "start_time": "2023-03-27T14:51:20.106Z"
   },
   {
    "duration": 191,
    "start_time": "2023-03-27T14:51:20.410Z"
   },
   {
    "duration": 19,
    "start_time": "2023-03-27T14:51:20.603Z"
   },
   {
    "duration": 29,
    "start_time": "2023-03-27T14:51:20.624Z"
   },
   {
    "duration": 19,
    "start_time": "2023-03-27T14:51:20.655Z"
   },
   {
    "duration": 435,
    "start_time": "2023-03-27T14:51:20.677Z"
   },
   {
    "duration": 232,
    "start_time": "2023-03-27T14:51:21.120Z"
   },
   {
    "duration": 385,
    "start_time": "2023-03-27T14:51:21.354Z"
   },
   {
    "duration": 234,
    "start_time": "2023-03-27T14:51:21.741Z"
   },
   {
    "duration": 26,
    "start_time": "2023-03-27T14:51:21.977Z"
   },
   {
    "duration": 289,
    "start_time": "2023-03-27T14:51:22.014Z"
   },
   {
    "duration": 14,
    "start_time": "2023-03-27T14:51:22.314Z"
   },
   {
    "duration": 294,
    "start_time": "2023-03-27T14:51:22.330Z"
   },
   {
    "duration": 67,
    "start_time": "2023-03-27T14:51:22.627Z"
   },
   {
    "duration": 13,
    "start_time": "2023-03-27T14:51:22.707Z"
   },
   {
    "duration": 30,
    "start_time": "2023-03-27T14:51:22.723Z"
   },
   {
    "duration": 17,
    "start_time": "2023-03-27T14:51:22.757Z"
   },
   {
    "duration": 62,
    "start_time": "2023-03-27T14:51:22.776Z"
   },
   {
    "duration": 18,
    "start_time": "2023-03-27T14:51:22.840Z"
   },
   {
    "duration": 170,
    "start_time": "2023-03-27T14:51:56.614Z"
   },
   {
    "duration": 121,
    "start_time": "2023-03-27T14:52:00.461Z"
   },
   {
    "duration": 1348,
    "start_time": "2023-03-27T19:26:22.593Z"
   },
   {
    "duration": 61,
    "start_time": "2023-03-27T19:26:23.944Z"
   },
   {
    "duration": 2,
    "start_time": "2023-03-27T19:26:24.007Z"
   },
   {
    "duration": 18,
    "start_time": "2023-03-27T19:26:24.011Z"
   },
   {
    "duration": 16,
    "start_time": "2023-03-27T19:26:24.031Z"
   },
   {
    "duration": 13,
    "start_time": "2023-03-27T19:26:24.048Z"
   },
   {
    "duration": 111,
    "start_time": "2023-03-27T19:26:24.062Z"
   },
   {
    "duration": 9,
    "start_time": "2023-03-27T19:26:24.175Z"
   },
   {
    "duration": 71,
    "start_time": "2023-03-27T19:26:24.186Z"
   },
   {
    "duration": 9,
    "start_time": "2023-03-27T19:26:24.260Z"
   },
   {
    "duration": 8,
    "start_time": "2023-03-27T19:26:24.271Z"
   },
   {
    "duration": 213,
    "start_time": "2023-03-27T19:26:24.280Z"
   },
   {
    "duration": 162,
    "start_time": "2023-03-27T19:26:24.494Z"
   },
   {
    "duration": 6,
    "start_time": "2023-03-27T19:26:24.657Z"
   },
   {
    "duration": 18,
    "start_time": "2023-03-27T19:26:24.665Z"
   },
   {
    "duration": 5,
    "start_time": "2023-03-27T19:26:24.687Z"
   },
   {
    "duration": 286,
    "start_time": "2023-03-27T19:26:24.693Z"
   },
   {
    "duration": 203,
    "start_time": "2023-03-27T19:26:24.984Z"
   },
   {
    "duration": 394,
    "start_time": "2023-03-27T19:26:25.188Z"
   },
   {
    "duration": 274,
    "start_time": "2023-03-27T19:26:25.585Z"
   },
   {
    "duration": 19,
    "start_time": "2023-03-27T19:26:25.860Z"
   },
   {
    "duration": 284,
    "start_time": "2023-03-27T19:26:25.886Z"
   },
   {
    "duration": 11,
    "start_time": "2023-03-27T19:26:26.176Z"
   },
   {
    "duration": 312,
    "start_time": "2023-03-27T19:26:26.192Z"
   },
   {
    "duration": 50,
    "start_time": "2023-03-27T19:26:26.510Z"
   },
   {
    "duration": 23,
    "start_time": "2023-03-27T19:26:26.562Z"
   },
   {
    "duration": 14,
    "start_time": "2023-03-27T19:26:26.590Z"
   },
   {
    "duration": 9,
    "start_time": "2023-03-27T19:26:26.609Z"
   },
   {
    "duration": 33,
    "start_time": "2023-03-27T19:26:26.621Z"
   },
   {
    "duration": 17,
    "start_time": "2023-03-27T19:26:26.676Z"
   },
   {
    "duration": 120,
    "start_time": "2023-03-27T19:44:50.421Z"
   },
   {
    "duration": 8,
    "start_time": "2023-04-02T16:29:22.522Z"
   },
   {
    "duration": 45,
    "start_time": "2023-04-02T16:29:42.269Z"
   },
   {
    "duration": 1255,
    "start_time": "2023-04-02T16:29:49.948Z"
   },
   {
    "duration": 84,
    "start_time": "2023-04-02T16:29:51.205Z"
   },
   {
    "duration": 2,
    "start_time": "2023-04-02T16:29:51.309Z"
   },
   {
    "duration": 12,
    "start_time": "2023-04-02T16:29:51.725Z"
   },
   {
    "duration": 12,
    "start_time": "2023-04-02T16:29:54.197Z"
   },
   {
    "duration": 119,
    "start_time": "2023-04-02T16:33:24.737Z"
   },
   {
    "duration": 9,
    "start_time": "2023-04-02T16:33:26.120Z"
   },
   {
    "duration": 77,
    "start_time": "2023-04-02T16:33:31.303Z"
   },
   {
    "duration": 7,
    "start_time": "2023-04-02T16:33:33.663Z"
   },
   {
    "duration": 9,
    "start_time": "2023-04-02T16:34:22.397Z"
   },
   {
    "duration": 15,
    "start_time": "2023-04-02T16:34:29.558Z"
   },
   {
    "duration": 56,
    "start_time": "2023-04-02T16:34:58.860Z"
   },
   {
    "duration": 8,
    "start_time": "2023-04-02T16:35:02.405Z"
   },
   {
    "duration": 7,
    "start_time": "2023-04-02T16:35:10.404Z"
   },
   {
    "duration": 6,
    "start_time": "2023-04-02T16:35:18.668Z"
   },
   {
    "duration": 7,
    "start_time": "2023-04-02T16:35:27.169Z"
   },
   {
    "duration": 5,
    "start_time": "2023-04-02T16:35:31.196Z"
   },
   {
    "duration": 8,
    "start_time": "2023-04-02T16:36:31.459Z"
   },
   {
    "duration": 8,
    "start_time": "2023-04-02T16:36:49.354Z"
   },
   {
    "duration": 5,
    "start_time": "2023-04-02T16:36:52.786Z"
   },
   {
    "duration": 5,
    "start_time": "2023-04-02T16:37:02.706Z"
   },
   {
    "duration": 5,
    "start_time": "2023-04-02T16:37:12.914Z"
   },
   {
    "duration": 6,
    "start_time": "2023-04-02T16:37:25.559Z"
   },
   {
    "duration": 14,
    "start_time": "2023-04-02T16:37:39.161Z"
   },
   {
    "duration": 8,
    "start_time": "2023-04-02T16:38:35.006Z"
   },
   {
    "duration": 7,
    "start_time": "2023-04-02T16:38:40.025Z"
   },
   {
    "duration": 5,
    "start_time": "2023-04-02T16:39:05.561Z"
   },
   {
    "duration": 6,
    "start_time": "2023-04-02T16:39:15.260Z"
   },
   {
    "duration": 7,
    "start_time": "2023-04-02T16:39:27.790Z"
   },
   {
    "duration": 6,
    "start_time": "2023-04-02T16:39:43.318Z"
   },
   {
    "duration": 6,
    "start_time": "2023-04-02T16:40:04.925Z"
   },
   {
    "duration": 12,
    "start_time": "2023-04-02T16:40:19.627Z"
   },
   {
    "duration": 6,
    "start_time": "2023-04-02T16:40:23.667Z"
   },
   {
    "duration": 10,
    "start_time": "2023-04-02T16:40:28.700Z"
   },
   {
    "duration": 6,
    "start_time": "2023-04-02T16:40:31.619Z"
   },
   {
    "duration": 6,
    "start_time": "2023-04-02T16:40:41.811Z"
   },
   {
    "duration": 7,
    "start_time": "2023-04-02T16:40:44.759Z"
   },
   {
    "duration": 132,
    "start_time": "2023-04-02T16:40:59.256Z"
   },
   {
    "duration": 108,
    "start_time": "2023-04-02T16:41:08.167Z"
   },
   {
    "duration": 146,
    "start_time": "2023-04-02T16:41:11.724Z"
   },
   {
    "duration": 130,
    "start_time": "2023-04-02T16:41:19.614Z"
   },
   {
    "duration": 267,
    "start_time": "2023-04-02T16:41:24.682Z"
   },
   {
    "duration": 207,
    "start_time": "2023-04-02T16:42:02.263Z"
   },
   {
    "duration": 307,
    "start_time": "2023-04-02T16:42:06.472Z"
   },
   {
    "duration": 94,
    "start_time": "2023-04-02T16:42:21.385Z"
   },
   {
    "duration": 17,
    "start_time": "2023-04-02T16:42:25.825Z"
   },
   {
    "duration": 151,
    "start_time": "2023-04-02T16:42:38.096Z"
   },
   {
    "duration": 4,
    "start_time": "2023-04-02T16:42:40.225Z"
   },
   {
    "duration": 4,
    "start_time": "2023-04-02T16:42:42.688Z"
   },
   {
    "duration": 6,
    "start_time": "2023-04-02T16:42:48.087Z"
   },
   {
    "duration": 9,
    "start_time": "2023-04-02T16:42:59.608Z"
   },
   {
    "duration": 361,
    "start_time": "2023-04-02T16:43:05.112Z"
   },
   {
    "duration": 11,
    "start_time": "2023-04-02T16:43:25.257Z"
   },
   {
    "duration": 282,
    "start_time": "2023-04-02T16:43:42.458Z"
   },
   {
    "duration": 175,
    "start_time": "2023-04-02T16:45:04.815Z"
   },
   {
    "duration": 188,
    "start_time": "2023-04-02T16:45:28.787Z"
   },
   {
    "duration": 177,
    "start_time": "2023-04-02T16:45:34.671Z"
   },
   {
    "duration": 164,
    "start_time": "2023-04-02T16:46:24.973Z"
   },
   {
    "duration": 184,
    "start_time": "2023-04-02T16:46:45.157Z"
   },
   {
    "duration": 256,
    "start_time": "2023-04-02T16:47:00.627Z"
   },
   {
    "duration": 65,
    "start_time": "2023-04-02T16:47:18.960Z"
   },
   {
    "duration": 12,
    "start_time": "2023-04-02T16:47:39.465Z"
   },
   {
    "duration": 8,
    "start_time": "2023-04-02T16:47:43.455Z"
   },
   {
    "duration": 9,
    "start_time": "2023-04-02T16:47:47.272Z"
   },
   {
    "duration": 9,
    "start_time": "2023-04-02T16:47:52.146Z"
   },
   {
    "duration": 9,
    "start_time": "2023-04-02T16:47:59.599Z"
   },
   {
    "duration": 8,
    "start_time": "2023-04-02T16:48:13.810Z"
   },
   {
    "duration": 16,
    "start_time": "2023-04-02T16:48:33.407Z"
   },
   {
    "duration": 167,
    "start_time": "2023-04-02T16:48:51.858Z"
   },
   {
    "duration": 172,
    "start_time": "2023-04-02T16:51:56.240Z"
   },
   {
    "duration": 208,
    "start_time": "2023-04-02T16:52:04.920Z"
   },
   {
    "duration": 182,
    "start_time": "2023-04-02T16:52:10.055Z"
   },
   {
    "duration": 225,
    "start_time": "2023-04-02T16:52:15.521Z"
   },
   {
    "duration": 214,
    "start_time": "2023-04-02T16:52:20.453Z"
   },
   {
    "duration": 168,
    "start_time": "2023-04-02T16:52:23.976Z"
   },
   {
    "duration": 184,
    "start_time": "2023-04-02T16:52:27.199Z"
   },
   {
    "duration": 170,
    "start_time": "2023-04-02T16:52:53.974Z"
   },
   {
    "duration": 282,
    "start_time": "2023-04-02T16:53:03.182Z"
   },
   {
    "duration": 183,
    "start_time": "2023-04-02T16:53:11.156Z"
   },
   {
    "duration": 190,
    "start_time": "2023-04-02T16:53:35.782Z"
   },
   {
    "duration": 205,
    "start_time": "2023-04-02T16:53:41.502Z"
   },
   {
    "duration": 190,
    "start_time": "2023-04-02T16:54:17.437Z"
   },
   {
    "duration": 289,
    "start_time": "2023-04-02T16:54:27.995Z"
   },
   {
    "duration": 282,
    "start_time": "2023-04-02T16:54:42.664Z"
   },
   {
    "duration": 271,
    "start_time": "2023-04-02T16:54:46.465Z"
   },
   {
    "duration": 190,
    "start_time": "2023-04-02T16:54:53.029Z"
   },
   {
    "duration": 173,
    "start_time": "2023-04-02T16:55:08.848Z"
   },
   {
    "duration": 188,
    "start_time": "2023-04-02T16:55:13.888Z"
   },
   {
    "duration": 10,
    "start_time": "2023-04-02T16:55:53.299Z"
   },
   {
    "duration": 9,
    "start_time": "2023-04-02T16:56:43.218Z"
   },
   {
    "duration": 342,
    "start_time": "2023-04-02T16:56:54.670Z"
   },
   {
    "duration": 183,
    "start_time": "2023-04-02T16:57:03.080Z"
   },
   {
    "duration": 205,
    "start_time": "2023-04-02T16:57:14.151Z"
   },
   {
    "duration": 108,
    "start_time": "2023-04-02T16:57:18.872Z"
   },
   {
    "duration": 176,
    "start_time": "2023-04-02T16:57:24.358Z"
   },
   {
    "duration": 231,
    "start_time": "2023-04-02T16:57:31.126Z"
   },
   {
    "duration": 93,
    "start_time": "2023-04-02T16:57:55.974Z"
   },
   {
    "duration": 239,
    "start_time": "2023-04-02T16:59:03.756Z"
   },
   {
    "duration": 224,
    "start_time": "2023-04-02T17:01:42.423Z"
   },
   {
    "duration": 204,
    "start_time": "2023-04-02T17:01:52.920Z"
   },
   {
    "duration": 161,
    "start_time": "2023-04-02T17:03:15.014Z"
   },
   {
    "duration": 162,
    "start_time": "2023-04-02T17:03:30.508Z"
   },
   {
    "duration": 1388,
    "start_time": "2023-04-04T04:37:16.401Z"
   },
   {
    "duration": 59,
    "start_time": "2023-04-04T04:37:17.791Z"
   },
   {
    "duration": 3,
    "start_time": "2023-04-04T04:37:17.852Z"
   },
   {
    "duration": 11,
    "start_time": "2023-04-04T04:37:17.975Z"
   },
   {
    "duration": 14,
    "start_time": "2023-04-04T04:37:19.241Z"
   },
   {
    "duration": 15,
    "start_time": "2023-04-04T04:37:20.513Z"
   },
   {
    "duration": 83,
    "start_time": "2023-04-04T04:38:17.903Z"
   },
   {
    "duration": 10,
    "start_time": "2023-04-04T04:38:20.008Z"
   },
   {
    "duration": 65,
    "start_time": "2023-04-04T04:38:22.802Z"
   },
   {
    "duration": 8,
    "start_time": "2023-04-04T04:38:23.193Z"
   },
   {
    "duration": 12,
    "start_time": "2023-04-04T04:38:24.700Z"
   },
   {
    "duration": 143,
    "start_time": "2023-04-04T04:38:45.200Z"
   },
   {
    "duration": 116,
    "start_time": "2023-04-04T04:39:12.923Z"
   },
   {
    "duration": 105,
    "start_time": "2023-04-04T04:39:19.073Z"
   },
   {
    "duration": 129,
    "start_time": "2023-04-04T04:39:25.594Z"
   },
   {
    "duration": 121,
    "start_time": "2023-04-04T04:39:36.629Z"
   },
   {
    "duration": 6,
    "start_time": "2023-04-04T04:39:55.582Z"
   },
   {
    "duration": 6,
    "start_time": "2023-04-04T04:40:15.508Z"
   },
   {
    "duration": 10,
    "start_time": "2023-04-04T04:40:21.886Z"
   },
   {
    "duration": 268,
    "start_time": "2023-04-04T04:40:41.683Z"
   },
   {
    "duration": 11,
    "start_time": "2023-04-04T04:40:51.791Z"
   },
   {
    "duration": 17,
    "start_time": "2023-04-04T04:40:55.219Z"
   },
   {
    "duration": 371,
    "start_time": "2023-04-04T04:41:10.288Z"
   },
   {
    "duration": 480,
    "start_time": "2023-04-04T04:42:12.624Z"
   },
   {
    "duration": 111,
    "start_time": "2023-04-04T04:42:36.240Z"
   },
   {
    "duration": 115,
    "start_time": "2023-04-04T04:42:53.950Z"
   },
   {
    "duration": 118,
    "start_time": "2023-04-04T04:43:01.086Z"
   },
   {
    "duration": 311,
    "start_time": "2023-04-04T04:43:08.711Z"
   },
   {
    "duration": 289,
    "start_time": "2023-04-04T04:43:41.411Z"
   },
   {
    "duration": 319,
    "start_time": "2023-04-04T04:43:49.216Z"
   },
   {
    "duration": 4,
    "start_time": "2023-04-04T04:44:24.726Z"
   },
   {
    "duration": 439,
    "start_time": "2023-04-04T04:44:31.149Z"
   },
   {
    "duration": 3,
    "start_time": "2023-04-04T04:44:56.204Z"
   },
   {
    "duration": 324,
    "start_time": "2023-04-04T04:45:02.227Z"
   },
   {
    "duration": 5,
    "start_time": "2023-04-04T04:45:20.120Z"
   },
   {
    "duration": 351,
    "start_time": "2023-04-04T04:46:07.010Z"
   },
   {
    "duration": 376,
    "start_time": "2023-04-04T04:46:11.528Z"
   },
   {
    "duration": 341,
    "start_time": "2023-04-04T04:46:31.724Z"
   },
   {
    "duration": 453,
    "start_time": "2023-04-04T04:46:48.841Z"
   },
   {
    "duration": 338,
    "start_time": "2023-04-04T04:47:01.383Z"
   },
   {
    "duration": 108,
    "start_time": "2023-04-04T04:49:03.517Z"
   },
   {
    "duration": 359,
    "start_time": "2023-04-04T04:49:32.182Z"
   },
   {
    "duration": 54,
    "start_time": "2023-04-04T04:50:22.818Z"
   },
   {
    "duration": 45,
    "start_time": "2023-04-04T04:50:29.386Z"
   },
   {
    "duration": 52,
    "start_time": "2023-04-04T04:51:08.246Z"
   },
   {
    "duration": 50,
    "start_time": "2023-04-04T04:51:21.115Z"
   },
   {
    "duration": 155,
    "start_time": "2023-04-04T04:52:52.697Z"
   },
   {
    "duration": 50,
    "start_time": "2023-04-04T04:53:17.775Z"
   },
   {
    "duration": 115,
    "start_time": "2023-04-04T04:53:39.223Z"
   },
   {
    "duration": 56,
    "start_time": "2023-04-04T04:55:30.629Z"
   },
   {
    "duration": 59,
    "start_time": "2023-04-04T04:55:35.776Z"
   },
   {
    "duration": 51,
    "start_time": "2023-04-04T04:55:57.161Z"
   },
   {
    "duration": 49,
    "start_time": "2023-04-04T04:56:08.179Z"
   },
   {
    "duration": 53,
    "start_time": "2023-04-04T05:01:10.597Z"
   },
   {
    "duration": 49,
    "start_time": "2023-04-04T05:01:23.226Z"
   },
   {
    "duration": 67,
    "start_time": "2023-04-04T05:03:34.477Z"
   },
   {
    "duration": 13,
    "start_time": "2023-04-04T05:03:39.318Z"
   },
   {
    "duration": 64,
    "start_time": "2023-04-04T05:03:45.580Z"
   },
   {
    "duration": 52,
    "start_time": "2023-04-04T05:04:05.301Z"
   },
   {
    "duration": 53,
    "start_time": "2023-04-04T05:04:19.668Z"
   },
   {
    "duration": 1265,
    "start_time": "2023-04-04T06:14:35.770Z"
   },
   {
    "duration": 59,
    "start_time": "2023-04-04T06:14:37.727Z"
   },
   {
    "duration": 3,
    "start_time": "2023-04-04T06:14:37.877Z"
   },
   {
    "duration": 10,
    "start_time": "2023-04-04T06:14:38.139Z"
   },
   {
    "duration": 12,
    "start_time": "2023-04-04T06:14:39.570Z"
   },
   {
    "duration": 10,
    "start_time": "2023-04-04T06:14:42.622Z"
   },
   {
    "duration": 89,
    "start_time": "2023-04-04T06:14:51.740Z"
   },
   {
    "duration": 8,
    "start_time": "2023-04-04T06:14:52.247Z"
   },
   {
    "duration": 67,
    "start_time": "2023-04-04T06:14:54.623Z"
   },
   {
    "duration": 7,
    "start_time": "2023-04-04T06:14:55.828Z"
   },
   {
    "duration": 11,
    "start_time": "2023-04-04T06:14:56.941Z"
   },
   {
    "duration": 5,
    "start_time": "2023-04-04T06:14:57.519Z"
   },
   {
    "duration": 5,
    "start_time": "2023-04-04T06:15:00.469Z"
   },
   {
    "duration": 325,
    "start_time": "2023-04-04T06:15:00.977Z"
   },
   {
    "duration": 586,
    "start_time": "2023-04-04T06:15:02.147Z"
   },
   {
    "duration": 295,
    "start_time": "2023-04-04T06:15:12.131Z"
   },
   {
    "duration": 87,
    "start_time": "2023-04-04T06:16:00.823Z"
   },
   {
    "duration": 151,
    "start_time": "2023-04-04T06:16:10.067Z"
   },
   {
    "duration": 10,
    "start_time": "2023-04-04T06:16:25.727Z"
   },
   {
    "duration": 10,
    "start_time": "2023-04-04T06:16:39.837Z"
   },
   {
    "duration": 15,
    "start_time": "2023-04-04T06:16:46.427Z"
   },
   {
    "duration": 25,
    "start_time": "2023-04-04T06:17:14.362Z"
   },
   {
    "duration": 79,
    "start_time": "2023-04-04T06:17:38.972Z"
   },
   {
    "duration": 4,
    "start_time": "2023-04-04T06:18:52.711Z"
   },
   {
    "duration": 49,
    "start_time": "2023-04-04T06:19:25.162Z"
   },
   {
    "duration": 54,
    "start_time": "2023-04-04T06:20:26.147Z"
   },
   {
    "duration": 58,
    "start_time": "2023-04-04T06:21:15.958Z"
   },
   {
    "duration": 12,
    "start_time": "2023-04-04T06:23:15.031Z"
   },
   {
    "duration": 13,
    "start_time": "2023-04-04T06:23:32.015Z"
   },
   {
    "duration": 13,
    "start_time": "2023-04-04T06:23:40.951Z"
   },
   {
    "duration": 9,
    "start_time": "2023-04-04T06:24:03.215Z"
   },
   {
    "duration": 900,
    "start_time": "2023-04-04T06:25:22.823Z"
   },
   {
    "duration": 7,
    "start_time": "2023-04-04T06:25:27.356Z"
   },
   {
    "duration": 8,
    "start_time": "2023-04-04T06:25:54.614Z"
   },
   {
    "duration": 8,
    "start_time": "2023-04-04T06:26:11.182Z"
   },
   {
    "duration": 10,
    "start_time": "2023-04-04T06:28:08.636Z"
   },
   {
    "duration": 54,
    "start_time": "2023-04-04T06:28:14.054Z"
   },
   {
    "duration": 85,
    "start_time": "2023-04-04T06:28:23.327Z"
   },
   {
    "duration": 136,
    "start_time": "2023-04-04T06:28:32.934Z"
   },
   {
    "duration": 17,
    "start_time": "2023-04-04T06:29:09.730Z"
   },
   {
    "duration": 11,
    "start_time": "2023-04-04T06:29:16.172Z"
   },
   {
    "duration": 5,
    "start_time": "2023-04-04T06:30:17.376Z"
   },
   {
    "duration": 14,
    "start_time": "2023-04-04T06:30:22.026Z"
   },
   {
    "duration": 5,
    "start_time": "2023-04-04T06:30:28.076Z"
   },
   {
    "duration": 7,
    "start_time": "2023-04-04T06:30:47.777Z"
   },
   {
    "duration": 79,
    "start_time": "2023-04-04T06:32:17.626Z"
   },
   {
    "duration": 7,
    "start_time": "2023-04-04T06:32:21.831Z"
   },
   {
    "duration": 9,
    "start_time": "2023-04-04T06:32:30.630Z"
   },
   {
    "duration": 7,
    "start_time": "2023-04-04T06:32:35.455Z"
   },
   {
    "duration": 1437,
    "start_time": "2023-04-05T04:12:10.228Z"
   },
   {
    "duration": 89,
    "start_time": "2023-04-05T04:12:11.667Z"
   },
   {
    "duration": 4,
    "start_time": "2023-04-05T04:12:12.255Z"
   },
   {
    "duration": 15,
    "start_time": "2023-04-05T04:12:13.224Z"
   },
   {
    "duration": 16,
    "start_time": "2023-04-05T04:12:24.256Z"
   },
   {
    "duration": 33,
    "start_time": "2023-04-05T04:12:27.226Z"
   },
   {
    "duration": 125,
    "start_time": "2023-04-05T04:12:29.255Z"
   },
   {
    "duration": 55,
    "start_time": "2023-04-05T04:13:36.256Z"
   },
   {
    "duration": 13,
    "start_time": "2023-04-05T04:14:02.210Z"
   },
   {
    "duration": 11,
    "start_time": "2023-04-05T04:14:09.220Z"
   },
   {
    "duration": 92,
    "start_time": "2023-04-05T04:14:59.214Z"
   },
   {
    "duration": 11,
    "start_time": "2023-04-05T04:15:15.276Z"
   },
   {
    "duration": 5,
    "start_time": "2023-04-05T04:16:05.205Z"
   },
   {
    "duration": 7,
    "start_time": "2023-04-05T04:18:34.259Z"
   },
   {
    "duration": 439,
    "start_time": "2023-04-05T04:20:25.217Z"
   },
   {
    "duration": 54,
    "start_time": "2023-04-05T04:21:17.270Z"
   },
   {
    "duration": 102,
    "start_time": "2023-04-05T04:21:47.265Z"
   },
   {
    "duration": 148,
    "start_time": "2023-04-05T04:21:51.264Z"
   },
   {
    "duration": 14,
    "start_time": "2023-04-05T04:21:53.197Z"
   },
   {
    "duration": 10,
    "start_time": "2023-04-05T04:22:01.286Z"
   },
   {
    "duration": 70,
    "start_time": "2023-04-05T04:22:05.236Z"
   },
   {
    "duration": 155,
    "start_time": "2023-04-05T04:22:51.258Z"
   },
   {
    "duration": 12,
    "start_time": "2023-04-05T04:22:57.187Z"
   },
   {
    "duration": 12,
    "start_time": "2023-04-05T04:23:04.252Z"
   },
   {
    "duration": 8,
    "start_time": "2023-04-05T04:23:26.229Z"
   },
   {
    "duration": 6,
    "start_time": "2023-04-05T04:25:04.192Z"
   },
   {
    "duration": 18,
    "start_time": "2023-04-05T04:25:27.215Z"
   },
   {
    "duration": 20,
    "start_time": "2023-04-05T04:25:39.198Z"
   },
   {
    "duration": 12,
    "start_time": "2023-04-05T04:26:09.203Z"
   },
   {
    "duration": 11,
    "start_time": "2023-04-05T04:26:20.210Z"
   },
   {
    "duration": 10,
    "start_time": "2023-04-05T04:26:26.198Z"
   },
   {
    "duration": 6,
    "start_time": "2023-04-05T04:27:17.196Z"
   },
   {
    "duration": 11,
    "start_time": "2023-04-05T04:27:25.284Z"
   },
   {
    "duration": 6,
    "start_time": "2023-04-05T04:27:33.222Z"
   },
   {
    "duration": 5,
    "start_time": "2023-04-05T04:29:10.256Z"
   },
   {
    "duration": 13,
    "start_time": "2023-04-05T04:29:37.318Z"
   },
   {
    "duration": 13,
    "start_time": "2023-04-05T04:30:20.186Z"
   },
   {
    "duration": 13,
    "start_time": "2023-04-05T04:30:51.207Z"
   },
   {
    "duration": 14,
    "start_time": "2023-04-05T04:33:34.198Z"
   },
   {
    "duration": 78,
    "start_time": "2023-04-05T04:33:41.201Z"
   },
   {
    "duration": 90,
    "start_time": "2023-04-05T04:36:08.206Z"
   },
   {
    "duration": 97,
    "start_time": "2023-04-05T04:36:19.203Z"
   },
   {
    "duration": 78,
    "start_time": "2023-04-05T04:37:03.221Z"
   },
   {
    "duration": 5,
    "start_time": "2023-04-05T04:37:07.205Z"
   },
   {
    "duration": 130,
    "start_time": "2023-04-05T04:37:38.258Z"
   },
   {
    "duration": 88,
    "start_time": "2023-04-05T04:37:44.196Z"
   },
   {
    "duration": 5,
    "start_time": "2023-04-05T04:37:55.228Z"
   },
   {
    "duration": 14,
    "start_time": "2023-04-05T04:38:19.218Z"
   },
   {
    "duration": 14,
    "start_time": "2023-04-05T04:38:25.206Z"
   },
   {
    "duration": 7,
    "start_time": "2023-04-05T04:38:31.177Z"
   },
   {
    "duration": 5,
    "start_time": "2023-04-05T04:38:44.204Z"
   },
   {
    "duration": 5,
    "start_time": "2023-04-05T04:38:51.172Z"
   },
   {
    "duration": 4,
    "start_time": "2023-04-05T04:39:00.179Z"
   },
   {
    "duration": 5,
    "start_time": "2023-04-05T04:39:05.196Z"
   },
   {
    "duration": 87,
    "start_time": "2023-04-05T04:41:03.269Z"
   },
   {
    "duration": 82,
    "start_time": "2023-04-05T04:41:16.249Z"
   },
   {
    "duration": 119,
    "start_time": "2023-04-05T04:41:22.167Z"
   },
   {
    "duration": 83,
    "start_time": "2023-04-05T04:41:27.233Z"
   },
   {
    "duration": 74,
    "start_time": "2023-04-05T04:42:02.208Z"
   },
   {
    "duration": 5,
    "start_time": "2023-04-05T04:42:51.196Z"
   },
   {
    "duration": 4,
    "start_time": "2023-04-05T04:43:00.207Z"
   },
   {
    "duration": 5,
    "start_time": "2023-04-05T04:43:07.171Z"
   },
   {
    "duration": 14,
    "start_time": "2023-04-05T04:43:46.184Z"
   },
   {
    "duration": 13,
    "start_time": "2023-04-05T04:43:52.786Z"
   },
   {
    "duration": 7,
    "start_time": "2023-04-05T04:44:19.217Z"
   },
   {
    "duration": 14,
    "start_time": "2023-04-05T04:44:50.186Z"
   },
   {
    "duration": 5,
    "start_time": "2023-04-05T04:44:58.172Z"
   },
   {
    "duration": 5,
    "start_time": "2023-04-05T04:45:09.231Z"
   },
   {
    "duration": 11,
    "start_time": "2023-04-05T04:45:17.220Z"
   },
   {
    "duration": 9,
    "start_time": "2023-04-05T04:46:34.224Z"
   },
   {
    "duration": 85,
    "start_time": "2023-04-05T04:47:39.204Z"
   },
   {
    "duration": 14,
    "start_time": "2023-04-05T04:47:44.163Z"
   },
   {
    "duration": 77,
    "start_time": "2023-04-05T04:48:03.195Z"
   },
   {
    "duration": 12,
    "start_time": "2023-04-05T04:48:09.252Z"
   },
   {
    "duration": 8,
    "start_time": "2023-04-05T04:48:19.187Z"
   },
   {
    "duration": 13,
    "start_time": "2023-04-05T04:48:26.162Z"
   },
   {
    "duration": 4,
    "start_time": "2023-04-05T04:48:38.232Z"
   },
   {
    "duration": 8,
    "start_time": "2023-04-05T04:48:54.207Z"
   },
   {
    "duration": 16,
    "start_time": "2023-04-05T04:49:24.231Z"
   },
   {
    "duration": 93,
    "start_time": "2023-04-05T04:49:53.177Z"
   },
   {
    "duration": 81,
    "start_time": "2023-04-05T04:51:00.159Z"
   },
   {
    "duration": 16,
    "start_time": "2023-04-05T04:51:58.213Z"
   },
   {
    "duration": 11,
    "start_time": "2023-04-05T04:52:17.165Z"
   },
   {
    "duration": 16,
    "start_time": "2023-04-05T04:52:58.193Z"
   },
   {
    "duration": 35,
    "start_time": "2023-04-05T04:53:15.228Z"
   },
   {
    "duration": 12,
    "start_time": "2023-04-05T04:53:26.185Z"
   },
   {
    "duration": 77,
    "start_time": "2023-04-05T04:54:04.174Z"
   },
   {
    "duration": 68,
    "start_time": "2023-04-05T04:55:20.160Z"
   },
   {
    "duration": 87,
    "start_time": "2023-04-05T04:55:27.193Z"
   },
   {
    "duration": 23,
    "start_time": "2023-04-05T04:55:33.161Z"
   },
   {
    "duration": 23,
    "start_time": "2023-04-05T04:55:47.192Z"
   },
   {
    "duration": 12,
    "start_time": "2023-04-05T04:56:10.229Z"
   },
   {
    "duration": 12,
    "start_time": "2023-04-05T04:56:26.148Z"
   },
   {
    "duration": 75,
    "start_time": "2023-04-05T04:57:11.163Z"
   },
   {
    "duration": 10,
    "start_time": "2023-04-05T04:57:20.152Z"
   },
   {
    "duration": 12,
    "start_time": "2023-04-05T04:57:44.238Z"
   },
   {
    "duration": 12,
    "start_time": "2023-04-05T04:57:55.191Z"
   },
   {
    "duration": 17,
    "start_time": "2023-04-05T04:59:04.163Z"
   },
   {
    "duration": 13,
    "start_time": "2023-04-05T04:59:14.143Z"
   },
   {
    "duration": 20,
    "start_time": "2023-04-05T04:59:21.184Z"
   },
   {
    "duration": 13,
    "start_time": "2023-04-05T04:59:28.165Z"
   },
   {
    "duration": 14,
    "start_time": "2023-04-05T05:01:16.176Z"
   },
   {
    "duration": 11,
    "start_time": "2023-04-05T05:02:16.178Z"
   },
   {
    "duration": 29,
    "start_time": "2023-04-05T05:02:16.192Z"
   },
   {
    "duration": 30,
    "start_time": "2023-04-05T05:02:46.182Z"
   },
   {
    "duration": 30,
    "start_time": "2023-04-05T05:03:18.167Z"
   },
   {
    "duration": 32,
    "start_time": "2023-04-05T05:03:29.229Z"
   },
   {
    "duration": 32,
    "start_time": "2023-04-05T05:03:41.204Z"
   },
   {
    "duration": 31,
    "start_time": "2023-04-05T05:04:08.242Z"
   },
   {
    "duration": 10,
    "start_time": "2023-04-05T05:04:17.153Z"
   },
   {
    "duration": 75,
    "start_time": "2023-04-05T05:05:41.205Z"
   },
   {
    "duration": 128,
    "start_time": "2023-04-05T05:06:07.175Z"
   },
   {
    "duration": 19,
    "start_time": "2023-04-05T05:06:55.157Z"
   },
   {
    "duration": 74,
    "start_time": "2023-04-05T05:06:59.161Z"
   },
   {
    "duration": 55,
    "start_time": "2023-04-05T05:07:08.159Z"
   },
   {
    "duration": 7,
    "start_time": "2023-04-05T05:07:13.188Z"
   },
   {
    "duration": 7,
    "start_time": "2023-04-05T05:07:23.158Z"
   },
   {
    "duration": 7,
    "start_time": "2023-04-05T05:07:31.201Z"
   },
   {
    "duration": 379,
    "start_time": "2023-04-05T05:08:46.160Z"
   },
   {
    "duration": 122,
    "start_time": "2023-04-05T05:09:04.179Z"
   },
   {
    "duration": 137,
    "start_time": "2023-04-05T05:09:13.195Z"
   },
   {
    "duration": 773,
    "start_time": "2023-04-05T05:09:17.195Z"
   },
   {
    "duration": 81,
    "start_time": "2023-04-05T05:09:37.136Z"
   },
   {
    "duration": 20,
    "start_time": "2023-04-05T05:10:18.184Z"
   },
   {
    "duration": 500,
    "start_time": "2023-04-05T05:10:35.202Z"
   },
   {
    "duration": 86,
    "start_time": "2023-04-05T05:11:17.177Z"
   },
   {
    "duration": 100,
    "start_time": "2023-04-05T05:11:33.181Z"
   },
   {
    "duration": 89,
    "start_time": "2023-04-05T05:11:38.192Z"
   },
   {
    "duration": 145,
    "start_time": "2023-04-05T05:11:42.187Z"
   },
   {
    "duration": 95,
    "start_time": "2023-04-05T05:11:48.122Z"
   },
   {
    "duration": 214,
    "start_time": "2023-04-05T05:12:29.184Z"
   },
   {
    "duration": 160,
    "start_time": "2023-04-05T05:12:54.167Z"
   },
   {
    "duration": 99,
    "start_time": "2023-04-05T05:13:07.133Z"
   },
   {
    "duration": 147,
    "start_time": "2023-04-05T05:13:12.192Z"
   },
   {
    "duration": 116,
    "start_time": "2023-04-05T05:13:20.152Z"
   },
   {
    "duration": 215,
    "start_time": "2023-04-05T05:13:37.152Z"
   },
   {
    "duration": 59,
    "start_time": "2023-04-05T05:13:49.165Z"
   },
   {
    "duration": 72,
    "start_time": "2023-04-05T05:13:49.228Z"
   },
   {
    "duration": 23,
    "start_time": "2023-04-05T05:13:49.302Z"
   },
   {
    "duration": 43,
    "start_time": "2023-04-05T05:13:49.327Z"
   },
   {
    "duration": 12,
    "start_time": "2023-04-05T05:13:49.374Z"
   },
   {
    "duration": 10,
    "start_time": "2023-04-05T05:13:49.388Z"
   },
   {
    "duration": 10,
    "start_time": "2023-04-05T05:13:50.183Z"
   },
   {
    "duration": 90,
    "start_time": "2023-04-05T05:13:50.195Z"
   },
   {
    "duration": 6,
    "start_time": "2023-04-05T05:13:56.225Z"
   },
   {
    "duration": 6,
    "start_time": "2023-04-05T05:13:59.194Z"
   },
   {
    "duration": 8,
    "start_time": "2023-04-05T05:14:07.181Z"
   },
   {
    "duration": 13,
    "start_time": "2023-04-05T05:14:32.168Z"
   },
   {
    "duration": 15,
    "start_time": "2023-04-05T05:14:37.139Z"
   },
   {
    "duration": 5,
    "start_time": "2023-04-05T05:14:38.165Z"
   },
   {
    "duration": 72,
    "start_time": "2023-04-05T05:14:41.189Z"
   },
   {
    "duration": 20,
    "start_time": "2023-04-05T05:14:52.127Z"
   },
   {
    "duration": 5,
    "start_time": "2023-04-05T05:15:20.160Z"
   },
   {
    "duration": 6,
    "start_time": "2023-04-05T05:15:21.159Z"
   },
   {
    "duration": 123,
    "start_time": "2023-04-05T05:15:21.168Z"
   },
   {
    "duration": 8,
    "start_time": "2023-04-05T05:15:39.138Z"
   },
   {
    "duration": 4,
    "start_time": "2023-04-05T05:15:40.157Z"
   },
   {
    "duration": 64,
    "start_time": "2023-04-05T05:15:40.163Z"
   },
   {
    "duration": 70,
    "start_time": "2023-04-05T05:15:41.191Z"
   },
   {
    "duration": 10,
    "start_time": "2023-04-05T05:16:22.159Z"
   },
   {
    "duration": 67,
    "start_time": "2023-04-05T05:16:30.134Z"
   },
   {
    "duration": 32,
    "start_time": "2023-04-05T05:16:30.203Z"
   },
   {
    "duration": 70,
    "start_time": "2023-04-05T05:16:30.237Z"
   },
   {
    "duration": 36,
    "start_time": "2023-04-05T05:16:31.139Z"
   },
   {
    "duration": 18,
    "start_time": "2023-04-05T05:16:31.177Z"
   },
   {
    "duration": 37,
    "start_time": "2023-04-05T05:16:31.198Z"
   },
   {
    "duration": 13,
    "start_time": "2023-04-05T05:16:33.189Z"
   },
   {
    "duration": 6,
    "start_time": "2023-04-05T05:16:35.160Z"
   },
   {
    "duration": 6,
    "start_time": "2023-04-05T05:16:36.158Z"
   },
   {
    "duration": 5,
    "start_time": "2023-04-05T05:16:37.162Z"
   },
   {
    "duration": 59,
    "start_time": "2023-04-05T05:16:39.155Z"
   },
   {
    "duration": 2978,
    "start_time": "2023-04-07T18:37:06.117Z"
   },
   {
    "duration": 62,
    "start_time": "2023-04-07T18:37:09.097Z"
   },
   {
    "duration": 3,
    "start_time": "2023-04-07T18:37:09.161Z"
   },
   {
    "duration": 12,
    "start_time": "2023-04-07T18:37:09.442Z"
   },
   {
    "duration": 15,
    "start_time": "2023-04-07T18:37:10.883Z"
   },
   {
    "duration": 13,
    "start_time": "2023-04-07T18:37:12.673Z"
   },
   {
    "duration": 78,
    "start_time": "2023-04-07T18:37:15.244Z"
   },
   {
    "duration": 16,
    "start_time": "2023-04-07T18:37:16.084Z"
   },
   {
    "duration": 14,
    "start_time": "2023-04-07T18:37:17.431Z"
   },
   {
    "duration": 44,
    "start_time": "2023-04-07T18:37:35.533Z"
   },
   {
    "duration": 11,
    "start_time": "2023-04-07T18:37:36.970Z"
   },
   {
    "duration": 12,
    "start_time": "2023-04-07T18:37:40.113Z"
   },
   {
    "duration": 66,
    "start_time": "2023-04-07T18:37:41.921Z"
   },
   {
    "duration": 12,
    "start_time": "2023-04-07T18:37:43.800Z"
   },
   {
    "duration": 4,
    "start_time": "2023-04-07T18:37:44.648Z"
   },
   {
    "duration": 11,
    "start_time": "2023-04-07T18:38:04.959Z"
   },
   {
    "duration": 4,
    "start_time": "2023-04-07T18:38:07.408Z"
   },
   {
    "duration": 19,
    "start_time": "2023-04-07T18:38:39.656Z"
   },
   {
    "duration": 130,
    "start_time": "2023-04-07T18:39:27.949Z"
   },
   {
    "duration": 8,
    "start_time": "2023-04-07T18:39:37.334Z"
   },
   {
    "duration": 9,
    "start_time": "2023-04-07T18:40:34.904Z"
   },
   {
    "duration": 5,
    "start_time": "2023-04-07T18:42:06.441Z"
   },
   {
    "duration": 3,
    "start_time": "2023-04-07T18:42:13.919Z"
   },
   {
    "duration": 5,
    "start_time": "2023-04-07T18:42:31.847Z"
   },
   {
    "duration": 5,
    "start_time": "2023-04-07T18:42:32.469Z"
   },
   {
    "duration": 405,
    "start_time": "2023-04-07T18:42:33.887Z"
   },
   {
    "duration": 8,
    "start_time": "2023-04-07T18:45:20.274Z"
   },
   {
    "duration": 5,
    "start_time": "2023-04-07T18:45:24.514Z"
   },
   {
    "duration": 5,
    "start_time": "2023-04-07T18:45:34.330Z"
   },
   {
    "duration": 5,
    "start_time": "2023-04-07T18:45:44.379Z"
   },
   {
    "duration": 5,
    "start_time": "2023-04-07T18:45:51.372Z"
   },
   {
    "duration": 7,
    "start_time": "2023-04-07T18:46:00.640Z"
   },
   {
    "duration": 58,
    "start_time": "2023-04-07T18:47:51.372Z"
   },
   {
    "duration": 8,
    "start_time": "2023-04-07T18:48:10.494Z"
   },
   {
    "duration": 9,
    "start_time": "2023-04-07T18:49:23.347Z"
   },
   {
    "duration": 15,
    "start_time": "2023-04-07T18:49:59.819Z"
   },
   {
    "duration": 58,
    "start_time": "2023-04-07T18:55:37.261Z"
   },
   {
    "duration": 58,
    "start_time": "2023-04-07T18:56:04.079Z"
   },
   {
    "duration": 220,
    "start_time": "2023-04-07T18:56:50.611Z"
   },
   {
    "duration": 48,
    "start_time": "2023-04-07T18:57:50.069Z"
   },
   {
    "duration": 62,
    "start_time": "2023-04-07T18:57:56.875Z"
   },
   {
    "duration": 59,
    "start_time": "2023-04-07T18:58:01.339Z"
   },
   {
    "duration": 98,
    "start_time": "2023-04-07T18:58:34.025Z"
   },
   {
    "duration": 60,
    "start_time": "2023-04-07T18:59:12.539Z"
   },
   {
    "duration": 68,
    "start_time": "2023-04-07T18:59:37.303Z"
   },
   {
    "duration": 57,
    "start_time": "2023-04-07T18:59:43.350Z"
   },
   {
    "duration": 69,
    "start_time": "2023-04-07T19:00:07.096Z"
   },
   {
    "duration": 63,
    "start_time": "2023-04-07T19:00:23.991Z"
   },
   {
    "duration": 74,
    "start_time": "2023-04-07T19:00:31.335Z"
   },
   {
    "duration": 70,
    "start_time": "2023-04-07T19:01:17.051Z"
   },
   {
    "duration": 5,
    "start_time": "2023-04-07T19:01:17.553Z"
   },
   {
    "duration": 8,
    "start_time": "2023-04-07T19:01:18.180Z"
   },
   {
    "duration": 9,
    "start_time": "2023-04-07T19:01:18.644Z"
   },
   {
    "duration": 60,
    "start_time": "2023-04-07T19:01:19.676Z"
   },
   {
    "duration": 65,
    "start_time": "2023-04-07T19:01:27.477Z"
   },
   {
    "duration": 57,
    "start_time": "2023-04-07T19:02:05.861Z"
   },
   {
    "duration": 11,
    "start_time": "2023-04-07T19:02:28.363Z"
   },
   {
    "duration": 95,
    "start_time": "2023-04-07T19:03:41.490Z"
   },
   {
    "duration": 11,
    "start_time": "2023-04-07T19:04:02.669Z"
   },
   {
    "duration": 20,
    "start_time": "2023-04-07T19:08:42.567Z"
   },
   {
    "duration": 8,
    "start_time": "2023-04-07T19:09:22.479Z"
   },
   {
    "duration": 13,
    "start_time": "2023-04-07T19:09:53.398Z"
   },
   {
    "duration": 18,
    "start_time": "2023-04-07T19:10:02.534Z"
   },
   {
    "duration": 12,
    "start_time": "2023-04-07T19:10:28.654Z"
   },
   {
    "duration": 28,
    "start_time": "2023-04-07T19:13:19.539Z"
   },
   {
    "duration": 24,
    "start_time": "2023-04-07T19:13:27.712Z"
   },
   {
    "duration": 47,
    "start_time": "2023-04-07T19:13:41.144Z"
   },
   {
    "duration": 28,
    "start_time": "2023-04-07T19:13:51.398Z"
   },
   {
    "duration": 12,
    "start_time": "2023-04-07T19:14:02.201Z"
   },
   {
    "duration": 15,
    "start_time": "2023-04-07T19:14:46.534Z"
   },
   {
    "duration": 15,
    "start_time": "2023-04-07T19:15:12.484Z"
   },
   {
    "duration": 4,
    "start_time": "2023-04-07T19:16:08.914Z"
   },
   {
    "duration": 6,
    "start_time": "2023-04-07T19:16:44.298Z"
   },
   {
    "duration": 7,
    "start_time": "2023-04-07T19:18:09.241Z"
   },
   {
    "duration": 13,
    "start_time": "2023-04-07T19:18:15.095Z"
   },
   {
    "duration": 10,
    "start_time": "2023-04-07T19:18:26.221Z"
   },
   {
    "duration": 11,
    "start_time": "2023-04-07T19:18:38.583Z"
   },
   {
    "duration": 16,
    "start_time": "2023-04-07T19:19:03.885Z"
   },
   {
    "duration": 12,
    "start_time": "2023-04-07T19:19:16.054Z"
   },
   {
    "duration": 6,
    "start_time": "2023-04-07T19:19:51.232Z"
   },
   {
    "duration": 12,
    "start_time": "2023-04-07T19:45:00.490Z"
   },
   {
    "duration": 8,
    "start_time": "2023-04-07T19:45:01.745Z"
   },
   {
    "duration": 9,
    "start_time": "2023-04-07T19:45:56.691Z"
   },
   {
    "duration": 5,
    "start_time": "2023-04-07T19:46:08.815Z"
   },
   {
    "duration": 55,
    "start_time": "2023-04-07T19:46:10.075Z"
   },
   {
    "duration": 70,
    "start_time": "2023-04-07T19:46:16.426Z"
   },
   {
    "duration": 11,
    "start_time": "2023-04-07T19:46:16.713Z"
   },
   {
    "duration": 12,
    "start_time": "2023-04-07T19:46:16.961Z"
   },
   {
    "duration": 51,
    "start_time": "2023-04-07T19:46:17.194Z"
   },
   {
    "duration": 11,
    "start_time": "2023-04-07T19:46:17.401Z"
   },
   {
    "duration": 5,
    "start_time": "2023-04-07T19:46:17.585Z"
   },
   {
    "duration": 9,
    "start_time": "2023-04-07T19:46:18.192Z"
   },
   {
    "duration": 5,
    "start_time": "2023-04-07T19:46:18.378Z"
   },
   {
    "duration": 6,
    "start_time": "2023-04-07T19:46:18.584Z"
   },
   {
    "duration": 61,
    "start_time": "2023-04-07T19:46:18.770Z"
   },
   {
    "duration": 4,
    "start_time": "2023-04-07T19:46:18.995Z"
   },
   {
    "duration": 9,
    "start_time": "2023-04-07T19:46:19.169Z"
   },
   {
    "duration": 10,
    "start_time": "2023-04-07T19:46:19.384Z"
   },
   {
    "duration": 10,
    "start_time": "2023-04-07T19:46:20.617Z"
   },
   {
    "duration": 6,
    "start_time": "2023-04-07T19:46:24.448Z"
   },
   {
    "duration": 54,
    "start_time": "2023-04-07T19:46:25.114Z"
   },
   {
    "duration": 75,
    "start_time": "2023-04-07T19:46:30.282Z"
   },
   {
    "duration": 12,
    "start_time": "2023-04-07T19:47:03.049Z"
   },
   {
    "duration": 12,
    "start_time": "2023-04-07T19:49:00.935Z"
   },
   {
    "duration": 12,
    "start_time": "2023-04-07T19:49:06.876Z"
   },
   {
    "duration": 50,
    "start_time": "2023-04-07T19:49:16.957Z"
   },
   {
    "duration": 51,
    "start_time": "2023-04-07T19:49:30.941Z"
   },
   {
    "duration": 12,
    "start_time": "2023-04-07T19:51:12.858Z"
   },
   {
    "duration": 11,
    "start_time": "2023-04-07T19:51:33.474Z"
   },
   {
    "duration": 59,
    "start_time": "2023-04-07T19:51:37.459Z"
   },
   {
    "duration": 48,
    "start_time": "2023-04-07T19:51:46.985Z"
   },
   {
    "duration": 48,
    "start_time": "2023-04-07T19:52:12.439Z"
   },
   {
    "duration": 12,
    "start_time": "2023-04-07T19:52:53.023Z"
   },
   {
    "duration": 24,
    "start_time": "2023-04-07T19:52:57.699Z"
   },
   {
    "duration": 53,
    "start_time": "2023-04-07T19:54:28.948Z"
   },
   {
    "duration": 56,
    "start_time": "2023-04-07T19:56:58.879Z"
   },
   {
    "duration": 55,
    "start_time": "2023-04-07T19:57:03.358Z"
   },
   {
    "duration": 55,
    "start_time": "2023-04-07T19:57:23.176Z"
   },
   {
    "duration": 77,
    "start_time": "2023-04-07T19:57:39.158Z"
   },
   {
    "duration": 62,
    "start_time": "2023-04-07T19:57:56.107Z"
   },
   {
    "duration": 53,
    "start_time": "2023-04-07T19:58:12.272Z"
   },
   {
    "duration": 58,
    "start_time": "2023-04-07T19:58:24.122Z"
   },
   {
    "duration": 57,
    "start_time": "2023-04-07T19:59:30.103Z"
   },
   {
    "duration": 43,
    "start_time": "2023-04-07T19:59:45.101Z"
   },
   {
    "duration": 57,
    "start_time": "2023-04-07T19:59:50.122Z"
   },
   {
    "duration": 59,
    "start_time": "2023-04-07T20:00:04.848Z"
   },
   {
    "duration": 6,
    "start_time": "2023-04-07T20:07:13.697Z"
   },
   {
    "duration": 174,
    "start_time": "2023-04-07T20:07:17.600Z"
   },
   {
    "duration": 138,
    "start_time": "2023-04-07T20:07:20.088Z"
   },
   {
    "duration": 10,
    "start_time": "2023-04-07T20:07:20.965Z"
   },
   {
    "duration": 5,
    "start_time": "2023-04-07T20:08:12.214Z"
   },
   {
    "duration": 5,
    "start_time": "2023-04-07T20:09:53.779Z"
   },
   {
    "duration": 6,
    "start_time": "2023-04-07T20:10:32.995Z"
   },
   {
    "duration": 6,
    "start_time": "2023-04-07T20:10:33.444Z"
   },
   {
    "duration": 374,
    "start_time": "2023-04-07T20:10:33.890Z"
   },
   {
    "duration": 12,
    "start_time": "2023-04-07T20:11:09.961Z"
   },
   {
    "duration": 13,
    "start_time": "2023-04-07T20:11:20.592Z"
   },
   {
    "duration": 88,
    "start_time": "2023-04-07T20:11:34.665Z"
   },
   {
    "duration": 11,
    "start_time": "2023-04-07T20:11:51.521Z"
   },
   {
    "duration": 71,
    "start_time": "2023-04-07T20:16:45.712Z"
   },
   {
    "duration": 84,
    "start_time": "2023-04-07T20:16:51.056Z"
   },
   {
    "duration": 11,
    "start_time": "2023-04-07T20:17:42.669Z"
   },
   {
    "duration": 4,
    "start_time": "2023-04-07T20:19:09.434Z"
   },
   {
    "duration": 15,
    "start_time": "2023-04-07T20:19:25.292Z"
   },
   {
    "duration": 10,
    "start_time": "2023-04-07T20:19:46.325Z"
   },
   {
    "duration": 59,
    "start_time": "2023-04-07T20:21:16.082Z"
   },
   {
    "duration": 50,
    "start_time": "2023-04-07T20:21:38.054Z"
   },
   {
    "duration": 46,
    "start_time": "2023-04-07T20:21:48.558Z"
   },
   {
    "duration": 51,
    "start_time": "2023-04-07T20:22:01.078Z"
   },
   {
    "duration": 43,
    "start_time": "2023-04-07T20:22:04.877Z"
   },
   {
    "duration": 21,
    "start_time": "2023-04-07T20:22:15.974Z"
   },
   {
    "duration": 20,
    "start_time": "2023-04-07T20:22:29.733Z"
   },
   {
    "duration": 14,
    "start_time": "2023-04-07T20:22:57.451Z"
   },
   {
    "duration": 74,
    "start_time": "2023-04-07T20:23:06.678Z"
   },
   {
    "duration": 56,
    "start_time": "2023-04-07T20:23:21.188Z"
   },
   {
    "duration": 71,
    "start_time": "2023-04-07T20:23:36.829Z"
   },
   {
    "duration": 13,
    "start_time": "2023-04-07T20:24:41.313Z"
   },
   {
    "duration": 14,
    "start_time": "2023-04-07T20:24:49.849Z"
   },
   {
    "duration": 1404,
    "start_time": "2023-04-08T05:49:02.640Z"
   },
   {
    "duration": 56,
    "start_time": "2023-04-08T05:49:04.047Z"
   },
   {
    "duration": 3,
    "start_time": "2023-04-08T05:49:04.105Z"
   },
   {
    "duration": 14,
    "start_time": "2023-04-08T05:49:04.110Z"
   },
   {
    "duration": 12,
    "start_time": "2023-04-08T05:49:04.693Z"
   },
   {
    "duration": 12,
    "start_time": "2023-04-08T05:49:05.349Z"
   },
   {
    "duration": 101,
    "start_time": "2023-04-08T05:49:06.404Z"
   },
   {
    "duration": 12,
    "start_time": "2023-04-08T05:49:06.612Z"
   },
   {
    "duration": 13,
    "start_time": "2023-04-08T05:49:06.823Z"
   },
   {
    "duration": 60,
    "start_time": "2023-04-08T05:49:07.047Z"
   },
   {
    "duration": 11,
    "start_time": "2023-04-08T05:49:07.269Z"
   },
   {
    "duration": 4,
    "start_time": "2023-04-08T05:49:07.469Z"
   },
   {
    "duration": 9,
    "start_time": "2023-04-08T05:49:08.163Z"
   },
   {
    "duration": 6,
    "start_time": "2023-04-08T05:49:08.364Z"
   },
   {
    "duration": 4,
    "start_time": "2023-04-08T05:49:08.581Z"
   },
   {
    "duration": 403,
    "start_time": "2023-04-08T05:49:08.804Z"
   },
   {
    "duration": 5,
    "start_time": "2023-04-08T05:49:10.638Z"
   },
   {
    "duration": 8,
    "start_time": "2023-04-08T05:49:11.150Z"
   },
   {
    "duration": 8,
    "start_time": "2023-04-08T05:49:11.462Z"
   },
   {
    "duration": 8,
    "start_time": "2023-04-08T05:49:11.949Z"
   },
   {
    "duration": 5,
    "start_time": "2023-04-08T05:49:12.406Z"
   },
   {
    "duration": 59,
    "start_time": "2023-04-08T05:49:12.853Z"
   },
   {
    "duration": 54,
    "start_time": "2023-04-08T05:49:14.069Z"
   },
   {
    "duration": 131,
    "start_time": "2023-04-08T05:49:15.197Z"
   },
   {
    "duration": 7,
    "start_time": "2023-04-08T05:49:22.309Z"
   },
   {
    "duration": 161,
    "start_time": "2023-04-08T05:49:22.541Z"
   },
   {
    "duration": 116,
    "start_time": "2023-04-08T05:49:22.758Z"
   },
   {
    "duration": 7,
    "start_time": "2023-04-08T05:49:23.028Z"
   },
   {
    "duration": 4,
    "start_time": "2023-04-08T05:49:23.341Z"
   },
   {
    "duration": 7,
    "start_time": "2023-04-08T05:49:24.661Z"
   },
   {
    "duration": 6,
    "start_time": "2023-04-08T05:49:24.892Z"
   },
   {
    "duration": 86,
    "start_time": "2023-04-08T05:49:25.741Z"
   },
   {
    "duration": 153,
    "start_time": "2023-04-08T05:49:39.782Z"
   },
   {
    "duration": 13,
    "start_time": "2023-04-08T05:50:40.304Z"
   },
   {
    "duration": 13,
    "start_time": "2023-04-08T05:51:19.397Z"
   },
   {
    "duration": 12,
    "start_time": "2023-04-08T05:51:56.751Z"
   },
   {
    "duration": 12,
    "start_time": "2023-04-08T05:52:02.773Z"
   },
   {
    "duration": 11,
    "start_time": "2023-04-08T05:52:29.778Z"
   },
   {
    "duration": 12,
    "start_time": "2023-04-08T05:52:56.211Z"
   },
   {
    "duration": 47,
    "start_time": "2023-04-08T05:53:07.784Z"
   },
   {
    "duration": 23,
    "start_time": "2023-04-08T05:53:11.115Z"
   },
   {
    "duration": 21,
    "start_time": "2023-04-08T05:53:14.775Z"
   },
   {
    "duration": 15,
    "start_time": "2023-04-08T05:53:33.640Z"
   },
   {
    "duration": 15,
    "start_time": "2023-04-08T05:54:05.636Z"
   },
   {
    "duration": 13,
    "start_time": "2023-04-08T05:54:27.031Z"
   },
   {
    "duration": 24,
    "start_time": "2023-04-08T05:54:51.687Z"
   },
   {
    "duration": 18,
    "start_time": "2023-04-08T05:54:58.223Z"
   },
   {
    "duration": 14,
    "start_time": "2023-04-08T05:55:58.918Z"
   },
   {
    "duration": 16,
    "start_time": "2023-04-08T05:57:19.513Z"
   },
   {
    "duration": 13,
    "start_time": "2023-04-08T06:01:25.754Z"
   },
   {
    "duration": 13,
    "start_time": "2023-04-08T06:01:36.809Z"
   },
   {
    "duration": 12,
    "start_time": "2023-04-08T06:01:54.185Z"
   },
   {
    "duration": 17,
    "start_time": "2023-04-08T06:02:19.235Z"
   },
   {
    "duration": 16,
    "start_time": "2023-04-08T06:04:20.182Z"
   },
   {
    "duration": 23,
    "start_time": "2023-04-08T06:04:48.848Z"
   },
   {
    "duration": 19,
    "start_time": "2023-04-08T06:05:13.259Z"
   },
   {
    "duration": 299,
    "start_time": "2023-04-08T06:05:54.778Z"
   },
   {
    "duration": 357,
    "start_time": "2023-04-08T06:12:38.950Z"
   },
   {
    "duration": 12,
    "start_time": "2023-04-08T06:13:25.486Z"
   },
   {
    "duration": 16,
    "start_time": "2023-04-08T06:15:46.251Z"
   },
   {
    "duration": 15,
    "start_time": "2023-04-08T06:15:59.728Z"
   },
   {
    "duration": 216,
    "start_time": "2023-04-08T06:19:41.161Z"
   },
   {
    "duration": 15,
    "start_time": "2023-04-08T06:20:30.152Z"
   },
   {
    "duration": 14,
    "start_time": "2023-04-08T06:20:34.968Z"
   },
   {
    "duration": 53,
    "start_time": "2023-04-08T06:21:06.303Z"
   },
   {
    "duration": 49,
    "start_time": "2023-04-08T06:21:19.878Z"
   },
   {
    "duration": 53,
    "start_time": "2023-04-08T06:21:24.030Z"
   },
   {
    "duration": 51,
    "start_time": "2023-04-08T06:21:38.249Z"
   },
   {
    "duration": 66,
    "start_time": "2023-04-08T06:22:19.655Z"
   },
   {
    "duration": 62,
    "start_time": "2023-04-08T06:22:26.580Z"
   },
   {
    "duration": 16,
    "start_time": "2023-04-08T06:22:54.085Z"
   },
   {
    "duration": 17,
    "start_time": "2023-04-08T06:22:56.556Z"
   },
   {
    "duration": 12,
    "start_time": "2023-04-08T06:23:15.819Z"
   },
   {
    "duration": 50,
    "start_time": "2023-04-08T06:23:17.955Z"
   },
   {
    "duration": 52,
    "start_time": "2023-04-08T06:23:20.852Z"
   },
   {
    "duration": 55,
    "start_time": "2023-04-08T06:24:04.508Z"
   },
   {
    "duration": 58,
    "start_time": "2023-04-08T06:24:09.156Z"
   },
   {
    "duration": 55,
    "start_time": "2023-04-08T06:24:19.547Z"
   },
   {
    "duration": 54,
    "start_time": "2023-04-08T06:24:27.117Z"
   },
   {
    "duration": 1300,
    "start_time": "2023-04-08T17:34:21.126Z"
   },
   {
    "duration": 85,
    "start_time": "2023-04-08T17:34:22.646Z"
   },
   {
    "duration": 3,
    "start_time": "2023-04-08T17:34:22.989Z"
   },
   {
    "duration": 11,
    "start_time": "2023-04-08T17:34:23.376Z"
   },
   {
    "duration": 13,
    "start_time": "2023-04-08T17:34:25.521Z"
   },
   {
    "duration": 11,
    "start_time": "2023-04-08T17:34:27.598Z"
   },
   {
    "duration": 147,
    "start_time": "2023-04-08T17:34:32.940Z"
   },
   {
    "duration": 10,
    "start_time": "2023-04-08T17:34:34.199Z"
   },
   {
    "duration": 11,
    "start_time": "2023-04-08T17:34:35.471Z"
   },
   {
    "duration": 73,
    "start_time": "2023-04-08T17:34:36.168Z"
   },
   {
    "duration": 9,
    "start_time": "2023-04-08T17:34:37.714Z"
   },
   {
    "duration": 4,
    "start_time": "2023-04-08T17:34:38.190Z"
   },
   {
    "duration": 7,
    "start_time": "2023-04-08T17:34:39.853Z"
   },
   {
    "duration": 5,
    "start_time": "2023-04-08T17:34:41.814Z"
   },
   {
    "duration": 6,
    "start_time": "2023-04-08T17:34:42.907Z"
   },
   {
    "duration": 336,
    "start_time": "2023-04-08T17:34:49.382Z"
   },
   {
    "duration": 5,
    "start_time": "2023-04-08T17:34:54.878Z"
   },
   {
    "duration": 7,
    "start_time": "2023-04-08T17:35:10.279Z"
   },
   {
    "duration": 7,
    "start_time": "2023-04-08T17:36:41.153Z"
   },
   {
    "duration": 7,
    "start_time": "2023-04-08T17:36:44.443Z"
   },
   {
    "duration": 8,
    "start_time": "2023-04-08T17:36:45.214Z"
   },
   {
    "duration": 5,
    "start_time": "2023-04-08T17:36:57.361Z"
   },
   {
    "duration": 48,
    "start_time": "2023-04-08T17:36:57.902Z"
   },
   {
    "duration": 46,
    "start_time": "2023-04-08T17:37:43.139Z"
   },
   {
    "duration": 49,
    "start_time": "2023-04-08T17:38:59.311Z"
   },
   {
    "duration": 112,
    "start_time": "2023-04-08T17:40:12.363Z"
   },
   {
    "duration": 5,
    "start_time": "2023-04-08T17:43:31.758Z"
   },
   {
    "duration": 5,
    "start_time": "2023-04-08T17:43:37.878Z"
   },
   {
    "duration": 144,
    "start_time": "2023-04-08T17:43:38.143Z"
   },
   {
    "duration": 103,
    "start_time": "2023-04-08T17:43:38.758Z"
   },
   {
    "duration": 7,
    "start_time": "2023-04-08T17:43:41.183Z"
   },
   {
    "duration": 4,
    "start_time": "2023-04-08T17:43:41.870Z"
   },
   {
    "duration": 5,
    "start_time": "2023-04-08T17:43:46.815Z"
   },
   {
    "duration": 5,
    "start_time": "2023-04-08T17:43:48.469Z"
   },
   {
    "duration": 18,
    "start_time": "2023-04-08T17:43:49.226Z"
   },
   {
    "duration": 15,
    "start_time": "2023-04-08T17:44:03.237Z"
   },
   {
    "duration": 412,
    "start_time": "2023-04-08T17:44:18.829Z"
   },
   {
    "duration": 14,
    "start_time": "2023-04-08T17:44:19.585Z"
   },
   {
    "duration": 23,
    "start_time": "2023-04-08T17:44:53.945Z"
   },
   {
    "duration": 10,
    "start_time": "2023-04-08T17:51:43.946Z"
   },
   {
    "duration": 14,
    "start_time": "2023-04-08T17:52:15.522Z"
   },
   {
    "duration": 10,
    "start_time": "2023-04-08T17:52:28.472Z"
   },
   {
    "duration": 7,
    "start_time": "2023-04-08T17:52:34.009Z"
   },
   {
    "duration": 15,
    "start_time": "2023-04-08T17:55:24.740Z"
   },
   {
    "duration": 163,
    "start_time": "2023-04-08T18:03:52.412Z"
   },
   {
    "duration": 1367,
    "start_time": "2023-04-09T04:16:33.079Z"
   },
   {
    "duration": 98,
    "start_time": "2023-04-09T04:16:34.448Z"
   },
   {
    "duration": 3,
    "start_time": "2023-04-09T04:16:34.548Z"
   },
   {
    "duration": 14,
    "start_time": "2023-04-09T04:16:34.553Z"
   },
   {
    "duration": 13,
    "start_time": "2023-04-09T04:16:34.568Z"
   },
   {
    "duration": 11,
    "start_time": "2023-04-09T04:16:35.143Z"
   },
   {
    "duration": 114,
    "start_time": "2023-04-09T04:16:36.135Z"
   },
   {
    "duration": 11,
    "start_time": "2023-04-09T04:16:36.344Z"
   },
   {
    "duration": 12,
    "start_time": "2023-04-09T04:16:36.559Z"
   },
   {
    "duration": 72,
    "start_time": "2023-04-09T04:16:36.735Z"
   },
   {
    "duration": 11,
    "start_time": "2023-04-09T04:16:36.927Z"
   },
   {
    "duration": 4,
    "start_time": "2023-04-09T04:16:37.138Z"
   },
   {
    "duration": 9,
    "start_time": "2023-04-09T04:16:37.723Z"
   },
   {
    "duration": 5,
    "start_time": "2023-04-09T04:16:37.905Z"
   },
   {
    "duration": 5,
    "start_time": "2023-04-09T04:16:38.086Z"
   },
   {
    "duration": 446,
    "start_time": "2023-04-09T04:16:38.282Z"
   },
   {
    "duration": 5,
    "start_time": "2023-04-09T04:16:38.730Z"
   },
   {
    "duration": 10,
    "start_time": "2023-04-09T04:16:38.790Z"
   },
   {
    "duration": 10,
    "start_time": "2023-04-09T04:16:38.975Z"
   },
   {
    "duration": 9,
    "start_time": "2023-04-09T04:16:39.563Z"
   },
   {
    "duration": 5,
    "start_time": "2023-04-09T04:16:39.676Z"
   },
   {
    "duration": 61,
    "start_time": "2023-04-09T04:16:40.175Z"
   },
   {
    "duration": 52,
    "start_time": "2023-04-09T04:16:40.655Z"
   },
   {
    "duration": 58,
    "start_time": "2023-04-09T04:16:41.565Z"
   },
   {
    "duration": 6,
    "start_time": "2023-04-09T04:16:43.891Z"
   },
   {
    "duration": 243,
    "start_time": "2023-04-09T04:16:44.247Z"
   },
   {
    "duration": 126,
    "start_time": "2023-04-09T04:16:44.496Z"
   },
   {
    "duration": 8,
    "start_time": "2023-04-09T04:16:44.718Z"
   },
   {
    "duration": 5,
    "start_time": "2023-04-09T04:16:44.926Z"
   },
   {
    "duration": 7,
    "start_time": "2023-04-09T04:16:45.397Z"
   },
   {
    "duration": 6,
    "start_time": "2023-04-09T04:16:45.629Z"
   },
   {
    "duration": 27,
    "start_time": "2023-04-09T04:16:45.838Z"
   },
   {
    "duration": 17,
    "start_time": "2023-04-09T04:16:49.088Z"
   },
   {
    "duration": 19,
    "start_time": "2023-04-09T04:16:50.910Z"
   },
   {
    "duration": 10,
    "start_time": "2023-04-09T04:16:52.446Z"
   },
   {
    "duration": 17,
    "start_time": "2023-04-09T04:16:52.697Z"
   },
   {
    "duration": 9,
    "start_time": "2023-04-09T04:21:52.263Z"
   },
   {
    "duration": 143,
    "start_time": "2023-04-09T04:23:08.148Z"
   },
   {
    "duration": 10,
    "start_time": "2023-04-09T04:23:11.379Z"
   },
   {
    "duration": 7,
    "start_time": "2023-04-09T04:23:19.010Z"
   },
   {
    "duration": 9,
    "start_time": "2023-04-09T04:24:05.123Z"
   },
   {
    "duration": 6,
    "start_time": "2023-04-09T04:25:18.666Z"
   },
   {
    "duration": 15,
    "start_time": "2023-04-09T04:26:58.440Z"
   },
   {
    "duration": 15,
    "start_time": "2023-04-09T04:28:07.040Z"
   },
   {
    "duration": 16,
    "start_time": "2023-04-09T04:28:34.947Z"
   },
   {
    "duration": 10,
    "start_time": "2023-04-09T04:32:01.286Z"
   },
   {
    "duration": 9,
    "start_time": "2023-04-09T04:32:30.405Z"
   },
   {
    "duration": 17,
    "start_time": "2023-04-09T04:34:04.595Z"
   },
   {
    "duration": 304,
    "start_time": "2023-04-09T04:37:07.237Z"
   },
   {
    "duration": 58,
    "start_time": "2023-04-09T04:37:08.004Z"
   },
   {
    "duration": 268,
    "start_time": "2023-04-09T04:37:34.413Z"
   },
   {
    "duration": 50,
    "start_time": "2023-04-09T04:37:35.436Z"
   },
   {
    "duration": 64,
    "start_time": "2023-04-09T04:38:05.868Z"
   },
   {
    "duration": 52,
    "start_time": "2023-04-09T04:39:04.676Z"
   },
   {
    "duration": 59,
    "start_time": "2023-04-09T04:39:27.162Z"
   },
   {
    "duration": 11,
    "start_time": "2023-04-09T04:39:27.705Z"
   },
   {
    "duration": 12,
    "start_time": "2023-04-09T04:39:28.289Z"
   },
   {
    "duration": 33,
    "start_time": "2023-04-09T04:39:28.833Z"
   },
   {
    "duration": 11,
    "start_time": "2023-04-09T04:39:31.064Z"
   },
   {
    "duration": 4,
    "start_time": "2023-04-09T04:39:32.760Z"
   },
   {
    "duration": 8,
    "start_time": "2023-04-09T04:39:34.039Z"
   },
   {
    "duration": 6,
    "start_time": "2023-04-09T04:39:54.055Z"
   },
   {
    "duration": 57,
    "start_time": "2023-04-09T04:40:01.105Z"
   },
   {
    "duration": 6,
    "start_time": "2023-04-09T04:40:36.024Z"
   },
   {
    "duration": 58,
    "start_time": "2023-04-09T04:40:38.960Z"
   },
   {
    "duration": 55,
    "start_time": "2023-04-09T04:41:32.984Z"
   },
   {
    "duration": 5,
    "start_time": "2023-04-09T04:41:37.180Z"
   },
   {
    "duration": 9,
    "start_time": "2023-04-09T04:41:40.852Z"
   },
   {
    "duration": 8,
    "start_time": "2023-04-09T04:41:41.453Z"
   },
   {
    "duration": 9,
    "start_time": "2023-04-09T04:41:47.855Z"
   },
   {
    "duration": 7,
    "start_time": "2023-04-09T04:41:50.603Z"
   },
   {
    "duration": 58,
    "start_time": "2023-04-09T04:41:51.717Z"
   },
   {
    "duration": 65,
    "start_time": "2023-04-09T04:41:54.645Z"
   },
   {
    "duration": 4,
    "start_time": "2023-04-09T04:43:46.441Z"
   },
   {
    "duration": 7,
    "start_time": "2023-04-09T04:43:51.146Z"
   },
   {
    "duration": 16,
    "start_time": "2023-04-09T04:44:11.384Z"
   },
   {
    "duration": 6,
    "start_time": "2023-04-09T04:44:42.962Z"
   },
   {
    "duration": 5,
    "start_time": "2023-04-09T04:45:09.703Z"
   },
   {
    "duration": 6,
    "start_time": "2023-04-09T04:45:33.799Z"
   },
   {
    "duration": 10,
    "start_time": "2023-04-09T04:46:15.733Z"
   },
   {
    "duration": 7,
    "start_time": "2023-04-09T04:46:37.772Z"
   },
   {
    "duration": 5,
    "start_time": "2023-04-09T04:46:39.080Z"
   },
   {
    "duration": 54,
    "start_time": "2023-04-09T04:46:46.028Z"
   },
   {
    "duration": 57,
    "start_time": "2023-04-09T04:47:36.316Z"
   },
   {
    "duration": 4,
    "start_time": "2023-04-09T04:47:50.498Z"
   },
   {
    "duration": 9,
    "start_time": "2023-04-09T04:47:59.818Z"
   },
   {
    "duration": 10,
    "start_time": "2023-04-09T04:48:06.562Z"
   },
   {
    "duration": 9,
    "start_time": "2023-04-09T04:48:13.314Z"
   },
   {
    "duration": 5,
    "start_time": "2023-04-09T04:48:26.802Z"
   },
   {
    "duration": 54,
    "start_time": "2023-04-09T04:48:32.698Z"
   },
   {
    "duration": 57,
    "start_time": "2023-04-09T04:48:38.524Z"
   },
   {
    "duration": 64,
    "start_time": "2023-04-09T04:49:00.986Z"
   },
   {
    "duration": 55,
    "start_time": "2023-04-09T04:49:19.424Z"
   },
   {
    "duration": 10,
    "start_time": "2023-04-09T04:49:19.855Z"
   },
   {
    "duration": 12,
    "start_time": "2023-04-09T04:49:20.191Z"
   },
   {
    "duration": 21,
    "start_time": "2023-04-09T04:49:20.421Z"
   },
   {
    "duration": 12,
    "start_time": "2023-04-09T04:49:20.656Z"
   },
   {
    "duration": 5,
    "start_time": "2023-04-09T04:49:20.886Z"
   },
   {
    "duration": 8,
    "start_time": "2023-04-09T04:49:21.654Z"
   },
   {
    "duration": 4,
    "start_time": "2023-04-09T04:49:22.095Z"
   },
   {
    "duration": 7,
    "start_time": "2023-04-09T04:49:22.335Z"
   },
   {
    "duration": 6,
    "start_time": "2023-04-09T04:49:22.735Z"
   },
   {
    "duration": 53,
    "start_time": "2023-04-09T04:49:23.239Z"
   },
   {
    "duration": 5,
    "start_time": "2023-04-09T04:49:24.688Z"
   },
   {
    "duration": 8,
    "start_time": "2023-04-09T04:49:25.607Z"
   },
   {
    "duration": 9,
    "start_time": "2023-04-09T04:49:26.289Z"
   },
   {
    "duration": 10,
    "start_time": "2023-04-09T04:49:27.678Z"
   },
   {
    "duration": 10,
    "start_time": "2023-04-09T04:49:40.799Z"
   },
   {
    "duration": 55,
    "start_time": "2023-04-09T04:49:49.814Z"
   },
   {
    "duration": 11,
    "start_time": "2023-04-09T04:49:50.022Z"
   },
   {
    "duration": 11,
    "start_time": "2023-04-09T04:49:50.375Z"
   },
   {
    "duration": 21,
    "start_time": "2023-04-09T04:49:50.542Z"
   },
   {
    "duration": 11,
    "start_time": "2023-04-09T04:49:50.725Z"
   },
   {
    "duration": 4,
    "start_time": "2023-04-09T04:49:50.886Z"
   },
   {
    "duration": 9,
    "start_time": "2023-04-09T04:49:51.462Z"
   },
   {
    "duration": 5,
    "start_time": "2023-04-09T04:49:51.630Z"
   },
   {
    "duration": 6,
    "start_time": "2023-04-09T04:49:51.813Z"
   },
   {
    "duration": 6,
    "start_time": "2023-04-09T04:49:51.998Z"
   },
   {
    "duration": 60,
    "start_time": "2023-04-09T04:49:52.238Z"
   },
   {
    "duration": 5,
    "start_time": "2023-04-09T04:49:52.582Z"
   },
   {
    "duration": 9,
    "start_time": "2023-04-09T04:49:53.758Z"
   },
   {
    "duration": 10,
    "start_time": "2023-04-09T04:49:54.109Z"
   },
   {
    "duration": 10,
    "start_time": "2023-04-09T04:49:55.349Z"
   },
   {
    "duration": 6,
    "start_time": "2023-04-09T04:50:34.812Z"
   },
   {
    "duration": 53,
    "start_time": "2023-04-09T04:50:36.312Z"
   },
   {
    "duration": 62,
    "start_time": "2023-04-09T04:50:38.044Z"
   },
   {
    "duration": 64,
    "start_time": "2023-04-09T04:50:39.196Z"
   },
   {
    "duration": 7,
    "start_time": "2023-04-09T04:50:46.549Z"
   },
   {
    "duration": 166,
    "start_time": "2023-04-09T04:50:46.957Z"
   },
   {
    "duration": 130,
    "start_time": "2023-04-09T04:50:47.341Z"
   },
   {
    "duration": 8,
    "start_time": "2023-04-09T04:50:47.765Z"
   },
   {
    "duration": 5,
    "start_time": "2023-04-09T04:50:48.204Z"
   },
   {
    "duration": 7,
    "start_time": "2023-04-09T04:50:48.859Z"
   },
   {
    "duration": 7,
    "start_time": "2023-04-09T04:50:49.204Z"
   },
   {
    "duration": 16,
    "start_time": "2023-04-09T04:50:49.767Z"
   },
   {
    "duration": 19,
    "start_time": "2023-04-09T04:51:22.525Z"
   },
   {
    "duration": 59,
    "start_time": "2023-04-09T04:53:17.313Z"
   },
   {
    "duration": 57,
    "start_time": "2023-04-09T04:54:00.456Z"
   },
   {
    "duration": 12,
    "start_time": "2023-04-09T04:54:04.999Z"
   },
   {
    "duration": 12,
    "start_time": "2023-04-09T04:54:12.559Z"
   },
   {
    "duration": 33,
    "start_time": "2023-04-09T04:54:14.519Z"
   },
   {
    "duration": 12,
    "start_time": "2023-04-09T04:54:15.071Z"
   },
   {
    "duration": 4,
    "start_time": "2023-04-09T04:54:16.471Z"
   },
   {
    "duration": 9,
    "start_time": "2023-04-09T04:54:22.281Z"
   },
   {
    "duration": 5,
    "start_time": "2023-04-09T04:54:26.359Z"
   },
   {
    "duration": 7,
    "start_time": "2023-04-09T04:54:38.030Z"
   },
   {
    "duration": 6,
    "start_time": "2023-04-09T04:54:42.550Z"
   },
   {
    "duration": 70,
    "start_time": "2023-04-09T04:54:47.263Z"
   },
   {
    "duration": 5,
    "start_time": "2023-04-09T04:54:57.775Z"
   },
   {
    "duration": 9,
    "start_time": "2023-04-09T04:55:02.790Z"
   },
   {
    "duration": 9,
    "start_time": "2023-04-09T04:55:06.908Z"
   },
   {
    "duration": 10,
    "start_time": "2023-04-09T04:55:11.269Z"
   },
   {
    "duration": 6,
    "start_time": "2023-04-09T04:55:17.037Z"
   },
   {
    "duration": 66,
    "start_time": "2023-04-09T04:55:22.655Z"
   },
   {
    "duration": 52,
    "start_time": "2023-04-09T04:55:28.787Z"
   },
   {
    "duration": 59,
    "start_time": "2023-04-09T04:55:33.173Z"
   },
   {
    "duration": 7,
    "start_time": "2023-04-09T04:55:38.115Z"
   },
   {
    "duration": 178,
    "start_time": "2023-04-09T04:55:38.925Z"
   },
   {
    "duration": 118,
    "start_time": "2023-04-09T04:55:39.611Z"
   },
   {
    "duration": 7,
    "start_time": "2023-04-09T04:55:40.180Z"
   },
   {
    "duration": 5,
    "start_time": "2023-04-09T04:55:40.621Z"
   },
   {
    "duration": 7,
    "start_time": "2023-04-09T04:55:45.283Z"
   },
   {
    "duration": 7,
    "start_time": "2023-04-09T04:55:45.651Z"
   },
   {
    "duration": 19,
    "start_time": "2023-04-09T04:55:46.236Z"
   },
   {
    "duration": 16,
    "start_time": "2023-04-09T04:55:57.268Z"
   },
   {
    "duration": 20,
    "start_time": "2023-04-09T04:56:06.306Z"
   },
   {
    "duration": 6,
    "start_time": "2023-04-09T04:56:08.828Z"
   },
   {
    "duration": 17,
    "start_time": "2023-04-09T04:56:09.452Z"
   },
   {
    "duration": 8,
    "start_time": "2023-04-09T04:56:13.330Z"
   },
   {
    "duration": 14,
    "start_time": "2023-04-09T04:56:13.963Z"
   },
   {
    "duration": 23,
    "start_time": "2023-04-09T04:56:16.757Z"
   },
   {
    "duration": 22,
    "start_time": "2023-04-09T04:57:59.481Z"
   },
   {
    "duration": 21,
    "start_time": "2023-04-09T04:58:19.834Z"
   },
   {
    "duration": 5,
    "start_time": "2023-04-09T04:58:48.143Z"
   },
   {
    "duration": 9,
    "start_time": "2023-04-09T04:59:04.546Z"
   },
   {
    "duration": 68,
    "start_time": "2023-04-09T04:59:22.510Z"
   },
   {
    "duration": 5,
    "start_time": "2023-04-09T05:00:09.853Z"
   },
   {
    "duration": 200,
    "start_time": "2023-04-09T05:00:22.299Z"
   },
   {
    "duration": 5,
    "start_time": "2023-04-09T05:01:56.553Z"
   },
   {
    "duration": 69,
    "start_time": "2023-04-09T05:02:20.945Z"
   },
   {
    "duration": 52,
    "start_time": "2023-04-09T05:02:27.017Z"
   },
   {
    "duration": 56,
    "start_time": "2023-04-09T05:03:36.063Z"
   },
   {
    "duration": 53,
    "start_time": "2023-04-09T05:03:56.702Z"
   },
   {
    "duration": 56,
    "start_time": "2023-04-09T05:04:21.382Z"
   },
   {
    "duration": 70,
    "start_time": "2023-04-09T05:04:24.580Z"
   },
   {
    "duration": 55,
    "start_time": "2023-04-09T05:04:32.005Z"
   },
   {
    "duration": 55,
    "start_time": "2023-04-09T05:04:50.158Z"
   },
   {
    "duration": 174,
    "start_time": "2023-04-09T05:06:14.738Z"
   },
   {
    "duration": 28,
    "start_time": "2023-04-09T05:07:01.419Z"
   },
   {
    "duration": 18,
    "start_time": "2023-04-09T05:07:35.345Z"
   },
   {
    "duration": 116,
    "start_time": "2023-04-09T05:08:12.031Z"
   },
   {
    "duration": 6,
    "start_time": "2023-04-09T05:08:27.805Z"
   },
   {
    "duration": 61,
    "start_time": "2023-04-09T05:08:39.039Z"
   },
   {
    "duration": 58,
    "start_time": "2023-04-09T05:09:07.558Z"
   },
   {
    "duration": 56,
    "start_time": "2023-04-09T05:09:19.365Z"
   },
   {
    "duration": 62,
    "start_time": "2023-04-09T05:09:29.421Z"
   },
   {
    "duration": 64,
    "start_time": "2023-04-09T05:10:40.555Z"
   },
   {
    "duration": 7,
    "start_time": "2023-04-09T05:10:51.796Z"
   },
   {
    "duration": 6,
    "start_time": "2023-04-09T05:11:00.562Z"
   },
   {
    "duration": 23,
    "start_time": "2023-04-09T05:11:16.469Z"
   },
   {
    "duration": 210,
    "start_time": "2023-04-09T05:11:26.290Z"
   },
   {
    "duration": 49,
    "start_time": "2023-04-09T05:11:27.920Z"
   },
   {
    "duration": 38,
    "start_time": "2023-04-09T05:12:35.130Z"
   },
   {
    "duration": 41,
    "start_time": "2023-04-09T05:13:04.518Z"
   },
   {
    "duration": 223,
    "start_time": "2023-04-09T05:17:28.729Z"
   },
   {
    "duration": 17,
    "start_time": "2023-04-09T05:17:45.319Z"
   },
   {
    "duration": 44,
    "start_time": "2023-04-09T05:18:00.394Z"
   },
   {
    "duration": 45,
    "start_time": "2023-04-09T05:19:05.349Z"
   },
   {
    "duration": 19,
    "start_time": "2023-04-09T05:19:45.747Z"
   },
   {
    "duration": 11,
    "start_time": "2023-04-09T05:19:53.875Z"
   },
   {
    "duration": 97,
    "start_time": "2023-04-09T05:20:42.080Z"
   },
   {
    "duration": 81,
    "start_time": "2023-04-09T05:21:22.255Z"
   },
   {
    "duration": 79,
    "start_time": "2023-04-09T05:21:41.207Z"
   },
   {
    "duration": 72,
    "start_time": "2023-04-09T05:22:12.183Z"
   },
   {
    "duration": 68,
    "start_time": "2023-04-09T05:22:17.383Z"
   },
   {
    "duration": 74,
    "start_time": "2023-04-09T05:22:28.787Z"
   },
   {
    "duration": 77,
    "start_time": "2023-04-09T05:23:23.260Z"
   },
   {
    "duration": 9,
    "start_time": "2023-04-09T05:23:57.955Z"
   },
   {
    "duration": 12,
    "start_time": "2023-04-09T05:25:25.379Z"
   },
   {
    "duration": 17,
    "start_time": "2023-04-09T05:25:32.432Z"
   },
   {
    "duration": 14,
    "start_time": "2023-04-09T05:25:46.599Z"
   },
   {
    "duration": 19,
    "start_time": "2023-04-09T05:26:29.158Z"
   },
   {
    "duration": 74,
    "start_time": "2023-04-09T05:26:45.976Z"
   },
   {
    "duration": 80,
    "start_time": "2023-04-09T05:27:00.869Z"
   },
   {
    "duration": 13,
    "start_time": "2023-04-09T05:27:28.382Z"
   },
   {
    "duration": 14,
    "start_time": "2023-04-09T05:28:15.839Z"
   },
   {
    "duration": 94,
    "start_time": "2023-04-09T05:28:47.762Z"
   },
   {
    "duration": 70,
    "start_time": "2023-04-09T05:28:52.171Z"
   },
   {
    "duration": 5,
    "start_time": "2023-04-09T05:28:58.121Z"
   },
   {
    "duration": 14,
    "start_time": "2023-04-09T05:29:01.354Z"
   },
   {
    "duration": 11,
    "start_time": "2023-04-09T05:30:12.306Z"
   },
   {
    "duration": 12,
    "start_time": "2023-04-09T05:30:22.367Z"
   },
   {
    "duration": 14,
    "start_time": "2023-04-09T05:31:38.470Z"
   },
   {
    "duration": 4,
    "start_time": "2023-04-09T05:32:35.902Z"
   },
   {
    "duration": 10,
    "start_time": "2023-04-09T05:32:55.206Z"
   },
   {
    "duration": 10,
    "start_time": "2023-04-09T05:33:07.035Z"
   },
   {
    "duration": 10,
    "start_time": "2023-04-09T05:34:08.075Z"
   },
   {
    "duration": 10,
    "start_time": "2023-04-09T05:34:19.010Z"
   },
   {
    "duration": 12,
    "start_time": "2023-04-09T05:34:35.954Z"
   },
   {
    "duration": 22,
    "start_time": "2023-04-09T05:34:37.997Z"
   },
   {
    "duration": 92,
    "start_time": "2023-04-09T05:35:37.299Z"
   },
   {
    "duration": 24,
    "start_time": "2023-04-09T05:35:51.936Z"
   },
   {
    "duration": 23,
    "start_time": "2023-04-09T05:36:39.455Z"
   },
   {
    "duration": 14,
    "start_time": "2023-04-09T05:38:57.019Z"
   },
   {
    "duration": 16,
    "start_time": "2023-04-09T05:39:43.392Z"
   },
   {
    "duration": 15,
    "start_time": "2023-04-09T05:40:28.888Z"
   },
   {
    "duration": 18,
    "start_time": "2023-04-09T05:40:43.639Z"
   },
   {
    "duration": 12,
    "start_time": "2023-04-09T05:49:19.040Z"
   },
   {
    "duration": 8,
    "start_time": "2023-04-09T05:49:21.155Z"
   },
   {
    "duration": 28,
    "start_time": "2023-04-09T05:49:21.640Z"
   },
   {
    "duration": 17,
    "start_time": "2023-04-09T05:49:31.415Z"
   },
   {
    "duration": 1310,
    "start_time": "2023-04-09T05:56:23.054Z"
   },
   {
    "duration": 29,
    "start_time": "2023-04-09T05:56:24.366Z"
   },
   {
    "duration": 3,
    "start_time": "2023-04-09T05:56:24.396Z"
   },
   {
    "duration": 19,
    "start_time": "2023-04-09T05:56:24.401Z"
   },
   {
    "duration": 12,
    "start_time": "2023-04-09T05:56:24.422Z"
   },
   {
    "duration": 13,
    "start_time": "2023-04-09T05:56:24.435Z"
   },
   {
    "duration": 150,
    "start_time": "2023-04-09T05:56:24.450Z"
   },
   {
    "duration": 0,
    "start_time": "2023-04-09T05:56:24.602Z"
   },
   {
    "duration": 0,
    "start_time": "2023-04-09T05:56:24.604Z"
   },
   {
    "duration": 0,
    "start_time": "2023-04-09T05:56:24.605Z"
   },
   {
    "duration": 0,
    "start_time": "2023-04-09T05:56:24.606Z"
   },
   {
    "duration": 0,
    "start_time": "2023-04-09T05:56:24.608Z"
   },
   {
    "duration": 0,
    "start_time": "2023-04-09T05:56:24.609Z"
   },
   {
    "duration": 0,
    "start_time": "2023-04-09T05:56:24.610Z"
   },
   {
    "duration": 0,
    "start_time": "2023-04-09T05:56:24.611Z"
   },
   {
    "duration": 0,
    "start_time": "2023-04-09T05:56:24.612Z"
   },
   {
    "duration": 0,
    "start_time": "2023-04-09T05:56:24.613Z"
   },
   {
    "duration": 0,
    "start_time": "2023-04-09T05:56:24.614Z"
   },
   {
    "duration": 0,
    "start_time": "2023-04-09T05:56:24.615Z"
   },
   {
    "duration": 0,
    "start_time": "2023-04-09T05:56:24.616Z"
   },
   {
    "duration": 0,
    "start_time": "2023-04-09T05:56:24.617Z"
   },
   {
    "duration": 0,
    "start_time": "2023-04-09T05:56:24.618Z"
   },
   {
    "duration": 1,
    "start_time": "2023-04-09T05:56:24.641Z"
   },
   {
    "duration": 0,
    "start_time": "2023-04-09T05:56:24.643Z"
   },
   {
    "duration": 0,
    "start_time": "2023-04-09T05:56:24.645Z"
   },
   {
    "duration": 0,
    "start_time": "2023-04-09T05:56:24.646Z"
   },
   {
    "duration": 0,
    "start_time": "2023-04-09T05:56:24.647Z"
   },
   {
    "duration": 0,
    "start_time": "2023-04-09T05:56:24.648Z"
   },
   {
    "duration": 0,
    "start_time": "2023-04-09T05:56:24.649Z"
   },
   {
    "duration": 0,
    "start_time": "2023-04-09T05:56:24.650Z"
   },
   {
    "duration": 0,
    "start_time": "2023-04-09T05:56:24.651Z"
   },
   {
    "duration": 0,
    "start_time": "2023-04-09T05:56:24.652Z"
   },
   {
    "duration": 0,
    "start_time": "2023-04-09T05:56:24.654Z"
   },
   {
    "duration": 0,
    "start_time": "2023-04-09T05:56:24.655Z"
   },
   {
    "duration": 0,
    "start_time": "2023-04-09T05:56:24.656Z"
   },
   {
    "duration": 0,
    "start_time": "2023-04-09T05:56:24.657Z"
   },
   {
    "duration": 0,
    "start_time": "2023-04-09T05:56:24.658Z"
   },
   {
    "duration": 0,
    "start_time": "2023-04-09T05:56:24.660Z"
   },
   {
    "duration": 0,
    "start_time": "2023-04-09T05:56:24.661Z"
   },
   {
    "duration": 0,
    "start_time": "2023-04-09T05:56:24.662Z"
   },
   {
    "duration": 0,
    "start_time": "2023-04-09T05:56:24.663Z"
   },
   {
    "duration": 0,
    "start_time": "2023-04-09T05:56:24.665Z"
   },
   {
    "duration": 0,
    "start_time": "2023-04-09T05:56:24.666Z"
   },
   {
    "duration": 0,
    "start_time": "2023-04-09T05:56:24.667Z"
   },
   {
    "duration": 0,
    "start_time": "2023-04-09T05:56:24.668Z"
   },
   {
    "duration": 0,
    "start_time": "2023-04-09T05:56:24.670Z"
   },
   {
    "duration": 0,
    "start_time": "2023-04-09T05:56:24.671Z"
   },
   {
    "duration": 0,
    "start_time": "2023-04-09T05:56:24.672Z"
   },
   {
    "duration": 0,
    "start_time": "2023-04-09T05:56:24.673Z"
   },
   {
    "duration": 0,
    "start_time": "2023-04-09T05:56:24.674Z"
   },
   {
    "duration": 0,
    "start_time": "2023-04-09T05:56:24.675Z"
   },
   {
    "duration": 55,
    "start_time": "2023-04-09T05:56:49.620Z"
   },
   {
    "duration": 13,
    "start_time": "2023-04-09T05:56:53.003Z"
   },
   {
    "duration": 12,
    "start_time": "2023-04-09T05:56:53.914Z"
   },
   {
    "duration": 35,
    "start_time": "2023-04-09T05:56:55.779Z"
   },
   {
    "duration": 11,
    "start_time": "2023-04-09T05:56:56.542Z"
   },
   {
    "duration": 4,
    "start_time": "2023-04-09T05:56:56.994Z"
   },
   {
    "duration": 8,
    "start_time": "2023-04-09T05:57:01.607Z"
   },
   {
    "duration": 6,
    "start_time": "2023-04-09T05:57:03.834Z"
   },
   {
    "duration": 10,
    "start_time": "2023-04-09T05:57:05.618Z"
   },
   {
    "duration": 9,
    "start_time": "2023-04-09T05:57:18.170Z"
   },
   {
    "duration": 6,
    "start_time": "2023-04-09T05:57:57.167Z"
   },
   {
    "duration": 403,
    "start_time": "2023-04-09T05:58:02.729Z"
   },
   {
    "duration": 5,
    "start_time": "2023-04-09T05:58:14.768Z"
   },
   {
    "duration": 5,
    "start_time": "2023-04-09T05:58:29.771Z"
   },
   {
    "duration": 67,
    "start_time": "2023-04-09T05:58:43.359Z"
   },
   {
    "duration": 10,
    "start_time": "2023-04-09T05:58:49.805Z"
   },
   {
    "duration": 15,
    "start_time": "2023-04-09T05:58:57.133Z"
   },
   {
    "duration": 13,
    "start_time": "2023-04-09T05:59:05.915Z"
   },
   {
    "duration": 11,
    "start_time": "2023-04-09T05:59:07.464Z"
   },
   {
    "duration": 9,
    "start_time": "2023-04-09T05:59:39.342Z"
   },
   {
    "duration": 80,
    "start_time": "2023-04-09T05:59:45.974Z"
   },
   {
    "duration": 63,
    "start_time": "2023-04-09T05:59:49.510Z"
   },
   {
    "duration": 160,
    "start_time": "2023-04-09T05:59:51.767Z"
   },
   {
    "duration": 8,
    "start_time": "2023-04-09T05:59:56.369Z"
   },
   {
    "duration": 178,
    "start_time": "2023-04-09T06:00:08.185Z"
   },
   {
    "duration": 131,
    "start_time": "2023-04-09T06:00:08.728Z"
   },
   {
    "duration": 8,
    "start_time": "2023-04-09T06:00:09.385Z"
   },
   {
    "duration": 6,
    "start_time": "2023-04-09T06:00:10.004Z"
   },
   {
    "duration": 6,
    "start_time": "2023-04-09T06:00:29.269Z"
   },
   {
    "duration": 11,
    "start_time": "2023-04-09T06:00:46.642Z"
   },
   {
    "duration": 6,
    "start_time": "2023-04-09T06:00:47.312Z"
   },
   {
    "duration": 16,
    "start_time": "2023-04-09T06:00:49.367Z"
   },
   {
    "duration": 21,
    "start_time": "2023-04-09T06:02:19.304Z"
   },
   {
    "duration": 20,
    "start_time": "2023-04-09T06:02:38.575Z"
   },
   {
    "duration": 28,
    "start_time": "2023-04-09T06:02:45.654Z"
   },
   {
    "duration": 9,
    "start_time": "2023-04-09T06:02:51.750Z"
   },
   {
    "duration": 17,
    "start_time": "2023-04-09T06:02:53.301Z"
   },
   {
    "duration": 16,
    "start_time": "2023-04-09T06:02:58.814Z"
   },
   {
    "duration": 9,
    "start_time": "2023-04-09T06:03:00.532Z"
   },
   {
    "duration": 21,
    "start_time": "2023-04-09T06:03:01.335Z"
   },
   {
    "duration": 74,
    "start_time": "2023-04-09T06:03:06.885Z"
   },
   {
    "duration": 62,
    "start_time": "2023-04-09T06:03:10.928Z"
   },
   {
    "duration": 5,
    "start_time": "2023-04-09T06:03:19.492Z"
   },
   {
    "duration": 4,
    "start_time": "2023-04-09T06:03:58.996Z"
   },
   {
    "duration": 5,
    "start_time": "2023-04-09T06:04:02.375Z"
   },
   {
    "duration": 6,
    "start_time": "2023-04-09T06:04:21.411Z"
   },
   {
    "duration": 14,
    "start_time": "2023-04-09T06:05:05.940Z"
   },
   {
    "duration": 13,
    "start_time": "2023-04-09T06:05:55.722Z"
   },
   {
    "duration": 5,
    "start_time": "2023-04-09T06:06:01.929Z"
   },
   {
    "duration": 11,
    "start_time": "2023-04-09T06:06:15.312Z"
   },
   {
    "duration": 12,
    "start_time": "2023-04-09T06:06:24.336Z"
   },
   {
    "duration": 5,
    "start_time": "2023-04-09T06:06:40.620Z"
   },
   {
    "duration": 53,
    "start_time": "2023-04-09T06:06:44.085Z"
   },
   {
    "duration": 67,
    "start_time": "2023-04-09T06:07:06.481Z"
   },
   {
    "duration": 5,
    "start_time": "2023-04-09T06:07:13.764Z"
   },
   {
    "duration": 6,
    "start_time": "2023-04-09T06:07:19.758Z"
   },
   {
    "duration": 49,
    "start_time": "2023-04-09T18:36:29.082Z"
   },
   {
    "duration": 1421,
    "start_time": "2023-04-09T18:36:41.966Z"
   },
   {
    "duration": 88,
    "start_time": "2023-04-09T18:36:43.389Z"
   },
   {
    "duration": 5,
    "start_time": "2023-04-09T18:36:43.480Z"
   },
   {
    "duration": 13,
    "start_time": "2023-04-09T18:36:43.488Z"
   },
   {
    "duration": 10,
    "start_time": "2023-04-09T18:36:43.502Z"
   },
   {
    "duration": 9,
    "start_time": "2023-04-09T18:36:43.514Z"
   },
   {
    "duration": 102,
    "start_time": "2023-04-09T18:36:43.524Z"
   },
   {
    "duration": 9,
    "start_time": "2023-04-09T18:36:43.627Z"
   },
   {
    "duration": 14,
    "start_time": "2023-04-09T18:36:43.637Z"
   },
   {
    "duration": 77,
    "start_time": "2023-04-09T18:36:43.653Z"
   },
   {
    "duration": 8,
    "start_time": "2023-04-09T18:36:43.731Z"
   },
   {
    "duration": 6,
    "start_time": "2023-04-09T18:36:43.741Z"
   },
   {
    "duration": 8,
    "start_time": "2023-04-09T18:36:43.749Z"
   },
   {
    "duration": 9,
    "start_time": "2023-04-09T18:36:43.759Z"
   },
   {
    "duration": 20,
    "start_time": "2023-04-09T18:36:43.769Z"
   },
   {
    "duration": 512,
    "start_time": "2023-04-09T18:36:43.791Z"
   },
   {
    "duration": 5,
    "start_time": "2023-04-09T18:36:44.304Z"
   },
   {
    "duration": 14,
    "start_time": "2023-04-09T18:36:44.311Z"
   },
   {
    "duration": 12,
    "start_time": "2023-04-09T18:36:44.326Z"
   },
   {
    "duration": 34,
    "start_time": "2023-04-09T18:36:44.339Z"
   },
   {
    "duration": 8,
    "start_time": "2023-04-09T18:36:44.375Z"
   },
   {
    "duration": 108,
    "start_time": "2023-04-09T18:36:44.384Z"
   },
   {
    "duration": 48,
    "start_time": "2023-04-09T18:36:44.494Z"
   },
   {
    "duration": 167,
    "start_time": "2023-04-09T18:36:44.543Z"
   },
   {
    "duration": 6,
    "start_time": "2023-04-09T18:36:44.712Z"
   },
   {
    "duration": 172,
    "start_time": "2023-04-09T18:36:44.720Z"
   },
   {
    "duration": 124,
    "start_time": "2023-04-09T18:36:44.893Z"
   },
   {
    "duration": 5,
    "start_time": "2023-04-09T18:36:45.021Z"
   },
   {
    "duration": 26,
    "start_time": "2023-04-09T18:36:45.028Z"
   },
   {
    "duration": 37,
    "start_time": "2023-04-09T18:36:45.056Z"
   },
   {
    "duration": 10,
    "start_time": "2023-04-09T18:36:45.095Z"
   },
   {
    "duration": 18,
    "start_time": "2023-04-09T18:36:45.106Z"
   },
   {
    "duration": 12,
    "start_time": "2023-04-09T18:36:45.126Z"
   },
   {
    "duration": 20,
    "start_time": "2023-04-09T18:36:45.140Z"
   },
   {
    "duration": 5,
    "start_time": "2023-04-09T18:36:45.162Z"
   },
   {
    "duration": 28,
    "start_time": "2023-04-09T18:36:45.168Z"
   },
   {
    "duration": 7,
    "start_time": "2023-04-09T18:36:45.198Z"
   },
   {
    "duration": 16,
    "start_time": "2023-04-09T18:36:45.206Z"
   },
   {
    "duration": 62,
    "start_time": "2023-04-09T18:36:45.223Z"
   },
   {
    "duration": 5,
    "start_time": "2023-04-09T18:36:45.290Z"
   },
   {
    "duration": 50,
    "start_time": "2023-04-09T18:36:45.297Z"
   },
   {
    "duration": 69,
    "start_time": "2023-04-09T18:36:45.349Z"
   },
   {
    "duration": 4,
    "start_time": "2023-04-09T18:36:45.419Z"
   },
   {
    "duration": 198,
    "start_time": "2023-04-09T18:36:45.424Z"
   },
   {
    "duration": 27,
    "start_time": "2023-04-09T18:36:45.623Z"
   },
   {
    "duration": 25,
    "start_time": "2023-04-09T18:36:45.652Z"
   },
   {
    "duration": 18,
    "start_time": "2023-04-09T18:36:45.680Z"
   },
   {
    "duration": 18,
    "start_time": "2023-04-09T18:36:45.699Z"
   },
   {
    "duration": 20,
    "start_time": "2023-04-09T18:36:45.719Z"
   },
   {
    "duration": 13,
    "start_time": "2023-04-09T18:36:45.741Z"
   },
   {
    "duration": 1530,
    "start_time": "2023-04-10T02:48:51.131Z"
   },
   {
    "duration": 140,
    "start_time": "2023-04-10T02:48:56.056Z"
   },
   {
    "duration": 3,
    "start_time": "2023-04-10T02:48:56.622Z"
   },
   {
    "duration": 16,
    "start_time": "2023-04-10T02:48:57.168Z"
   },
   {
    "duration": 13,
    "start_time": "2023-04-10T02:48:58.483Z"
   },
   {
    "duration": 25,
    "start_time": "2023-04-10T02:49:00.958Z"
   },
   {
    "duration": 212,
    "start_time": "2023-04-10T02:49:03.799Z"
   },
   {
    "duration": 14,
    "start_time": "2023-04-10T02:49:04.687Z"
   },
   {
    "duration": 12,
    "start_time": "2023-04-10T02:49:05.280Z"
   },
   {
    "duration": 104,
    "start_time": "2023-04-10T02:49:06.721Z"
   },
   {
    "duration": 11,
    "start_time": "2023-04-10T02:49:07.017Z"
   },
   {
    "duration": 4,
    "start_time": "2023-04-10T02:49:07.424Z"
   },
   {
    "duration": 11,
    "start_time": "2023-04-10T02:49:08.969Z"
   },
   {
    "duration": 5,
    "start_time": "2023-04-10T02:49:09.731Z"
   },
   {
    "duration": 6,
    "start_time": "2023-04-10T02:49:10.398Z"
   },
   {
    "duration": 477,
    "start_time": "2023-04-10T02:49:24.824Z"
   },
   {
    "duration": 17,
    "start_time": "2023-04-10T02:49:27.038Z"
   },
   {
    "duration": 9,
    "start_time": "2023-04-10T02:49:27.494Z"
   },
   {
    "duration": 11,
    "start_time": "2023-04-10T02:49:28.013Z"
   },
   {
    "duration": 10,
    "start_time": "2023-04-10T02:49:28.710Z"
   },
   {
    "duration": 6,
    "start_time": "2023-04-10T02:49:29.525Z"
   },
   {
    "duration": 186,
    "start_time": "2023-04-10T02:49:30.000Z"
   },
   {
    "duration": 56,
    "start_time": "2023-04-10T02:49:31.494Z"
   },
   {
    "duration": 74,
    "start_time": "2023-04-10T02:49:32.717Z"
   },
   {
    "duration": 6,
    "start_time": "2023-04-10T02:49:42.777Z"
   },
   {
    "duration": 177,
    "start_time": "2023-04-10T02:49:43.277Z"
   },
   {
    "duration": 127,
    "start_time": "2023-04-10T02:49:43.868Z"
   },
   {
    "duration": 11,
    "start_time": "2023-04-10T02:49:44.364Z"
   },
   {
    "duration": 5,
    "start_time": "2023-04-10T02:49:44.711Z"
   },
   {
    "duration": 8,
    "start_time": "2023-04-10T02:49:45.561Z"
   },
   {
    "duration": 8,
    "start_time": "2023-04-10T02:49:48.769Z"
   },
   {
    "duration": 18,
    "start_time": "2023-04-10T02:49:49.117Z"
   },
   {
    "duration": 21,
    "start_time": "2023-04-10T02:49:56.094Z"
   },
   {
    "duration": 19,
    "start_time": "2023-04-10T02:49:58.679Z"
   },
   {
    "duration": 7,
    "start_time": "2023-04-10T02:50:01.300Z"
   },
   {
    "duration": 34,
    "start_time": "2023-04-10T02:50:01.934Z"
   },
   {
    "duration": 10,
    "start_time": "2023-04-10T02:50:03.412Z"
   },
   {
    "duration": 19,
    "start_time": "2023-04-10T02:50:03.874Z"
   },
   {
    "duration": 87,
    "start_time": "2023-04-10T02:50:05.237Z"
   },
   {
    "duration": 6,
    "start_time": "2023-04-10T02:50:06.976Z"
   },
   {
    "duration": 56,
    "start_time": "2023-04-10T02:50:08.469Z"
   },
   {
    "duration": 62,
    "start_time": "2023-04-10T02:50:09.760Z"
   },
   {
    "duration": 5,
    "start_time": "2023-04-10T02:50:37.317Z"
   },
   {
    "duration": 231,
    "start_time": "2023-04-10T02:50:38.524Z"
   },
   {
    "duration": 56,
    "start_time": "2023-04-10T02:50:39.197Z"
   },
   {
    "duration": 19,
    "start_time": "2023-04-10T02:50:49.934Z"
   },
   {
    "duration": 17,
    "start_time": "2023-04-10T02:50:51.364Z"
   },
   {
    "duration": 8,
    "start_time": "2023-04-10T02:50:52.307Z"
   },
   {
    "duration": 40,
    "start_time": "2023-04-10T02:50:52.741Z"
   },
   {
    "duration": 15,
    "start_time": "2023-04-10T02:50:57.509Z"
   },
   {
    "duration": 78,
    "start_time": "2023-04-10T02:53:09.524Z"
   },
   {
    "duration": 13,
    "start_time": "2023-04-10T02:53:10.426Z"
   },
   {
    "duration": 11,
    "start_time": "2023-04-10T02:53:15.098Z"
   },
   {
    "duration": 77,
    "start_time": "2023-04-10T02:53:17.643Z"
   },
   {
    "duration": 12,
    "start_time": "2023-04-10T02:53:18.235Z"
   },
   {
    "duration": 15,
    "start_time": "2023-04-10T02:53:28.670Z"
   },
   {
    "duration": 33,
    "start_time": "2023-04-10T02:53:29.380Z"
   },
   {
    "duration": 12,
    "start_time": "2023-04-10T02:53:30.801Z"
   },
   {
    "duration": 4,
    "start_time": "2023-04-10T02:53:31.514Z"
   },
   {
    "duration": 8,
    "start_time": "2023-04-10T02:53:41.226Z"
   },
   {
    "duration": 10,
    "start_time": "2023-04-10T02:53:47.066Z"
   },
   {
    "duration": 5,
    "start_time": "2023-04-10T02:54:24.129Z"
   },
   {
    "duration": 78,
    "start_time": "2023-04-10T02:54:28.697Z"
   },
   {
    "duration": 66,
    "start_time": "2023-04-10T02:55:45.669Z"
   },
   {
    "duration": 72,
    "start_time": "2023-04-10T02:55:51.199Z"
   },
   {
    "duration": 6,
    "start_time": "2023-04-10T02:56:02.485Z"
   },
   {
    "duration": 8,
    "start_time": "2023-04-10T02:56:12.022Z"
   },
   {
    "duration": 9,
    "start_time": "2023-04-10T02:56:16.400Z"
   },
   {
    "duration": 11,
    "start_time": "2023-04-10T02:56:45.066Z"
   },
   {
    "duration": 6,
    "start_time": "2023-04-10T02:57:06.741Z"
   },
   {
    "duration": 72,
    "start_time": "2023-04-10T02:57:10.520Z"
   },
   {
    "duration": 53,
    "start_time": "2023-04-10T02:57:16.376Z"
   },
   {
    "duration": 49,
    "start_time": "2023-04-10T02:57:19.683Z"
   },
   {
    "duration": 69,
    "start_time": "2023-04-10T02:57:59.598Z"
   },
   {
    "duration": 12,
    "start_time": "2023-04-10T02:58:16.275Z"
   },
   {
    "duration": 177,
    "start_time": "2023-04-10T02:58:17.282Z"
   },
   {
    "duration": 135,
    "start_time": "2023-04-10T02:58:18.136Z"
   },
   {
    "duration": 10,
    "start_time": "2023-04-10T02:58:18.824Z"
   },
   {
    "duration": 5,
    "start_time": "2023-04-10T02:58:20.086Z"
   },
   {
    "duration": 6,
    "start_time": "2023-04-10T02:58:30.904Z"
   },
   {
    "duration": 6,
    "start_time": "2023-04-10T02:58:31.882Z"
   },
   {
    "duration": 21,
    "start_time": "2023-04-10T02:58:36.265Z"
   },
   {
    "duration": 27,
    "start_time": "2023-04-10T03:00:57.764Z"
   },
   {
    "duration": 28,
    "start_time": "2023-04-10T03:01:58.539Z"
   },
   {
    "duration": 11,
    "start_time": "2023-04-10T03:02:30.472Z"
   },
   {
    "duration": 19,
    "start_time": "2023-04-10T03:02:32.171Z"
   },
   {
    "duration": 23,
    "start_time": "2023-04-10T03:02:48.642Z"
   },
   {
    "duration": 16,
    "start_time": "2023-04-10T03:02:48.915Z"
   },
   {
    "duration": 82,
    "start_time": "2023-04-10T03:02:54.942Z"
   },
   {
    "duration": 5,
    "start_time": "2023-04-10T03:03:30.729Z"
   },
   {
    "duration": 59,
    "start_time": "2023-04-10T03:03:34.604Z"
   },
   {
    "duration": 75,
    "start_time": "2023-04-10T03:03:43.034Z"
   },
   {
    "duration": 6,
    "start_time": "2023-04-10T03:03:56.481Z"
   },
   {
    "duration": 228,
    "start_time": "2023-04-10T03:04:01.786Z"
   },
   {
    "duration": 39,
    "start_time": "2023-04-10T03:04:02.656Z"
   },
   {
    "duration": 10,
    "start_time": "2023-04-10T03:04:10.615Z"
   },
   {
    "duration": 13,
    "start_time": "2023-04-10T03:04:43.399Z"
   },
   {
    "duration": 23,
    "start_time": "2023-04-10T03:05:02.536Z"
   },
   {
    "duration": 11,
    "start_time": "2023-04-10T03:05:29.902Z"
   },
   {
    "duration": 9,
    "start_time": "2023-04-10T03:05:50.517Z"
   },
   {
    "duration": 22,
    "start_time": "2023-04-10T03:05:51.689Z"
   },
   {
    "duration": 20,
    "start_time": "2023-04-10T03:06:07.932Z"
   },
   {
    "duration": 1362,
    "start_time": "2023-04-10T03:06:29.636Z"
   },
   {
    "duration": 29,
    "start_time": "2023-04-10T03:06:31.000Z"
   },
   {
    "duration": 67,
    "start_time": "2023-04-10T03:06:31.031Z"
   },
   {
    "duration": 93,
    "start_time": "2023-04-10T03:06:31.101Z"
   },
   {
    "duration": 56,
    "start_time": "2023-04-10T03:06:31.196Z"
   },
   {
    "duration": 106,
    "start_time": "2023-04-10T03:06:31.254Z"
   },
   {
    "duration": 260,
    "start_time": "2023-04-10T03:06:31.363Z"
   },
   {
    "duration": 0,
    "start_time": "2023-04-10T03:06:31.625Z"
   },
   {
    "duration": 0,
    "start_time": "2023-04-10T03:06:31.629Z"
   },
   {
    "duration": 0,
    "start_time": "2023-04-10T03:06:31.630Z"
   },
   {
    "duration": 0,
    "start_time": "2023-04-10T03:06:31.631Z"
   },
   {
    "duration": 0,
    "start_time": "2023-04-10T03:06:31.632Z"
   },
   {
    "duration": 0,
    "start_time": "2023-04-10T03:06:31.633Z"
   },
   {
    "duration": 0,
    "start_time": "2023-04-10T03:06:31.634Z"
   },
   {
    "duration": 0,
    "start_time": "2023-04-10T03:06:31.635Z"
   },
   {
    "duration": 0,
    "start_time": "2023-04-10T03:06:31.645Z"
   },
   {
    "duration": 0,
    "start_time": "2023-04-10T03:06:31.645Z"
   },
   {
    "duration": 0,
    "start_time": "2023-04-10T03:06:31.646Z"
   },
   {
    "duration": 0,
    "start_time": "2023-04-10T03:06:31.646Z"
   },
   {
    "duration": 0,
    "start_time": "2023-04-10T03:06:31.647Z"
   },
   {
    "duration": 0,
    "start_time": "2023-04-10T03:06:31.656Z"
   },
   {
    "duration": 0,
    "start_time": "2023-04-10T03:06:31.666Z"
   },
   {
    "duration": 0,
    "start_time": "2023-04-10T03:06:31.667Z"
   },
   {
    "duration": 0,
    "start_time": "2023-04-10T03:06:31.669Z"
   },
   {
    "duration": 0,
    "start_time": "2023-04-10T03:06:31.672Z"
   },
   {
    "duration": 0,
    "start_time": "2023-04-10T03:06:31.678Z"
   },
   {
    "duration": 0,
    "start_time": "2023-04-10T03:06:31.679Z"
   },
   {
    "duration": 0,
    "start_time": "2023-04-10T03:06:31.681Z"
   },
   {
    "duration": 0,
    "start_time": "2023-04-10T03:06:31.688Z"
   },
   {
    "duration": 0,
    "start_time": "2023-04-10T03:06:31.690Z"
   },
   {
    "duration": 0,
    "start_time": "2023-04-10T03:06:31.691Z"
   },
   {
    "duration": 0,
    "start_time": "2023-04-10T03:06:31.692Z"
   },
   {
    "duration": 0,
    "start_time": "2023-04-10T03:06:31.696Z"
   },
   {
    "duration": 0,
    "start_time": "2023-04-10T03:06:31.697Z"
   },
   {
    "duration": 0,
    "start_time": "2023-04-10T03:06:31.699Z"
   },
   {
    "duration": 0,
    "start_time": "2023-04-10T03:06:31.700Z"
   },
   {
    "duration": 0,
    "start_time": "2023-04-10T03:06:31.701Z"
   },
   {
    "duration": 0,
    "start_time": "2023-04-10T03:06:31.702Z"
   },
   {
    "duration": 0,
    "start_time": "2023-04-10T03:06:31.703Z"
   },
   {
    "duration": 1,
    "start_time": "2023-04-10T03:06:31.703Z"
   },
   {
    "duration": 0,
    "start_time": "2023-04-10T03:06:31.705Z"
   },
   {
    "duration": 0,
    "start_time": "2023-04-10T03:06:31.706Z"
   },
   {
    "duration": 0,
    "start_time": "2023-04-10T03:06:31.743Z"
   },
   {
    "duration": 0,
    "start_time": "2023-04-10T03:06:31.744Z"
   },
   {
    "duration": 0,
    "start_time": "2023-04-10T03:06:31.745Z"
   },
   {
    "duration": 0,
    "start_time": "2023-04-10T03:06:31.746Z"
   },
   {
    "duration": 0,
    "start_time": "2023-04-10T03:06:31.747Z"
   },
   {
    "duration": 0,
    "start_time": "2023-04-10T03:06:31.748Z"
   },
   {
    "duration": 0,
    "start_time": "2023-04-10T03:06:31.748Z"
   },
   {
    "duration": 1357,
    "start_time": "2023-04-10T03:06:58.166Z"
   },
   {
    "duration": 54,
    "start_time": "2023-04-10T03:06:59.526Z"
   },
   {
    "duration": 3,
    "start_time": "2023-04-10T03:06:59.582Z"
   },
   {
    "duration": 29,
    "start_time": "2023-04-10T03:06:59.587Z"
   },
   {
    "duration": 19,
    "start_time": "2023-04-10T03:06:59.619Z"
   },
   {
    "duration": 49,
    "start_time": "2023-04-10T03:06:59.639Z"
   },
   {
    "duration": 87,
    "start_time": "2023-04-10T03:06:59.690Z"
   },
   {
    "duration": 12,
    "start_time": "2023-04-10T03:06:59.780Z"
   },
   {
    "duration": 36,
    "start_time": "2023-04-10T03:06:59.793Z"
   },
   {
    "duration": 69,
    "start_time": "2023-04-10T03:06:59.831Z"
   },
   {
    "duration": 10,
    "start_time": "2023-04-10T03:06:59.902Z"
   },
   {
    "duration": 26,
    "start_time": "2023-04-10T03:06:59.913Z"
   },
   {
    "duration": 57,
    "start_time": "2023-04-10T03:06:59.941Z"
   },
   {
    "duration": 24,
    "start_time": "2023-04-10T03:07:00.001Z"
   },
   {
    "duration": 500,
    "start_time": "2023-04-10T03:07:00.027Z"
   },
   {
    "duration": 6,
    "start_time": "2023-04-10T03:07:00.529Z"
   },
   {
    "duration": 73,
    "start_time": "2023-04-10T03:07:00.537Z"
   },
   {
    "duration": 53,
    "start_time": "2023-04-10T03:07:00.612Z"
   },
   {
    "duration": 70,
    "start_time": "2023-04-10T03:07:00.669Z"
   },
   {
    "duration": 69,
    "start_time": "2023-04-10T03:07:00.741Z"
   },
   {
    "duration": 94,
    "start_time": "2023-04-10T03:07:00.812Z"
   },
   {
    "duration": 77,
    "start_time": "2023-04-10T03:07:00.908Z"
   },
   {
    "duration": 182,
    "start_time": "2023-04-10T03:07:00.987Z"
   },
   {
    "duration": 16,
    "start_time": "2023-04-10T03:07:01.171Z"
   },
   {
    "duration": 205,
    "start_time": "2023-04-10T03:07:01.188Z"
   },
   {
    "duration": 134,
    "start_time": "2023-04-10T03:07:01.396Z"
   },
   {
    "duration": 20,
    "start_time": "2023-04-10T03:07:01.531Z"
   },
   {
    "duration": 45,
    "start_time": "2023-04-10T03:07:01.556Z"
   },
   {
    "duration": 27,
    "start_time": "2023-04-10T03:07:01.602Z"
   },
   {
    "duration": 149,
    "start_time": "2023-04-10T03:07:01.631Z"
   },
   {
    "duration": 113,
    "start_time": "2023-04-10T03:07:01.782Z"
   },
   {
    "duration": 21,
    "start_time": "2023-04-10T03:07:01.897Z"
   },
   {
    "duration": 24,
    "start_time": "2023-04-10T03:07:01.919Z"
   },
   {
    "duration": 74,
    "start_time": "2023-04-10T03:07:01.947Z"
   },
   {
    "duration": 66,
    "start_time": "2023-04-10T03:07:02.023Z"
   },
   {
    "duration": 29,
    "start_time": "2023-04-10T03:07:02.090Z"
   },
   {
    "duration": 64,
    "start_time": "2023-04-10T03:07:02.120Z"
   },
   {
    "duration": 103,
    "start_time": "2023-04-10T03:07:02.185Z"
   },
   {
    "duration": 6,
    "start_time": "2023-04-10T03:07:02.290Z"
   },
   {
    "duration": 208,
    "start_time": "2023-04-10T03:07:02.298Z"
   },
   {
    "duration": 0,
    "start_time": "2023-04-10T03:07:02.508Z"
   },
   {
    "duration": 0,
    "start_time": "2023-04-10T03:07:02.509Z"
   },
   {
    "duration": 0,
    "start_time": "2023-04-10T03:07:02.511Z"
   },
   {
    "duration": 0,
    "start_time": "2023-04-10T03:07:02.512Z"
   },
   {
    "duration": 0,
    "start_time": "2023-04-10T03:07:02.513Z"
   },
   {
    "duration": 0,
    "start_time": "2023-04-10T03:07:02.514Z"
   },
   {
    "duration": 0,
    "start_time": "2023-04-10T03:07:02.515Z"
   },
   {
    "duration": 0,
    "start_time": "2023-04-10T03:07:02.516Z"
   },
   {
    "duration": 0,
    "start_time": "2023-04-10T03:07:02.517Z"
   },
   {
    "duration": 73,
    "start_time": "2023-04-10T03:08:12.417Z"
   },
   {
    "duration": 63,
    "start_time": "2023-04-10T03:08:26.168Z"
   },
   {
    "duration": 13,
    "start_time": "2023-04-10T03:08:31.815Z"
   },
   {
    "duration": 6,
    "start_time": "2023-04-10T03:08:36.036Z"
   },
   {
    "duration": 126,
    "start_time": "2023-04-10T03:08:44.204Z"
   },
   {
    "duration": 175,
    "start_time": "2023-04-10T03:09:03.776Z"
   },
   {
    "duration": 184,
    "start_time": "2023-04-10T03:09:24.215Z"
   },
   {
    "duration": 233,
    "start_time": "2023-04-10T03:09:45.568Z"
   },
   {
    "duration": 20,
    "start_time": "2023-04-10T03:09:58.570Z"
   },
   {
    "duration": 36,
    "start_time": "2023-04-10T03:10:09.396Z"
   },
   {
    "duration": 14,
    "start_time": "2023-04-10T03:10:18.618Z"
   },
   {
    "duration": 15,
    "start_time": "2023-04-10T03:10:27.222Z"
   },
   {
    "duration": 15,
    "start_time": "2023-04-10T03:10:33.293Z"
   },
   {
    "duration": 7,
    "start_time": "2023-04-10T03:11:57.431Z"
   },
   {
    "duration": 89,
    "start_time": "2023-04-10T03:12:37.003Z"
   },
   {
    "duration": 6,
    "start_time": "2023-04-10T03:12:45.203Z"
   },
   {
    "duration": 6,
    "start_time": "2023-04-10T03:14:01.464Z"
   },
   {
    "duration": 58,
    "start_time": "2023-04-10T03:14:02.975Z"
   },
   {
    "duration": 107,
    "start_time": "2023-04-10T03:14:05.489Z"
   },
   {
    "duration": 7,
    "start_time": "2023-04-10T03:14:10.484Z"
   },
   {
    "duration": 12,
    "start_time": "2023-04-10T03:14:41.568Z"
   },
   {
    "duration": 281,
    "start_time": "2023-04-10T03:14:54.707Z"
   },
   {
    "duration": 37,
    "start_time": "2023-04-10T03:14:55.691Z"
   },
   {
    "duration": 16,
    "start_time": "2023-04-10T03:15:06.955Z"
   },
   {
    "duration": 9,
    "start_time": "2023-04-10T03:15:30.580Z"
   },
   {
    "duration": 19,
    "start_time": "2023-04-10T03:16:51.621Z"
   },
   {
    "duration": 19,
    "start_time": "2023-04-10T03:17:02.164Z"
   },
   {
    "duration": 19,
    "start_time": "2023-04-10T03:17:12.011Z"
   },
   {
    "duration": 15,
    "start_time": "2023-04-10T03:17:21.478Z"
   },
   {
    "duration": 23,
    "start_time": "2023-04-10T03:17:39.866Z"
   },
   {
    "duration": 18,
    "start_time": "2023-04-10T03:17:40.666Z"
   },
   {
    "duration": 24,
    "start_time": "2023-04-10T03:17:41.392Z"
   },
   {
    "duration": 20,
    "start_time": "2023-04-10T03:17:57.179Z"
   },
   {
    "duration": 4,
    "start_time": "2023-04-10T03:18:59.000Z"
   },
   {
    "duration": 54,
    "start_time": "2023-04-10T03:18:59.822Z"
   },
   {
    "duration": 3,
    "start_time": "2023-04-10T03:19:00.092Z"
   },
   {
    "duration": 10,
    "start_time": "2023-04-10T03:19:00.491Z"
   },
   {
    "duration": 13,
    "start_time": "2023-04-10T03:19:01.310Z"
   },
   {
    "duration": 12,
    "start_time": "2023-04-10T03:19:02.110Z"
   },
   {
    "duration": 87,
    "start_time": "2023-04-10T03:19:03.614Z"
   },
   {
    "duration": 11,
    "start_time": "2023-04-10T03:19:03.911Z"
   },
   {
    "duration": 12,
    "start_time": "2023-04-10T03:19:04.488Z"
   },
   {
    "duration": 65,
    "start_time": "2023-04-10T03:19:05.034Z"
   },
   {
    "duration": 11,
    "start_time": "2023-04-10T03:19:05.395Z"
   },
   {
    "duration": 6,
    "start_time": "2023-04-10T03:19:05.673Z"
   },
   {
    "duration": 11,
    "start_time": "2023-04-10T03:19:10.760Z"
   },
   {
    "duration": 6,
    "start_time": "2023-04-10T03:19:12.118Z"
   },
   {
    "duration": 83,
    "start_time": "2023-04-10T03:19:31.326Z"
   },
   {
    "duration": 7,
    "start_time": "2023-04-10T03:19:32.302Z"
   },
   {
    "duration": 16,
    "start_time": "2023-04-10T03:19:34.973Z"
   },
   {
    "duration": 13,
    "start_time": "2023-04-10T03:19:36.088Z"
   },
   {
    "duration": 10,
    "start_time": "2023-04-10T03:19:52.028Z"
   },
   {
    "duration": 7,
    "start_time": "2023-04-10T03:19:52.868Z"
   },
   {
    "duration": 87,
    "start_time": "2023-04-10T03:20:01.629Z"
   },
   {
    "duration": 68,
    "start_time": "2023-04-10T03:20:05.604Z"
   },
   {
    "duration": 80,
    "start_time": "2023-04-10T03:20:07.517Z"
   },
   {
    "duration": 7,
    "start_time": "2023-04-10T03:20:13.204Z"
   },
   {
    "duration": 221,
    "start_time": "2023-04-10T03:20:13.819Z"
   },
   {
    "duration": 149,
    "start_time": "2023-04-10T03:20:14.560Z"
   },
   {
    "duration": 10,
    "start_time": "2023-04-10T03:20:15.372Z"
   },
   {
    "duration": 9,
    "start_time": "2023-04-10T03:20:16.578Z"
   },
   {
    "duration": 7,
    "start_time": "2023-04-10T03:20:17.714Z"
   },
   {
    "duration": 7,
    "start_time": "2023-04-10T03:20:18.213Z"
   },
   {
    "duration": 33,
    "start_time": "2023-04-10T03:20:19.068Z"
   },
   {
    "duration": 39,
    "start_time": "2023-04-10T03:20:31.160Z"
   },
   {
    "duration": 23,
    "start_time": "2023-04-10T03:20:34.185Z"
   },
   {
    "duration": 6,
    "start_time": "2023-04-10T03:20:37.605Z"
   },
   {
    "duration": 21,
    "start_time": "2023-04-10T03:20:38.685Z"
   },
   {
    "duration": 20,
    "start_time": "2023-04-10T03:20:41.268Z"
   },
   {
    "duration": 62,
    "start_time": "2023-04-10T03:20:43.037Z"
   },
   {
    "duration": 78,
    "start_time": "2023-04-10T03:20:45.485Z"
   },
   {
    "duration": 60,
    "start_time": "2023-04-10T03:21:09.373Z"
   },
   {
    "duration": 78,
    "start_time": "2023-04-10T03:21:15.196Z"
   },
   {
    "duration": 7,
    "start_time": "2023-04-10T03:22:00.904Z"
   },
   {
    "duration": 76,
    "start_time": "2023-04-10T03:22:04.590Z"
   },
   {
    "duration": 10,
    "start_time": "2023-04-10T03:22:27.605Z"
   },
   {
    "duration": 48,
    "start_time": "2023-04-10T03:22:27.968Z"
   },
   {
    "duration": 18,
    "start_time": "2023-04-10T03:22:28.268Z"
   },
   {
    "duration": 7,
    "start_time": "2023-04-10T03:22:30.160Z"
   },
   {
    "duration": 13,
    "start_time": "2023-04-10T03:22:30.976Z"
   },
   {
    "duration": 6,
    "start_time": "2023-04-10T03:22:31.935Z"
   },
   {
    "duration": 89,
    "start_time": "2023-04-10T03:22:32.417Z"
   },
   {
    "duration": 7,
    "start_time": "2023-04-10T03:22:35.805Z"
   },
   {
    "duration": 13,
    "start_time": "2023-04-10T03:22:36.068Z"
   },
   {
    "duration": 9,
    "start_time": "2023-04-10T03:22:36.304Z"
   },
   {
    "duration": 11,
    "start_time": "2023-04-10T03:22:43.215Z"
   },
   {
    "duration": 17,
    "start_time": "2023-04-10T03:24:01.422Z"
   },
   {
    "duration": 96,
    "start_time": "2023-04-10T03:24:37.020Z"
   },
   {
    "duration": 12,
    "start_time": "2023-04-10T03:24:37.296Z"
   },
   {
    "duration": 13,
    "start_time": "2023-04-10T03:24:37.699Z"
   },
   {
    "duration": 33,
    "start_time": "2023-04-10T03:24:38.098Z"
   },
   {
    "duration": 30,
    "start_time": "2023-04-10T03:24:38.471Z"
   },
   {
    "duration": 5,
    "start_time": "2023-04-10T03:24:38.931Z"
   },
   {
    "duration": 10,
    "start_time": "2023-04-10T03:24:40.198Z"
   },
   {
    "duration": 11,
    "start_time": "2023-04-10T03:24:41.088Z"
   },
   {
    "duration": 91,
    "start_time": "2023-04-10T03:24:43.379Z"
   },
   {
    "duration": 5,
    "start_time": "2023-04-10T03:24:44.323Z"
   },
   {
    "duration": 31,
    "start_time": "2023-04-10T03:24:45.775Z"
   },
   {
    "duration": 21,
    "start_time": "2023-04-10T03:24:46.667Z"
   },
   {
    "duration": 11,
    "start_time": "2023-04-10T03:24:49.607Z"
   },
   {
    "duration": 19,
    "start_time": "2023-04-10T03:25:22.662Z"
   },
   {
    "duration": 62,
    "start_time": "2023-04-10T03:25:27.165Z"
   },
   {
    "duration": 87,
    "start_time": "2023-04-10T03:25:30.739Z"
   },
   {
    "duration": 87,
    "start_time": "2023-04-10T03:25:32.182Z"
   },
   {
    "duration": 7,
    "start_time": "2023-04-10T03:25:35.665Z"
   },
   {
    "duration": 200,
    "start_time": "2023-04-10T03:25:36.305Z"
   },
   {
    "duration": 154,
    "start_time": "2023-04-10T03:25:37.816Z"
   },
   {
    "duration": 9,
    "start_time": "2023-04-10T03:25:38.305Z"
   },
   {
    "duration": 6,
    "start_time": "2023-04-10T03:25:38.800Z"
   },
   {
    "duration": 11,
    "start_time": "2023-04-10T03:25:40.362Z"
   },
   {
    "duration": 7,
    "start_time": "2023-04-10T03:25:40.817Z"
   },
   {
    "duration": 46,
    "start_time": "2023-04-10T03:25:41.522Z"
   },
   {
    "duration": 28,
    "start_time": "2023-04-10T03:25:45.775Z"
   },
   {
    "duration": 25,
    "start_time": "2023-04-10T03:25:48.570Z"
   },
   {
    "duration": 7,
    "start_time": "2023-04-10T03:25:51.394Z"
   },
   {
    "duration": 17,
    "start_time": "2023-04-10T03:25:52.002Z"
   },
   {
    "duration": 20,
    "start_time": "2023-04-10T03:25:54.033Z"
   },
   {
    "duration": 24,
    "start_time": "2023-04-10T03:25:54.668Z"
   },
   {
    "duration": 81,
    "start_time": "2023-04-10T03:25:59.019Z"
   },
   {
    "duration": 6,
    "start_time": "2023-04-10T03:26:06.797Z"
   },
   {
    "duration": 60,
    "start_time": "2023-04-10T03:26:30.880Z"
   },
   {
    "duration": 99,
    "start_time": "2023-04-10T03:26:32.576Z"
   },
   {
    "duration": 11,
    "start_time": "2023-04-10T03:26:36.774Z"
   },
   {
    "duration": 257,
    "start_time": "2023-04-10T03:26:47.031Z"
   },
   {
    "duration": 61,
    "start_time": "2023-04-10T03:26:47.739Z"
   },
   {
    "duration": 21,
    "start_time": "2023-04-10T03:26:56.776Z"
   },
   {
    "duration": 17,
    "start_time": "2023-04-10T03:27:07.422Z"
   },
   {
    "duration": 44,
    "start_time": "2023-04-10T03:27:21.242Z"
   },
   {
    "duration": 23,
    "start_time": "2023-04-10T03:27:36.372Z"
   },
   {
    "duration": 5,
    "start_time": "2023-04-10T03:28:05.385Z"
   },
   {
    "duration": 38,
    "start_time": "2023-04-10T03:28:05.393Z"
   },
   {
    "duration": 3,
    "start_time": "2023-04-10T03:28:05.433Z"
   },
   {
    "duration": 57,
    "start_time": "2023-04-10T03:28:05.438Z"
   },
   {
    "duration": 20,
    "start_time": "2023-04-10T03:28:05.498Z"
   },
   {
    "duration": 41,
    "start_time": "2023-04-10T03:28:05.520Z"
   },
   {
    "duration": 95,
    "start_time": "2023-04-10T03:28:05.574Z"
   },
   {
    "duration": 14,
    "start_time": "2023-04-10T03:28:05.671Z"
   },
   {
    "duration": 13,
    "start_time": "2023-04-10T03:28:05.689Z"
   },
   {
    "duration": 33,
    "start_time": "2023-04-10T03:28:05.704Z"
   },
   {
    "duration": 65,
    "start_time": "2023-04-10T03:28:05.740Z"
   },
   {
    "duration": 89,
    "start_time": "2023-04-10T03:28:05.807Z"
   },
   {
    "duration": 25,
    "start_time": "2023-04-10T03:28:05.898Z"
   },
   {
    "duration": 79,
    "start_time": "2023-04-10T03:28:05.927Z"
   },
   {
    "duration": 103,
    "start_time": "2023-04-10T03:28:06.009Z"
   },
   {
    "duration": 6,
    "start_time": "2023-04-10T03:28:06.115Z"
   },
   {
    "duration": 75,
    "start_time": "2023-04-10T03:28:06.123Z"
   },
   {
    "duration": 18,
    "start_time": "2023-04-10T03:28:06.200Z"
   },
   {
    "duration": 19,
    "start_time": "2023-04-10T03:28:06.220Z"
   },
   {
    "duration": 122,
    "start_time": "2023-04-10T03:28:06.241Z"
   },
   {
    "duration": 116,
    "start_time": "2023-04-10T03:28:06.364Z"
   },
   {
    "duration": 67,
    "start_time": "2023-04-10T03:28:06.482Z"
   },
   {
    "duration": 7,
    "start_time": "2023-04-10T03:28:06.551Z"
   },
   {
    "duration": 254,
    "start_time": "2023-04-10T03:28:06.559Z"
   },
   {
    "duration": 164,
    "start_time": "2023-04-10T03:28:06.815Z"
   },
   {
    "duration": 10,
    "start_time": "2023-04-10T03:28:06.986Z"
   },
   {
    "duration": 17,
    "start_time": "2023-04-10T03:28:06.998Z"
   },
   {
    "duration": 17,
    "start_time": "2023-04-10T03:28:07.017Z"
   },
   {
    "duration": 56,
    "start_time": "2023-04-10T03:28:07.036Z"
   },
   {
    "duration": 63,
    "start_time": "2023-04-10T03:28:07.094Z"
   },
   {
    "duration": 42,
    "start_time": "2023-04-10T03:28:07.169Z"
   },
   {
    "duration": 46,
    "start_time": "2023-04-10T03:28:07.214Z"
   },
   {
    "duration": 34,
    "start_time": "2023-04-10T03:28:07.267Z"
   },
   {
    "duration": 70,
    "start_time": "2023-04-10T03:28:07.302Z"
   },
   {
    "duration": 30,
    "start_time": "2023-04-10T03:28:07.374Z"
   },
   {
    "duration": 23,
    "start_time": "2023-04-10T03:28:07.406Z"
   },
   {
    "duration": 78,
    "start_time": "2023-04-10T03:28:07.431Z"
   },
   {
    "duration": 5,
    "start_time": "2023-04-10T03:28:07.511Z"
   },
   {
    "duration": 85,
    "start_time": "2023-04-10T03:28:07.517Z"
   },
   {
    "duration": 87,
    "start_time": "2023-04-10T03:28:07.604Z"
   },
   {
    "duration": 6,
    "start_time": "2023-04-10T03:28:07.695Z"
   },
   {
    "duration": 284,
    "start_time": "2023-04-10T03:28:07.703Z"
   },
   {
    "duration": 37,
    "start_time": "2023-04-10T03:28:07.989Z"
   },
   {
    "duration": 28,
    "start_time": "2023-04-10T03:28:08.028Z"
   },
   {
    "duration": 29,
    "start_time": "2023-04-10T03:28:23.374Z"
   },
   {
    "duration": 9,
    "start_time": "2023-04-10T03:28:30.153Z"
   },
   {
    "duration": 45,
    "start_time": "2023-04-10T03:28:30.676Z"
   },
   {
    "duration": 3,
    "start_time": "2023-04-10T03:28:30.821Z"
   },
   {
    "duration": 12,
    "start_time": "2023-04-10T03:28:30.997Z"
   },
   {
    "duration": 14,
    "start_time": "2023-04-10T03:28:31.498Z"
   },
   {
    "duration": 23,
    "start_time": "2023-04-10T03:28:32.177Z"
   },
   {
    "duration": 93,
    "start_time": "2023-04-10T03:28:33.226Z"
   },
   {
    "duration": 13,
    "start_time": "2023-04-10T03:28:33.405Z"
   },
   {
    "duration": 17,
    "start_time": "2023-04-10T03:28:33.588Z"
   },
   {
    "duration": 36,
    "start_time": "2023-04-10T03:28:33.767Z"
   },
   {
    "duration": 17,
    "start_time": "2023-04-10T03:28:33.969Z"
   },
   {
    "duration": 4,
    "start_time": "2023-04-10T03:28:34.113Z"
   },
   {
    "duration": 20,
    "start_time": "2023-04-10T03:28:34.634Z"
   },
   {
    "duration": 6,
    "start_time": "2023-04-10T03:28:34.819Z"
   },
   {
    "duration": 91,
    "start_time": "2023-04-10T03:28:35.174Z"
   },
   {
    "duration": 11,
    "start_time": "2023-04-10T03:28:35.362Z"
   },
   {
    "duration": 19,
    "start_time": "2023-04-10T03:28:35.573Z"
   },
   {
    "duration": 12,
    "start_time": "2023-04-10T03:28:35.811Z"
   },
   {
    "duration": 14,
    "start_time": "2023-04-10T03:28:36.206Z"
   },
   {
    "duration": 66,
    "start_time": "2023-04-10T03:28:36.398Z"
   },
   {
    "duration": 197,
    "start_time": "2023-04-10T03:28:36.803Z"
   },
   {
    "duration": 102,
    "start_time": "2023-04-10T03:28:37.196Z"
   },
   {
    "duration": 10,
    "start_time": "2023-04-10T03:28:38.767Z"
   },
   {
    "duration": 196,
    "start_time": "2023-04-10T03:28:39.067Z"
   },
   {
    "duration": 168,
    "start_time": "2023-04-10T03:28:39.282Z"
   },
   {
    "duration": 9,
    "start_time": "2023-04-10T03:28:39.570Z"
   },
   {
    "duration": 7,
    "start_time": "2023-04-10T03:28:39.784Z"
   },
   {
    "duration": 7,
    "start_time": "2023-04-10T03:28:40.305Z"
   },
   {
    "duration": 12,
    "start_time": "2023-04-10T03:28:40.764Z"
   },
   {
    "duration": 28,
    "start_time": "2023-04-10T03:28:40.968Z"
   },
   {
    "duration": 19,
    "start_time": "2023-04-10T03:28:43.491Z"
   },
   {
    "duration": 27,
    "start_time": "2023-04-10T03:28:44.981Z"
   },
   {
    "duration": 10,
    "start_time": "2023-04-10T03:28:48.441Z"
   },
   {
    "duration": 17,
    "start_time": "2023-04-10T03:28:49.091Z"
   },
   {
    "duration": 10,
    "start_time": "2023-04-10T03:28:51.717Z"
   },
   {
    "duration": 45,
    "start_time": "2023-04-10T03:28:52.037Z"
   },
   {
    "duration": 125,
    "start_time": "2023-04-10T03:28:57.396Z"
   },
   {
    "duration": 12,
    "start_time": "2023-04-10T03:29:02.371Z"
   },
   {
    "duration": 83,
    "start_time": "2023-04-10T03:29:11.382Z"
   },
   {
    "duration": 84,
    "start_time": "2023-04-10T03:29:14.793Z"
   },
   {
    "duration": 11,
    "start_time": "2023-04-10T03:29:18.766Z"
   },
   {
    "duration": 238,
    "start_time": "2023-04-10T03:29:22.671Z"
   },
   {
    "duration": 50,
    "start_time": "2023-04-10T03:29:23.266Z"
   },
   {
    "duration": 11,
    "start_time": "2023-04-10T03:29:28.786Z"
   },
   {
    "duration": 18,
    "start_time": "2023-04-10T03:30:06.397Z"
   },
   {
    "duration": 18,
    "start_time": "2023-04-10T03:30:21.786Z"
   },
   {
    "duration": 11,
    "start_time": "2023-04-10T03:30:34.470Z"
   },
   {
    "duration": 39,
    "start_time": "2023-04-10T03:30:34.841Z"
   },
   {
    "duration": 25,
    "start_time": "2023-04-10T03:30:44.782Z"
   },
   {
    "duration": 1339,
    "start_time": "2023-04-10T03:30:58.000Z"
   },
   {
    "duration": 46,
    "start_time": "2023-04-10T03:30:59.347Z"
   },
   {
    "duration": 3,
    "start_time": "2023-04-10T03:30:59.395Z"
   },
   {
    "duration": 16,
    "start_time": "2023-04-10T03:30:59.400Z"
   },
   {
    "duration": 12,
    "start_time": "2023-04-10T03:30:59.418Z"
   },
   {
    "duration": 11,
    "start_time": "2023-04-10T03:30:59.432Z"
   },
   {
    "duration": 85,
    "start_time": "2023-04-10T03:30:59.445Z"
   },
   {
    "duration": 25,
    "start_time": "2023-04-10T03:30:59.532Z"
   },
   {
    "duration": 36,
    "start_time": "2023-04-10T03:30:59.561Z"
   },
   {
    "duration": 29,
    "start_time": "2023-04-10T03:30:59.601Z"
   },
   {
    "duration": 15,
    "start_time": "2023-04-10T03:30:59.632Z"
   },
   {
    "duration": 40,
    "start_time": "2023-04-10T03:30:59.656Z"
   },
   {
    "duration": 21,
    "start_time": "2023-04-10T03:30:59.698Z"
   },
   {
    "duration": 19,
    "start_time": "2023-04-10T03:30:59.720Z"
   },
   {
    "duration": 501,
    "start_time": "2023-04-10T03:30:59.743Z"
   },
   {
    "duration": 6,
    "start_time": "2023-04-10T03:31:00.246Z"
   },
   {
    "duration": 97,
    "start_time": "2023-04-10T03:31:00.254Z"
   },
   {
    "duration": 105,
    "start_time": "2023-04-10T03:31:00.353Z"
   },
   {
    "duration": 85,
    "start_time": "2023-04-10T03:31:00.460Z"
   },
   {
    "duration": 224,
    "start_time": "2023-04-10T03:31:00.557Z"
   },
   {
    "duration": 109,
    "start_time": "2023-04-10T03:31:00.784Z"
   },
   {
    "duration": 200,
    "start_time": "2023-04-10T03:31:00.894Z"
   },
   {
    "duration": 7,
    "start_time": "2023-04-10T03:31:01.098Z"
   },
   {
    "duration": 224,
    "start_time": "2023-04-10T03:31:01.107Z"
   },
   {
    "duration": 133,
    "start_time": "2023-04-10T03:31:01.333Z"
   },
   {
    "duration": 9,
    "start_time": "2023-04-10T03:31:01.468Z"
   },
   {
    "duration": 34,
    "start_time": "2023-04-10T03:31:01.478Z"
   },
   {
    "duration": 66,
    "start_time": "2023-04-10T03:31:01.516Z"
   },
   {
    "duration": 33,
    "start_time": "2023-04-10T03:31:01.584Z"
   },
   {
    "duration": 95,
    "start_time": "2023-04-10T03:31:01.619Z"
   },
   {
    "duration": 67,
    "start_time": "2023-04-10T03:31:01.716Z"
   },
   {
    "duration": 51,
    "start_time": "2023-04-10T03:31:01.785Z"
   },
   {
    "duration": 53,
    "start_time": "2023-04-10T03:31:01.838Z"
   },
   {
    "duration": 23,
    "start_time": "2023-04-10T03:31:01.894Z"
   },
   {
    "duration": 17,
    "start_time": "2023-04-10T03:31:01.919Z"
   },
   {
    "duration": 73,
    "start_time": "2023-04-10T03:31:01.938Z"
   },
   {
    "duration": 80,
    "start_time": "2023-04-10T03:31:02.013Z"
   },
   {
    "duration": 5,
    "start_time": "2023-04-10T03:31:02.094Z"
   },
   {
    "duration": 83,
    "start_time": "2023-04-10T03:31:02.101Z"
   },
   {
    "duration": 70,
    "start_time": "2023-04-10T03:31:02.187Z"
   },
   {
    "duration": 6,
    "start_time": "2023-04-10T03:31:02.259Z"
   },
   {
    "duration": 260,
    "start_time": "2023-04-10T03:31:02.266Z"
   },
   {
    "duration": 53,
    "start_time": "2023-04-10T03:31:02.527Z"
   },
   {
    "duration": 23,
    "start_time": "2023-04-10T03:31:02.584Z"
   },
   {
    "duration": 42,
    "start_time": "2023-04-10T03:31:02.608Z"
   },
   {
    "duration": 50,
    "start_time": "2023-04-10T03:31:02.661Z"
   },
   {
    "duration": 48,
    "start_time": "2023-04-10T03:31:02.713Z"
   },
   {
    "duration": 40,
    "start_time": "2023-04-10T03:31:02.762Z"
   },
   {
    "duration": 4,
    "start_time": "2023-04-10T03:32:49.420Z"
   },
   {
    "duration": 32,
    "start_time": "2023-04-10T03:32:49.962Z"
   },
   {
    "duration": 3,
    "start_time": "2023-04-10T03:32:50.133Z"
   },
   {
    "duration": 8,
    "start_time": "2023-04-10T03:32:50.317Z"
   },
   {
    "duration": 20,
    "start_time": "2023-04-10T03:32:50.862Z"
   },
   {
    "duration": 18,
    "start_time": "2023-04-10T03:32:51.568Z"
   },
   {
    "duration": 72,
    "start_time": "2023-04-10T03:32:52.692Z"
   },
   {
    "duration": 18,
    "start_time": "2023-04-10T03:32:52.870Z"
   },
   {
    "duration": 19,
    "start_time": "2023-04-10T03:32:53.067Z"
   },
   {
    "duration": 27,
    "start_time": "2023-04-10T03:32:53.264Z"
   },
   {
    "duration": 12,
    "start_time": "2023-04-10T03:32:53.491Z"
   },
   {
    "duration": 5,
    "start_time": "2023-04-10T03:32:53.700Z"
   },
   {
    "duration": 17,
    "start_time": "2023-04-10T03:32:54.236Z"
   },
   {
    "duration": 9,
    "start_time": "2023-04-10T03:32:54.436Z"
   },
   {
    "duration": 86,
    "start_time": "2023-04-10T03:32:54.812Z"
   },
   {
    "duration": 6,
    "start_time": "2023-04-10T03:32:55.003Z"
   },
   {
    "duration": 16,
    "start_time": "2023-04-10T03:32:55.568Z"
   },
   {
    "duration": 12,
    "start_time": "2023-04-10T03:32:55.791Z"
   },
   {
    "duration": 10,
    "start_time": "2023-04-10T03:32:56.483Z"
   },
   {
    "duration": 86,
    "start_time": "2023-04-10T03:32:56.692Z"
   },
   {
    "duration": 88,
    "start_time": "2023-04-10T03:32:57.202Z"
   },
   {
    "duration": 61,
    "start_time": "2023-04-10T03:32:57.669Z"
   },
   {
    "duration": 6,
    "start_time": "2023-04-10T03:32:59.515Z"
   },
   {
    "duration": 214,
    "start_time": "2023-04-10T03:32:59.872Z"
   },
   {
    "duration": 132,
    "start_time": "2023-04-10T03:33:00.265Z"
   },
   {
    "duration": 17,
    "start_time": "2023-04-10T03:33:00.541Z"
   },
   {
    "duration": 5,
    "start_time": "2023-04-10T03:33:00.799Z"
   },
   {
    "duration": 7,
    "start_time": "2023-04-10T03:33:01.182Z"
   },
   {
    "duration": 6,
    "start_time": "2023-04-10T03:33:01.376Z"
   },
   {
    "duration": 16,
    "start_time": "2023-04-10T03:33:01.591Z"
   },
   {
    "duration": 17,
    "start_time": "2023-04-10T03:33:02.923Z"
   },
   {
    "duration": 19,
    "start_time": "2023-04-10T03:33:03.716Z"
   },
   {
    "duration": 6,
    "start_time": "2023-04-10T03:33:05.479Z"
   },
   {
    "duration": 17,
    "start_time": "2023-04-10T03:33:05.692Z"
   },
   {
    "duration": 11,
    "start_time": "2023-04-10T03:33:06.870Z"
   },
   {
    "duration": 14,
    "start_time": "2023-04-10T03:33:07.109Z"
   },
   {
    "duration": 1586,
    "start_time": "2023-04-10T06:01:14.915Z"
   },
   {
    "duration": 64,
    "start_time": "2023-04-10T06:01:16.503Z"
   },
   {
    "duration": 3,
    "start_time": "2023-04-10T06:01:16.568Z"
   },
   {
    "duration": 15,
    "start_time": "2023-04-10T06:01:16.573Z"
   },
   {
    "duration": 37,
    "start_time": "2023-04-10T06:01:16.589Z"
   },
   {
    "duration": 18,
    "start_time": "2023-04-10T06:01:16.628Z"
   },
   {
    "duration": 67,
    "start_time": "2023-04-10T06:01:16.648Z"
   },
   {
    "duration": 15,
    "start_time": "2023-04-10T06:01:16.717Z"
   },
   {
    "duration": 22,
    "start_time": "2023-04-10T06:01:16.735Z"
   },
   {
    "duration": 61,
    "start_time": "2023-04-10T06:01:16.761Z"
   },
   {
    "duration": 14,
    "start_time": "2023-04-10T06:01:16.829Z"
   },
   {
    "duration": 5,
    "start_time": "2023-04-10T06:01:16.845Z"
   },
   {
    "duration": 13,
    "start_time": "2023-04-10T06:01:16.851Z"
   },
   {
    "duration": 6,
    "start_time": "2023-04-10T06:01:16.865Z"
   },
   {
    "duration": 569,
    "start_time": "2023-04-10T06:01:16.872Z"
   },
   {
    "duration": 5,
    "start_time": "2023-04-10T06:01:17.443Z"
   },
   {
    "duration": 11,
    "start_time": "2023-04-10T06:01:17.451Z"
   },
   {
    "duration": 9,
    "start_time": "2023-04-10T06:01:17.464Z"
   },
   {
    "duration": 19,
    "start_time": "2023-04-10T06:01:17.525Z"
   },
   {
    "duration": 124,
    "start_time": "2023-04-10T06:01:17.546Z"
   },
   {
    "duration": 86,
    "start_time": "2023-04-10T06:01:17.672Z"
   },
   {
    "duration": 148,
    "start_time": "2023-04-10T06:01:17.760Z"
   },
   {
    "duration": 21,
    "start_time": "2023-04-10T06:01:17.910Z"
   },
   {
    "duration": 184,
    "start_time": "2023-04-10T06:01:17.933Z"
   },
   {
    "duration": 144,
    "start_time": "2023-04-10T06:01:18.119Z"
   },
   {
    "duration": 8,
    "start_time": "2023-04-10T06:01:18.264Z"
   },
   {
    "duration": 11,
    "start_time": "2023-04-10T06:01:18.274Z"
   },
   {
    "duration": 8,
    "start_time": "2023-04-10T06:01:18.290Z"
   },
   {
    "duration": 29,
    "start_time": "2023-04-10T06:01:18.300Z"
   },
   {
    "duration": 19,
    "start_time": "2023-04-10T06:01:18.339Z"
   },
   {
    "duration": 19,
    "start_time": "2023-04-10T06:01:18.360Z"
   },
   {
    "duration": 52,
    "start_time": "2023-04-10T06:01:18.381Z"
   },
   {
    "duration": 9,
    "start_time": "2023-04-10T06:01:18.435Z"
   },
   {
    "duration": 34,
    "start_time": "2023-04-10T06:01:18.446Z"
   },
   {
    "duration": 11,
    "start_time": "2023-04-10T06:01:18.482Z"
   },
   {
    "duration": 32,
    "start_time": "2023-04-10T06:01:18.495Z"
   },
   {
    "duration": 79,
    "start_time": "2023-04-10T06:01:18.529Z"
   },
   {
    "duration": 14,
    "start_time": "2023-04-10T06:01:18.625Z"
   },
   {
    "duration": 63,
    "start_time": "2023-04-10T06:01:18.642Z"
   },
   {
    "duration": 98,
    "start_time": "2023-04-10T06:01:18.708Z"
   },
   {
    "duration": 18,
    "start_time": "2023-04-10T06:01:18.808Z"
   },
   {
    "duration": 239,
    "start_time": "2023-04-10T06:01:18.828Z"
   },
   {
    "duration": 35,
    "start_time": "2023-04-10T06:01:19.069Z"
   },
   {
    "duration": 30,
    "start_time": "2023-04-10T06:01:19.106Z"
   },
   {
    "duration": 18,
    "start_time": "2023-04-10T06:01:19.140Z"
   },
   {
    "duration": 19,
    "start_time": "2023-04-10T06:01:19.160Z"
   },
   {
    "duration": 58,
    "start_time": "2023-04-10T06:01:19.180Z"
   },
   {
    "duration": 16,
    "start_time": "2023-04-10T06:01:19.240Z"
   },
   {
    "duration": 1592,
    "start_time": "2023-06-19T10:24:42.797Z"
   },
   {
    "duration": 90,
    "start_time": "2023-06-19T10:24:44.393Z"
   },
   {
    "duration": 5,
    "start_time": "2023-06-19T10:24:44.485Z"
   },
   {
    "duration": 14,
    "start_time": "2023-06-19T10:24:44.493Z"
   },
   {
    "duration": 13,
    "start_time": "2023-06-19T10:24:44.508Z"
   },
   {
    "duration": 12,
    "start_time": "2023-06-19T10:24:44.523Z"
   },
   {
    "duration": 135,
    "start_time": "2023-06-19T10:24:44.536Z"
   },
   {
    "duration": 15,
    "start_time": "2023-06-19T10:24:44.673Z"
   },
   {
    "duration": 17,
    "start_time": "2023-06-19T10:24:44.690Z"
   },
   {
    "duration": 112,
    "start_time": "2023-06-19T10:24:44.710Z"
   },
   {
    "duration": 11,
    "start_time": "2023-06-19T10:24:44.824Z"
   },
   {
    "duration": 32,
    "start_time": "2023-06-19T10:24:44.838Z"
   },
   {
    "duration": 30,
    "start_time": "2023-06-19T10:24:44.871Z"
   },
   {
    "duration": 19,
    "start_time": "2023-06-19T10:24:44.903Z"
   },
   {
    "duration": 673,
    "start_time": "2023-06-19T10:24:44.924Z"
   },
   {
    "duration": 8,
    "start_time": "2023-06-19T10:24:45.599Z"
   },
   {
    "duration": 13,
    "start_time": "2023-06-19T10:24:45.609Z"
   },
   {
    "duration": 35,
    "start_time": "2023-06-19T10:24:45.625Z"
   },
   {
    "duration": 12,
    "start_time": "2023-06-19T10:24:45.662Z"
   },
   {
    "duration": 127,
    "start_time": "2023-06-19T10:24:45.676Z"
   },
   {
    "duration": 117,
    "start_time": "2023-06-19T10:24:45.804Z"
   },
   {
    "duration": 189,
    "start_time": "2023-06-19T10:24:45.924Z"
   },
   {
    "duration": 7,
    "start_time": "2023-06-19T10:24:46.115Z"
   },
   {
    "duration": 248,
    "start_time": "2023-06-19T10:24:46.124Z"
   },
   {
    "duration": 195,
    "start_time": "2023-06-19T10:24:46.374Z"
   },
   {
    "duration": 14,
    "start_time": "2023-06-19T10:24:46.574Z"
   },
   {
    "duration": 19,
    "start_time": "2023-06-19T10:24:46.590Z"
   },
   {
    "duration": 14,
    "start_time": "2023-06-19T10:24:46.613Z"
   },
   {
    "duration": 13,
    "start_time": "2023-06-19T10:24:46.630Z"
   },
   {
    "duration": 45,
    "start_time": "2023-06-19T10:24:46.645Z"
   },
   {
    "duration": 21,
    "start_time": "2023-06-19T10:24:46.692Z"
   },
   {
    "duration": 21,
    "start_time": "2023-06-19T10:24:46.716Z"
   },
   {
    "duration": 27,
    "start_time": "2023-06-19T10:24:46.739Z"
   },
   {
    "duration": 30,
    "start_time": "2023-06-19T10:24:46.767Z"
   },
   {
    "duration": 8,
    "start_time": "2023-06-19T10:24:46.799Z"
   },
   {
    "duration": 23,
    "start_time": "2023-06-19T10:24:46.809Z"
   },
   {
    "duration": 143,
    "start_time": "2023-06-19T10:24:46.834Z"
   },
   {
    "duration": 5,
    "start_time": "2023-06-19T10:24:46.978Z"
   },
   {
    "duration": 104,
    "start_time": "2023-06-19T10:24:46.986Z"
   },
   {
    "duration": 70,
    "start_time": "2023-06-19T10:24:47.093Z"
   },
   {
    "duration": 10,
    "start_time": "2023-06-19T10:24:47.165Z"
   },
   {
    "duration": 264,
    "start_time": "2023-06-19T10:24:47.180Z"
   },
   {
    "duration": 60,
    "start_time": "2023-06-19T10:24:47.446Z"
   },
   {
    "duration": 16,
    "start_time": "2023-06-19T10:24:47.509Z"
   },
   {
    "duration": 38,
    "start_time": "2023-06-19T10:24:47.527Z"
   },
   {
    "duration": 13,
    "start_time": "2023-06-19T10:24:47.568Z"
   },
   {
    "duration": 286,
    "start_time": "2023-06-19T10:24:47.586Z"
   },
   {
    "duration": 29,
    "start_time": "2023-06-19T10:24:47.873Z"
   }
  ],
  "kernelspec": {
   "display_name": "Python 3 (ipykernel)",
   "language": "python",
   "name": "python3"
  },
  "language_info": {
   "codemirror_mode": {
    "name": "ipython",
    "version": 3
   },
   "file_extension": ".py",
   "mimetype": "text/x-python",
   "name": "python",
   "nbconvert_exporter": "python",
   "pygments_lexer": "ipython3",
   "version": "3.9.12"
  },
  "toc": {
   "base_numbering": 1,
   "nav_menu": {},
   "number_sections": true,
   "sideBar": true,
   "skip_h1_title": true,
   "title_cell": "Table of Contents",
   "title_sidebar": "Contents",
   "toc_cell": false,
   "toc_position": {},
   "toc_section_display": true,
   "toc_window_display": true
  }
 },
 "nbformat": 4,
 "nbformat_minor": 2
}
